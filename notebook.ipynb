{
    "cells": [
        {
            "cell_type": "markdown",
            "metadata": {
                "formattedRanges": [],
                "cell_id": "30daf520895e4e3ab1b65d3c46094095",
                "deepnote_cell_type": "text-cell-h1"
            },
            "source": "# What factors influence or are correlated with the share of low-carbon energy sources in a country's energy mix?",
            "block_group": "9193215fbae94127a851918c52d85b19"
        },
        {
            "cell_type": "markdown",
            "metadata": {
                "cell_id": "39814a6c8ef44416a5e96fb8f1b615d8",
                "deepnote_cell_type": "markdown"
            },
            "source": "## Table Of Contents <a class=\"anchor\" id=\"table_of_contents\"></a>\n\n* [Goals](#goals)\n* [Data](#data)\n* [Loading the data](#loading_the_data)\n* [First global visualization](#first_global_visualization)\n* [Data Information](#data_information)\n* [Data Cleaning](#data_cleaning)\n* [Data Analysis](#data_analysis)\n* [Conclusion](#conclusion)",
            "block_group": "29685c69c77f48bab6613223c502a9e0"
        },
        {
            "cell_type": "markdown",
            "metadata": {
                "cell_id": "98464a92b5f142349625ca80a2227794",
                "deepnote_cell_type": "markdown"
            },
            "source": "### Goals <a class=\"anchor\" id=\"goals\"></a>\n\nThe set of objectives for this project are the following:\n\n* Get familiar with the data\n* Clean the data so it is ready for analysis\n* Develop some questions for analysis\n* Analyze variables within the data to gain patterns and insights on these questions",
            "block_group": "1f89789a5ec94a7c83156d74847a68fe"
        },
        {
            "cell_type": "markdown",
            "metadata": {
                "cell_id": "123bd2cebee24fa6939bce6a42abf7d0",
                "deepnote_cell_type": "markdown"
            },
            "source": "#### Data <a class=\"anchor\" id=\"data\"></a>\n\n* The data for this project was downloaded from this link: https://www.kaggle.com/datasets/anshtanwar/global-data-on-sustainable-energy/data\n* Information regarding the features for the data are located in the `Column` section on the website",
            "block_group": "d2f64bb0e42d4da0be1daa2870af598c"
        },
        {
            "cell_type": "markdown",
            "metadata": {
                "cell_id": "e269aab7e51f491c88bb266ceecaa779",
                "deepnote_cell_type": "markdown"
            },
            "source": "##### Loading the data <a class=\"anchor\" id=\"loading_the_data\"></a>\n\n* First, the necessary libraries are loaded into the notebook.\n* The pandas library is used to import data from marketing_data.csv and preview the first five rows of the DataFrame.",
            "block_group": "4a7161a2e07c4caf9fc7bce56765a37b"
        },
        {
            "cell_type": "code",
            "metadata": {
                "source_hash": "24b26b86",
                "execution_start": 1737560891600,
                "execution_millis": 2241,
                "execution_context_id": "dbadad4c-faad-44ce-ade4-0c11c20b3652",
                "cell_id": "0032831fdc5e4192a2b53f59a3e917eb",
                "deepnote_cell_type": "code"
            },
            "source": "import pandas as pd\nimport numpy as np\nimport matplotlib.pyplot as plt\nimport seaborn as sns",
            "block_group": "eaede8cd19e44d9e91d0b76f3b0f3d4c",
            "execution_count": 1,
            "outputs": [],
            "outputs_reference": null,
            "content_dependencies": null
        },
        {
            "cell_type": "code",
            "metadata": {
                "source_hash": "78ea9e5e",
                "execution_start": 1737560895243,
                "execution_millis": 288,
                "execution_context_id": "dbadad4c-faad-44ce-ade4-0c11c20b3652",
                "cell_id": "806732188ec043e5962624c691e53534",
                "deepnote_cell_type": "code"
            },
            "source": "df = pd.read_csv('sustainable_energy.csv')",
            "block_group": "eb0772a273104a959f0e44822f627b56",
            "execution_count": 3,
            "outputs": [],
            "outputs_reference": null,
            "content_dependencies": null
        },
        {
            "cell_type": "markdown",
            "metadata": {
                "cell_id": "fe14223554c94f4b889ecd83d8a8f6bf",
                "deepnote_cell_type": "markdown"
            },
            "source": "#### First global visualization <a class=\"anchor\" id=\"first_global_visualization\"></a>",
            "block_group": "a319a1b31ae7423d900b160b218e1ac4"
        },
        {
            "cell_type": "code",
            "metadata": {
                "source_hash": "59cdd0ab",
                "execution_start": 1737556233908,
                "execution_millis": 73,
                "sql_integration_id": "deepnote-dataframe-sql",
                "deepnote_table_state": {
                    "sortBy": [],
                    "filters": [],
                    "pageSize": 10,
                    "pageIndex": 1,
                    "columnOrder": [
                        "Entity",
                        "Year",
                        "Access to electricity (% of population)",
                        "Access to clean fuels for cooking",
                        "Renewable-electricity-generating-capacity-per-capita",
                        "Financial flows to developing countries (US $)",
                        "Renewable energy share in the total final energy consumption (%)",
                        "Electricity from fossil fuels (TWh)",
                        "Electricity from nuclear (TWh)",
                        "Electricity from renewables (TWh)",
                        "Low-carbon electricity (% electricity)",
                        "Primary energy consumption per capita (kWh/person)",
                        "Energy intensity level of primary energy (MJ/$2017 PPP GDP)",
                        "Value_co2_emissions_kt_by_country",
                        "Renewables (% equivalent primary energy)",
                        "gdp_growth",
                        "gdp_per_capita",
                        "Density\\n(P/Km2)",
                        "Land Area(Km2)",
                        "Latitude",
                        "Longitude"
                    ],
                    "hiddenColumnIds": [],
                    "columnDisplayNames": [],
                    "conditionalFilters": [],
                    "cellFormattingRules": [],
                    "wrappedTextColumnIds": []
                },
                "execution_context_id": "692cbec1-1944-4c5d-bb67-4d3df92c9c7d",
                "deepnote_table_loading": false,
                "deepnote_variable_name": "df",
                "cell_id": "9d62d242f65c4a1484cc1020c0f6087c",
                "deepnote_cell_type": "sql",
                "deepnote_sql_source": "SELECT * FROM df;"
            },
            "source": "df = (lambda: _deepnote_execute_sql('SELECT * FROM df;', 'SQL_DEEPNOTE_DATAFRAME_SQL', audit_sql_comment='', sql_cache_mode='cache_disabled') if '_deepnote_execute_sql' in globals() else _dntk.execute_sql('SELECT * FROM df;', 'SQL_DEEPNOTE_DATAFRAME_SQL', audit_sql_comment='', sql_cache_mode='cache_disabled'))()\ndf",
            "block_group": "5e4ad481275d4f059eec0a6d80693dc6",
            "execution_count": 7,
            "outputs": [
                {
                    "output_type": "execute_result",
                    "execution_count": 7,
                    "data": {
                        "application/vnd.deepnote.dataframe.v3+json": {
                            "column_count": 21,
                            "row_count": 3649,
                            "columns": [
                                {
                                    "name": "Entity",
                                    "dtype": "object",
                                    "stats": {
                                        "unique_count": 176,
                                        "nan_count": 0,
                                        "categories": [
                                            {
                                                "name": "Afghanistan",
                                                "count": 21
                                            },
                                            {
                                                "name": "Albania",
                                                "count": 21
                                            },
                                            {
                                                "name": "174 others",
                                                "count": 3607
                                            }
                                        ]
                                    }
                                },
                                {
                                    "name": "Year",
                                    "dtype": "int64",
                                    "stats": {
                                        "unique_count": 21,
                                        "nan_count": 0,
                                        "min": "2000",
                                        "max": "2020",
                                        "histogram": [
                                            {
                                                "bin_start": 2000,
                                                "bin_end": 2002,
                                                "count": 345
                                            },
                                            {
                                                "bin_start": 2002,
                                                "bin_end": 2004,
                                                "count": 344
                                            },
                                            {
                                                "bin_start": 2004,
                                                "bin_end": 2006,
                                                "count": 344
                                            },
                                            {
                                                "bin_start": 2006,
                                                "bin_end": 2008,
                                                "count": 346
                                            },
                                            {
                                                "bin_start": 2008,
                                                "bin_end": 2010,
                                                "count": 348
                                            },
                                            {
                                                "bin_start": 2010,
                                                "bin_end": 2012,
                                                "count": 348
                                            },
                                            {
                                                "bin_start": 2012,
                                                "bin_end": 2014,
                                                "count": 349
                                            },
                                            {
                                                "bin_start": 2014,
                                                "bin_end": 2016,
                                                "count": 350
                                            },
                                            {
                                                "bin_start": 2016,
                                                "bin_end": 2018,
                                                "count": 350
                                            },
                                            {
                                                "bin_start": 2018,
                                                "bin_end": 2020,
                                                "count": 525
                                            }
                                        ]
                                    }
                                },
                                {
                                    "name": "Access to electricity (% of population)",
                                    "dtype": "float64",
                                    "stats": {
                                        "unique_count": 2040,
                                        "nan_count": 10,
                                        "min": "1.2522693",
                                        "max": "100.0",
                                        "histogram": [
                                            {
                                                "bin_start": 1.2522693,
                                                "bin_end": 11.12704237,
                                                "count": 151
                                            },
                                            {
                                                "bin_start": 11.12704237,
                                                "bin_end": 21.00181544,
                                                "count": 167
                                            },
                                            {
                                                "bin_start": 21.00181544,
                                                "bin_end": 30.876588509999998,
                                                "count": 135
                                            },
                                            {
                                                "bin_start": 30.876588509999998,
                                                "bin_end": 40.75136158,
                                                "count": 162
                                            },
                                            {
                                                "bin_start": 40.75136158,
                                                "bin_end": 50.626134650000004,
                                                "count": 159
                                            },
                                            {
                                                "bin_start": 50.626134650000004,
                                                "bin_end": 60.50090772,
                                                "count": 147
                                            },
                                            {
                                                "bin_start": 60.50090772,
                                                "bin_end": 70.37568078999999,
                                                "count": 114
                                            },
                                            {
                                                "bin_start": 70.37568078999999,
                                                "bin_end": 80.25045386,
                                                "count": 146
                                            },
                                            {
                                                "bin_start": 80.25045386,
                                                "bin_end": 90.12522693,
                                                "count": 227
                                            },
                                            {
                                                "bin_start": 90.12522693,
                                                "bin_end": 100,
                                                "count": 2231
                                            }
                                        ]
                                    }
                                },
                                {
                                    "name": "Access to clean fuels for cooking",
                                    "dtype": "float64",
                                    "stats": {
                                        "unique_count": 896,
                                        "nan_count": 169,
                                        "min": "0.0",
                                        "max": "100.0",
                                        "histogram": [
                                            {
                                                "bin_start": 0,
                                                "bin_end": 10,
                                                "count": 682
                                            },
                                            {
                                                "bin_start": 10,
                                                "bin_end": 20,
                                                "count": 136
                                            },
                                            {
                                                "bin_start": 20,
                                                "bin_end": 30,
                                                "count": 156
                                            },
                                            {
                                                "bin_start": 30,
                                                "bin_end": 40,
                                                "count": 153
                                            },
                                            {
                                                "bin_start": 40,
                                                "bin_end": 50,
                                                "count": 188
                                            },
                                            {
                                                "bin_start": 50,
                                                "bin_end": 60,
                                                "count": 101
                                            },
                                            {
                                                "bin_start": 60,
                                                "bin_end": 70,
                                                "count": 129
                                            },
                                            {
                                                "bin_start": 70,
                                                "bin_end": 80,
                                                "count": 131
                                            },
                                            {
                                                "bin_start": 80,
                                                "bin_end": 90,
                                                "count": 275
                                            },
                                            {
                                                "bin_start": 90,
                                                "bin_end": 100,
                                                "count": 1529
                                            }
                                        ]
                                    }
                                },
                                {
                                    "name": "Renewable-electricity-generating-capacity-per-capita",
                                    "dtype": "float64",
                                    "stats": {
                                        "unique_count": 2110,
                                        "nan_count": 931,
                                        "min": "0.0",
                                        "max": "3060.19",
                                        "histogram": [
                                            {
                                                "bin_start": 0,
                                                "bin_end": 306.019,
                                                "count": 2435
                                            },
                                            {
                                                "bin_start": 306.019,
                                                "bin_end": 612.038,
                                                "count": 199
                                            },
                                            {
                                                "bin_start": 612.038,
                                                "bin_end": 918.057,
                                                "count": 43
                                            },
                                            {
                                                "bin_start": 918.057,
                                                "bin_end": 1224.076,
                                                "count": 6
                                            },
                                            {
                                                "bin_start": 1224.076,
                                                "bin_end": 1530.095,
                                                "count": 21
                                            },
                                            {
                                                "bin_start": 1530.095,
                                                "bin_end": 1836.114,
                                                "count": 0
                                            },
                                            {
                                                "bin_start": 1836.114,
                                                "bin_end": 2142.133,
                                                "count": 4
                                            },
                                            {
                                                "bin_start": 2142.133,
                                                "bin_end": 2448.152,
                                                "count": 8
                                            },
                                            {
                                                "bin_start": 2448.152,
                                                "bin_end": 2754.1710000000003,
                                                "count": 0
                                            },
                                            {
                                                "bin_start": 2754.1710000000003,
                                                "bin_end": 3060.19,
                                                "count": 2
                                            }
                                        ]
                                    }
                                },
                                {
                                    "name": "Financial flows to developing countries (US $)",
                                    "dtype": "float64",
                                    "stats": {
                                        "unique_count": 1017,
                                        "nan_count": 2089,
                                        "min": "0.0",
                                        "max": "5202310000.0",
                                        "histogram": [
                                            {
                                                "bin_start": 0,
                                                "bin_end": 520231000,
                                                "count": 1500
                                            },
                                            {
                                                "bin_start": 520231000,
                                                "bin_end": 1040462000,
                                                "count": 35
                                            },
                                            {
                                                "bin_start": 1040462000,
                                                "bin_end": 1560693000,
                                                "count": 15
                                            },
                                            {
                                                "bin_start": 1560693000,
                                                "bin_end": 2080924000,
                                                "count": 4
                                            },
                                            {
                                                "bin_start": 2080924000,
                                                "bin_end": 2601155000,
                                                "count": 2
                                            },
                                            {
                                                "bin_start": 2601155000,
                                                "bin_end": 3121386000,
                                                "count": 1
                                            },
                                            {
                                                "bin_start": 3121386000,
                                                "bin_end": 3641617000,
                                                "count": 1
                                            },
                                            {
                                                "bin_start": 3641617000,
                                                "bin_end": 4161848000,
                                                "count": 0
                                            },
                                            {
                                                "bin_start": 4161848000,
                                                "bin_end": 4682079000,
                                                "count": 1
                                            },
                                            {
                                                "bin_start": 4682079000,
                                                "bin_end": 5202310000,
                                                "count": 1
                                            }
                                        ]
                                    }
                                },
                                {
                                    "name": "Renewable energy share in the total final energy consumption (%)",
                                    "dtype": "float64",
                                    "stats": {
                                        "unique_count": 2587,
                                        "nan_count": 194,
                                        "min": "0.0",
                                        "max": "96.04",
                                        "histogram": [
                                            {
                                                "bin_start": 0,
                                                "bin_end": 9.604000000000001,
                                                "count": 1098
                                            },
                                            {
                                                "bin_start": 9.604000000000001,
                                                "bin_end": 19.208000000000002,
                                                "count": 474
                                            },
                                            {
                                                "bin_start": 19.208000000000002,
                                                "bin_end": 28.812000000000005,
                                                "count": 331
                                            },
                                            {
                                                "bin_start": 28.812000000000005,
                                                "bin_end": 38.416000000000004,
                                                "count": 316
                                            },
                                            {
                                                "bin_start": 38.416000000000004,
                                                "bin_end": 48.02,
                                                "count": 231
                                            },
                                            {
                                                "bin_start": 48.02,
                                                "bin_end": 57.62400000000001,
                                                "count": 191
                                            },
                                            {
                                                "bin_start": 57.62400000000001,
                                                "bin_end": 67.22800000000001,
                                                "count": 172
                                            },
                                            {
                                                "bin_start": 67.22800000000001,
                                                "bin_end": 76.83200000000001,
                                                "count": 123
                                            },
                                            {
                                                "bin_start": 76.83200000000001,
                                                "bin_end": 86.436,
                                                "count": 294
                                            },
                                            {
                                                "bin_start": 86.436,
                                                "bin_end": 96.04,
                                                "count": 225
                                            }
                                        ]
                                    }
                                },
                                {
                                    "name": "Electricity from fossil fuels (TWh)",
                                    "dtype": "float64",
                                    "stats": {
                                        "unique_count": 1859,
                                        "nan_count": 21,
                                        "min": "0.0",
                                        "max": "5184.13",
                                        "histogram": [
                                            {
                                                "bin_start": 0,
                                                "bin_end": 518.413,
                                                "count": 3547
                                            },
                                            {
                                                "bin_start": 518.413,
                                                "bin_end": 1036.826,
                                                "count": 33
                                            },
                                            {
                                                "bin_start": 1036.826,
                                                "bin_end": 1555.239,
                                                "count": 9
                                            },
                                            {
                                                "bin_start": 1555.239,
                                                "bin_end": 2073.652,
                                                "count": 3
                                            },
                                            {
                                                "bin_start": 2073.652,
                                                "bin_end": 2592.065,
                                                "count": 4
                                            },
                                            {
                                                "bin_start": 2592.065,
                                                "bin_end": 3110.478,
                                                "count": 21
                                            },
                                            {
                                                "bin_start": 3110.478,
                                                "bin_end": 3628.891,
                                                "count": 1
                                            },
                                            {
                                                "bin_start": 3628.891,
                                                "bin_end": 4147.304,
                                                "count": 2
                                            },
                                            {
                                                "bin_start": 4147.304,
                                                "bin_end": 4665.717000000001,
                                                "count": 5
                                            },
                                            {
                                                "bin_start": 4665.717000000001,
                                                "bin_end": 5184.13,
                                                "count": 3
                                            }
                                        ]
                                    }
                                },
                                {
                                    "name": "Electricity from nuclear (TWh)",
                                    "dtype": "float64",
                                    "stats": {
                                        "unique_count": 547,
                                        "nan_count": 126,
                                        "min": "0.0",
                                        "max": "809.41",
                                        "histogram": [
                                            {
                                                "bin_start": 0,
                                                "bin_end": 80.941,
                                                "count": 3403
                                            },
                                            {
                                                "bin_start": 80.941,
                                                "bin_end": 161.882,
                                                "count": 54
                                            },
                                            {
                                                "bin_start": 161.882,
                                                "bin_end": 242.823,
                                                "count": 11
                                            },
                                            {
                                                "bin_start": 242.823,
                                                "bin_end": 323.764,
                                                "count": 11
                                            },
                                            {
                                                "bin_start": 323.764,
                                                "bin_end": 404.70500000000004,
                                                "count": 6
                                            },
                                            {
                                                "bin_start": 404.70500000000004,
                                                "bin_end": 485.646,
                                                "count": 17
                                            },
                                            {
                                                "bin_start": 485.646,
                                                "bin_end": 566.587,
                                                "count": 0
                                            },
                                            {
                                                "bin_start": 566.587,
                                                "bin_end": 647.528,
                                                "count": 0
                                            },
                                            {
                                                "bin_start": 647.528,
                                                "bin_end": 728.469,
                                                "count": 0
                                            },
                                            {
                                                "bin_start": 728.469,
                                                "bin_end": 809.41,
                                                "count": 21
                                            }
                                        ]
                                    }
                                },
                                {
                                    "name": "Electricity from renewables (TWh)",
                                    "dtype": "float64",
                                    "stats": {
                                        "unique_count": 1533,
                                        "nan_count": 21,
                                        "min": "0.0",
                                        "max": "2184.94",
                                        "histogram": [
                                            {
                                                "bin_start": 0,
                                                "bin_end": 218.494,
                                                "count": 3537
                                            },
                                            {
                                                "bin_start": 218.494,
                                                "bin_end": 436.988,
                                                "count": 59
                                            },
                                            {
                                                "bin_start": 436.988,
                                                "bin_end": 655.482,
                                                "count": 15
                                            },
                                            {
                                                "bin_start": 655.482,
                                                "bin_end": 873.976,
                                                "count": 8
                                            },
                                            {
                                                "bin_start": 873.976,
                                                "bin_end": 1092.47,
                                                "count": 1
                                            },
                                            {
                                                "bin_start": 1092.47,
                                                "bin_end": 1310.964,
                                                "count": 2
                                            },
                                            {
                                                "bin_start": 1310.964,
                                                "bin_end": 1529.458,
                                                "count": 2
                                            },
                                            {
                                                "bin_start": 1529.458,
                                                "bin_end": 1747.952,
                                                "count": 1
                                            },
                                            {
                                                "bin_start": 1747.952,
                                                "bin_end": 1966.446,
                                                "count": 1
                                            },
                                            {
                                                "bin_start": 1966.446,
                                                "bin_end": 2184.94,
                                                "count": 2
                                            }
                                        ]
                                    }
                                },
                                {
                                    "name": "Low-carbon electricity (% electricity)",
                                    "dtype": "float64",
                                    "stats": {
                                        "unique_count": 2647,
                                        "nan_count": 42,
                                        "min": "0.0",
                                        "max": "100.00001",
                                        "histogram": [
                                            {
                                                "bin_start": 0,
                                                "bin_end": 10.000001000000001,
                                                "count": 1209
                                            },
                                            {
                                                "bin_start": 10.000001000000001,
                                                "bin_end": 20.000002000000002,
                                                "count": 423
                                            },
                                            {
                                                "bin_start": 20.000002000000002,
                                                "bin_end": 30.000003000000003,
                                                "count": 227
                                            },
                                            {
                                                "bin_start": 30.000003000000003,
                                                "bin_end": 40.000004000000004,
                                                "count": 245
                                            },
                                            {
                                                "bin_start": 40.000004000000004,
                                                "bin_end": 50.000005,
                                                "count": 204
                                            },
                                            {
                                                "bin_start": 50.000005,
                                                "bin_end": 60.000006000000006,
                                                "count": 270
                                            },
                                            {
                                                "bin_start": 60.000006000000006,
                                                "bin_end": 70.00000700000001,
                                                "count": 251
                                            },
                                            {
                                                "bin_start": 70.00000700000001,
                                                "bin_end": 80.00000800000001,
                                                "count": 189
                                            },
                                            {
                                                "bin_start": 80.00000800000001,
                                                "bin_end": 90.000009,
                                                "count": 168
                                            },
                                            {
                                                "bin_start": 90.000009,
                                                "bin_end": 100.00001,
                                                "count": 421
                                            }
                                        ]
                                    }
                                },
                                {
                                    "name": "Primary energy consumption per capita (kWh/person)",
                                    "dtype": "float64",
                                    "stats": {
                                        "unique_count": 3628,
                                        "nan_count": 0,
                                        "min": "0.0",
                                        "max": "262585.7",
                                        "histogram": [
                                            {
                                                "bin_start": 0,
                                                "bin_end": 26258.57,
                                                "count": 2450
                                            },
                                            {
                                                "bin_start": 26258.57,
                                                "bin_end": 52517.14,
                                                "count": 743
                                            },
                                            {
                                                "bin_start": 52517.14,
                                                "bin_end": 78775.70999999999,
                                                "count": 212
                                            },
                                            {
                                                "bin_start": 78775.70999999999,
                                                "bin_end": 105034.28,
                                                "count": 64
                                            },
                                            {
                                                "bin_start": 105034.28,
                                                "bin_end": 131292.85,
                                                "count": 77
                                            },
                                            {
                                                "bin_start": 131292.85,
                                                "bin_end": 157551.41999999998,
                                                "count": 47
                                            },
                                            {
                                                "bin_start": 157551.41999999998,
                                                "bin_end": 183809.99,
                                                "count": 33
                                            },
                                            {
                                                "bin_start": 183809.99,
                                                "bin_end": 210068.56,
                                                "count": 13
                                            },
                                            {
                                                "bin_start": 210068.56,
                                                "bin_end": 236327.13,
                                                "count": 7
                                            },
                                            {
                                                "bin_start": 236327.13,
                                                "bin_end": 262585.7,
                                                "count": 3
                                            }
                                        ]
                                    }
                                },
                                {
                                    "name": "Energy intensity level of primary energy (MJ/$2017 PPP GDP)",
                                    "dtype": "float64",
                                    "stats": {
                                        "unique_count": 1044,
                                        "nan_count": 207,
                                        "min": "0.11",
                                        "max": "32.57",
                                        "histogram": [
                                            {
                                                "bin_start": 0.11,
                                                "bin_end": 3.356,
                                                "count": 1025
                                            },
                                            {
                                                "bin_start": 3.356,
                                                "bin_end": 6.602,
                                                "count": 1703
                                            },
                                            {
                                                "bin_start": 6.602,
                                                "bin_end": 9.847999999999999,
                                                "count": 397
                                            },
                                            {
                                                "bin_start": 9.847999999999999,
                                                "bin_end": 13.094,
                                                "count": 181
                                            },
                                            {
                                                "bin_start": 13.094,
                                                "bin_end": 16.34,
                                                "count": 72
                                            },
                                            {
                                                "bin_start": 16.34,
                                                "bin_end": 19.586,
                                                "count": 18
                                            },
                                            {
                                                "bin_start": 19.586,
                                                "bin_end": 22.832,
                                                "count": 29
                                            },
                                            {
                                                "bin_start": 22.832,
                                                "bin_end": 26.078,
                                                "count": 8
                                            },
                                            {
                                                "bin_start": 26.078,
                                                "bin_end": 29.323999999999998,
                                                "count": 7
                                            },
                                            {
                                                "bin_start": 29.323999999999998,
                                                "bin_end": 32.57,
                                                "count": 2
                                            }
                                        ]
                                    }
                                },
                                {
                                    "name": "Value_co2_emissions_kt_by_country",
                                    "dtype": "float64",
                                    "stats": {
                                        "unique_count": 2397,
                                        "nan_count": 428,
                                        "min": "9.999999776",
                                        "max": "10707219.73",
                                        "histogram": [
                                            {
                                                "bin_start": 9.999999776,
                                                "bin_end": 1070730.9729997984,
                                                "count": 3145
                                            },
                                            {
                                                "bin_start": 1070730.9729997984,
                                                "bin_end": 2141451.9459998207,
                                                "count": 30
                                            },
                                            {
                                                "bin_start": 2141451.9459998207,
                                                "bin_end": 3212172.918999843,
                                                "count": 6
                                            },
                                            {
                                                "bin_start": 3212172.918999843,
                                                "bin_end": 4282893.891999865,
                                                "count": 3
                                            },
                                            {
                                                "bin_start": 4282893.891999865,
                                                "bin_end": 5353614.8649998875,
                                                "count": 12
                                            },
                                            {
                                                "bin_start": 5353614.8649998875,
                                                "bin_end": 6424335.837999909,
                                                "count": 11
                                            },
                                            {
                                                "bin_start": 6424335.837999909,
                                                "bin_end": 7495056.810999932,
                                                "count": 3
                                            },
                                            {
                                                "bin_start": 7495056.810999932,
                                                "bin_end": 8565777.783999955,
                                                "count": 2
                                            },
                                            {
                                                "bin_start": 8565777.783999955,
                                                "bin_end": 9636498.756999977,
                                                "count": 2
                                            },
                                            {
                                                "bin_start": 9636498.756999977,
                                                "bin_end": 10707219.73,
                                                "count": 7
                                            }
                                        ]
                                    }
                                },
                                {
                                    "name": "Renewables (% equivalent primary energy)",
                                    "dtype": "float64",
                                    "stats": {
                                        "unique_count": 1455,
                                        "nan_count": 2137,
                                        "min": "0.0",
                                        "max": "86.836586",
                                        "histogram": [
                                            {
                                                "bin_start": 0,
                                                "bin_end": 8.6836586,
                                                "count": 880
                                            },
                                            {
                                                "bin_start": 8.6836586,
                                                "bin_end": 17.3673172,
                                                "count": 268
                                            },
                                            {
                                                "bin_start": 17.3673172,
                                                "bin_end": 26.050975799999996,
                                                "count": 136
                                            },
                                            {
                                                "bin_start": 26.050975799999996,
                                                "bin_end": 34.7346344,
                                                "count": 118
                                            },
                                            {
                                                "bin_start": 34.7346344,
                                                "bin_end": 43.418293,
                                                "count": 57
                                            },
                                            {
                                                "bin_start": 43.418293,
                                                "bin_end": 52.10195159999999,
                                                "count": 11
                                            },
                                            {
                                                "bin_start": 52.10195159999999,
                                                "bin_end": 60.785610199999994,
                                                "count": 0
                                            },
                                            {
                                                "bin_start": 60.785610199999994,
                                                "bin_end": 69.4692688,
                                                "count": 18
                                            },
                                            {
                                                "bin_start": 69.4692688,
                                                "bin_end": 78.1529274,
                                                "count": 12
                                            },
                                            {
                                                "bin_start": 78.1529274,
                                                "bin_end": 86.836586,
                                                "count": 12
                                            }
                                        ]
                                    }
                                },
                                {
                                    "name": "gdp_growth",
                                    "dtype": "float64",
                                    "stats": {
                                        "unique_count": 3320,
                                        "nan_count": 317,
                                        "min": "-62.07591958",
                                        "max": "123.1395552",
                                        "histogram": [
                                            {
                                                "bin_start": -62.07591958,
                                                "bin_end": -43.554372102,
                                                "count": 1
                                            },
                                            {
                                                "bin_start": -43.554372102,
                                                "bin_end": -25.032824624,
                                                "count": 5
                                            },
                                            {
                                                "bin_start": -25.032824624,
                                                "bin_end": -6.511277146000005,
                                                "count": 92
                                            },
                                            {
                                                "bin_start": -6.511277146000005,
                                                "bin_end": 12.010270331999997,
                                                "count": 3139
                                            },
                                            {
                                                "bin_start": 12.010270331999997,
                                                "bin_end": 30.53181781,
                                                "count": 87
                                            },
                                            {
                                                "bin_start": 30.53181781,
                                                "bin_end": 49.05336528799999,
                                                "count": 5
                                            },
                                            {
                                                "bin_start": 49.05336528799999,
                                                "bin_end": 67.57491276599998,
                                                "count": 2
                                            },
                                            {
                                                "bin_start": 67.57491276599998,
                                                "bin_end": 86.09646024399999,
                                                "count": 0
                                            },
                                            {
                                                "bin_start": 86.09646024399999,
                                                "bin_end": 104.61800772199999,
                                                "count": 0
                                            },
                                            {
                                                "bin_start": 104.61800772199999,
                                                "bin_end": 123.1395552,
                                                "count": 1
                                            }
                                        ]
                                    }
                                },
                                {
                                    "name": "gdp_per_capita",
                                    "dtype": "float64",
                                    "stats": {
                                        "unique_count": 3367,
                                        "nan_count": 282,
                                        "min": "111.9272251",
                                        "max": "123514.1967",
                                        "histogram": [
                                            {
                                                "bin_start": 111.9272251,
                                                "bin_end": 12452.15417259,
                                                "count": 2393
                                            },
                                            {
                                                "bin_start": 12452.15417259,
                                                "bin_end": 24792.38112008,
                                                "count": 360
                                            },
                                            {
                                                "bin_start": 24792.38112008,
                                                "bin_end": 37132.60806757,
                                                "count": 193
                                            },
                                            {
                                                "bin_start": 37132.60806757,
                                                "bin_end": 49472.83501506,
                                                "count": 200
                                            },
                                            {
                                                "bin_start": 49472.83501506,
                                                "bin_end": 61813.061962550004,
                                                "count": 107
                                            },
                                            {
                                                "bin_start": 61813.061962550004,
                                                "bin_end": 74153.28891003999,
                                                "count": 37
                                            },
                                            {
                                                "bin_start": 74153.28891003999,
                                                "bin_end": 86493.51585753,
                                                "count": 35
                                            },
                                            {
                                                "bin_start": 86493.51585753,
                                                "bin_end": 98833.74280502,
                                                "count": 14
                                            },
                                            {
                                                "bin_start": 98833.74280502,
                                                "bin_end": 111173.96975250999,
                                                "count": 17
                                            },
                                            {
                                                "bin_start": 111173.96975250999,
                                                "bin_end": 123514.1967,
                                                "count": 11
                                            }
                                        ]
                                    }
                                },
                                {
                                    "name": "Density\\n(P/Km2)",
                                    "dtype": "object",
                                    "stats": {
                                        "unique_count": 124,
                                        "nan_count": 1,
                                        "categories": [
                                            {
                                                "name": "25",
                                                "count": 147
                                            },
                                            {
                                                "name": "123 others",
                                                "count": 3501
                                            },
                                            {
                                                "name": "Missing",
                                                "count": 1
                                            }
                                        ]
                                    }
                                },
                                {
                                    "name": "Land Area(Km2)",
                                    "dtype": "float64",
                                    "stats": {
                                        "unique_count": 175,
                                        "nan_count": 1,
                                        "min": "21.0",
                                        "max": "9984670.0",
                                        "histogram": [
                                            {
                                                "bin_start": 21,
                                                "bin_end": 998485.9,
                                                "count": 3102
                                            },
                                            {
                                                "bin_start": 998485.9,
                                                "bin_end": 1996950.8,
                                                "count": 315
                                            },
                                            {
                                                "bin_start": 1996950.8,
                                                "bin_end": 2995415.7,
                                                "count": 105
                                            },
                                            {
                                                "bin_start": 2995415.7,
                                                "bin_end": 3993880.6,
                                                "count": 21
                                            },
                                            {
                                                "bin_start": 3993880.6,
                                                "bin_end": 4992345.5,
                                                "count": 0
                                            },
                                            {
                                                "bin_start": 4992345.5,
                                                "bin_end": 5990810.4,
                                                "count": 0
                                            },
                                            {
                                                "bin_start": 5990810.4,
                                                "bin_end": 6989275.3,
                                                "count": 0
                                            },
                                            {
                                                "bin_start": 6989275.3,
                                                "bin_end": 7987740.2,
                                                "count": 21
                                            },
                                            {
                                                "bin_start": 7987740.2,
                                                "bin_end": 8986205.1,
                                                "count": 21
                                            },
                                            {
                                                "bin_start": 8986205.1,
                                                "bin_end": 9984670,
                                                "count": 63
                                            }
                                        ]
                                    }
                                },
                                {
                                    "name": "Latitude",
                                    "dtype": "float64",
                                    "stats": {
                                        "unique_count": 175,
                                        "nan_count": 1,
                                        "min": "-40.900557",
                                        "max": "64.963051",
                                        "histogram": [
                                            {
                                                "bin_start": -40.900557,
                                                "bin_end": -30.314196199999998,
                                                "count": 105
                                            },
                                            {
                                                "bin_start": -30.314196199999998,
                                                "bin_end": -19.7278354,
                                                "count": 189
                                            },
                                            {
                                                "bin_start": -19.7278354,
                                                "bin_end": -9.141474600000002,
                                                "count": 273
                                            },
                                            {
                                                "bin_start": -9.141474600000002,
                                                "bin_end": 1.4448861999999991,
                                                "count": 294
                                            },
                                            {
                                                "bin_start": 1.4448861999999991,
                                                "bin_end": 12.031247,
                                                "count": 512
                                            },
                                            {
                                                "bin_start": 12.031247,
                                                "bin_end": 22.617607799999995,
                                                "count": 735
                                            },
                                            {
                                                "bin_start": 22.617607799999995,
                                                "bin_end": 33.2039686,
                                                "count": 378
                                            },
                                            {
                                                "bin_start": 33.2039686,
                                                "bin_end": 43.7903294,
                                                "count": 518
                                            },
                                            {
                                                "bin_start": 43.7903294,
                                                "bin_end": 54.37669019999999,
                                                "count": 434
                                            },
                                            {
                                                "bin_start": 54.37669019999999,
                                                "bin_end": 64.963051,
                                                "count": 210
                                            }
                                        ]
                                    }
                                },
                                {
                                    "name": "Longitude",
                                    "dtype": "float64",
                                    "stats": {
                                        "unique_count": 175,
                                        "nan_count": 1,
                                        "min": "-175.198242",
                                        "max": "178.065032",
                                        "histogram": [
                                            {
                                                "bin_start": -175.198242,
                                                "bin_end": -139.8719146,
                                                "count": 63
                                            },
                                            {
                                                "bin_start": -139.8719146,
                                                "bin_end": -104.54558719999999,
                                                "count": 21
                                            },
                                            {
                                                "bin_start": -104.54558719999999,
                                                "bin_end": -69.21925979999997,
                                                "count": 399
                                            },
                                            {
                                                "bin_start": -69.21925979999997,
                                                "bin_end": -33.89293239999998,
                                                "count": 336
                                            },
                                            {
                                                "bin_start": -33.89293239999998,
                                                "bin_end": 1.4333950000000186,
                                                "count": 357
                                            },
                                            {
                                                "bin_start": 1.4333950000000186,
                                                "bin_end": 36.759722400000044,
                                                "count": 1359
                                            },
                                            {
                                                "bin_start": 36.759722400000044,
                                                "bin_end": 72.08604980000004,
                                                "count": 546
                                            },
                                            {
                                                "bin_start": 72.08604980000004,
                                                "bin_end": 107.41237720000004,
                                                "count": 315
                                            },
                                            {
                                                "bin_start": 107.41237720000004,
                                                "bin_end": 142.73870460000006,
                                                "count": 84
                                            },
                                            {
                                                "bin_start": 142.73870460000006,
                                                "bin_end": 178.065032,
                                                "count": 168
                                            }
                                        ]
                                    }
                                },
                                {
                                    "name": "_deepnote_index_column",
                                    "dtype": "int64"
                                }
                            ],
                            "rows": [
                                {
                                    "Entity": "Afghanistan",
                                    "Year": 2000,
                                    "Access to electricity (% of population)": 1.613591,
                                    "Access to clean fuels for cooking": 6.2,
                                    "Renewable-electricity-generating-capacity-per-capita": 9.22,
                                    "Financial flows to developing countries (US $)": 20000,
                                    "Renewable energy share in the total final energy consumption (%)": 44.99,
                                    "Electricity from fossil fuels (TWh)": 0.16,
                                    "Electricity from nuclear (TWh)": 0,
                                    "Electricity from renewables (TWh)": 0.31,
                                    "Low-carbon electricity (% electricity)": 65.95744,
                                    "Primary energy consumption per capita (kWh/person)": 302.59482,
                                    "Energy intensity level of primary energy (MJ/$2017 PPP GDP)": 1.64,
                                    "Value_co2_emissions_kt_by_country": 760,
                                    "Renewables (% equivalent primary energy)": "nan",
                                    "gdp_growth": "nan",
                                    "gdp_per_capita": "nan",
                                    "Density\\n(P/Km2)": "60",
                                    "Land Area(Km2)": 652230,
                                    "Latitude": 33.93911,
                                    "Longitude": 67.709953,
                                    "_deepnote_index_column": 0
                                },
                                {
                                    "Entity": "Afghanistan",
                                    "Year": 2001,
                                    "Access to electricity (% of population)": 4.074574,
                                    "Access to clean fuels for cooking": 7.2,
                                    "Renewable-electricity-generating-capacity-per-capita": 8.86,
                                    "Financial flows to developing countries (US $)": 130000,
                                    "Renewable energy share in the total final energy consumption (%)": 45.6,
                                    "Electricity from fossil fuels (TWh)": 0.09,
                                    "Electricity from nuclear (TWh)": 0,
                                    "Electricity from renewables (TWh)": 0.5,
                                    "Low-carbon electricity (% electricity)": 84.745766,
                                    "Primary energy consumption per capita (kWh/person)": 236.89185,
                                    "Energy intensity level of primary energy (MJ/$2017 PPP GDP)": 1.74,
                                    "Value_co2_emissions_kt_by_country": 730,
                                    "Renewables (% equivalent primary energy)": "nan",
                                    "gdp_growth": "nan",
                                    "gdp_per_capita": "nan",
                                    "Density\\n(P/Km2)": "60",
                                    "Land Area(Km2)": 652230,
                                    "Latitude": 33.93911,
                                    "Longitude": 67.709953,
                                    "_deepnote_index_column": 1
                                },
                                {
                                    "Entity": "Afghanistan",
                                    "Year": 2002,
                                    "Access to electricity (% of population)": 9.409158,
                                    "Access to clean fuels for cooking": 8.2,
                                    "Renewable-electricity-generating-capacity-per-capita": 8.47,
                                    "Financial flows to developing countries (US $)": 3950000,
                                    "Renewable energy share in the total final energy consumption (%)": 37.83,
                                    "Electricity from fossil fuels (TWh)": 0.13,
                                    "Electricity from nuclear (TWh)": 0,
                                    "Electricity from renewables (TWh)": 0.56,
                                    "Low-carbon electricity (% electricity)": 81.159424,
                                    "Primary energy consumption per capita (kWh/person)": 210.86215,
                                    "Energy intensity level of primary energy (MJ/$2017 PPP GDP)": 1.4,
                                    "Value_co2_emissions_kt_by_country": 1029.999971,
                                    "Renewables (% equivalent primary energy)": "nan",
                                    "gdp_growth": "nan",
                                    "gdp_per_capita": 179.4265792,
                                    "Density\\n(P/Km2)": "60",
                                    "Land Area(Km2)": 652230,
                                    "Latitude": 33.93911,
                                    "Longitude": 67.709953,
                                    "_deepnote_index_column": 2
                                },
                                {
                                    "Entity": "Afghanistan",
                                    "Year": 2003,
                                    "Access to electricity (% of population)": 14.738506,
                                    "Access to clean fuels for cooking": 9.5,
                                    "Renewable-electricity-generating-capacity-per-capita": 8.09,
                                    "Financial flows to developing countries (US $)": 25970000,
                                    "Renewable energy share in the total final energy consumption (%)": 36.66,
                                    "Electricity from fossil fuels (TWh)": 0.31,
                                    "Electricity from nuclear (TWh)": 0,
                                    "Electricity from renewables (TWh)": 0.63,
                                    "Low-carbon electricity (% electricity)": 67.02128,
                                    "Primary energy consumption per capita (kWh/person)": 229.96822,
                                    "Energy intensity level of primary energy (MJ/$2017 PPP GDP)": 1.4,
                                    "Value_co2_emissions_kt_by_country": 1220.000029,
                                    "Renewables (% equivalent primary energy)": "nan",
                                    "gdp_growth": 8.832277813,
                                    "gdp_per_capita": 190.6838143,
                                    "Density\\n(P/Km2)": "60",
                                    "Land Area(Km2)": 652230,
                                    "Latitude": 33.93911,
                                    "Longitude": 67.709953,
                                    "_deepnote_index_column": 3
                                },
                                {
                                    "Entity": "Afghanistan",
                                    "Year": 2004,
                                    "Access to electricity (% of population)": 20.064968,
                                    "Access to clean fuels for cooking": 10.9,
                                    "Renewable-electricity-generating-capacity-per-capita": 7.75,
                                    "Financial flows to developing countries (US $)": "nan",
                                    "Renewable energy share in the total final energy consumption (%)": 44.24,
                                    "Electricity from fossil fuels (TWh)": 0.33,
                                    "Electricity from nuclear (TWh)": 0,
                                    "Electricity from renewables (TWh)": 0.56,
                                    "Low-carbon electricity (% electricity)": 62.92135,
                                    "Primary energy consumption per capita (kWh/person)": 204.23125,
                                    "Energy intensity level of primary energy (MJ/$2017 PPP GDP)": 1.2,
                                    "Value_co2_emissions_kt_by_country": 1029.999971,
                                    "Renewables (% equivalent primary energy)": "nan",
                                    "gdp_growth": 1.414117981,
                                    "gdp_per_capita": 211.3820742,
                                    "Density\\n(P/Km2)": "60",
                                    "Land Area(Km2)": 652230,
                                    "Latitude": 33.93911,
                                    "Longitude": 67.709953,
                                    "_deepnote_index_column": 4
                                },
                                {
                                    "Entity": "Afghanistan",
                                    "Year": 2005,
                                    "Access to electricity (% of population)": 25.390894,
                                    "Access to clean fuels for cooking": 12.2,
                                    "Renewable-electricity-generating-capacity-per-capita": 7.51,
                                    "Financial flows to developing countries (US $)": 9830000,
                                    "Renewable energy share in the total final energy consumption (%)": 33.88,
                                    "Electricity from fossil fuels (TWh)": 0.34,
                                    "Electricity from nuclear (TWh)": 0,
                                    "Electricity from renewables (TWh)": 0.59,
                                    "Low-carbon electricity (% electricity)": 63.440857,
                                    "Primary energy consumption per capita (kWh/person)": 252.06912,
                                    "Energy intensity level of primary energy (MJ/$2017 PPP GDP)": 1.41,
                                    "Value_co2_emissions_kt_by_country": 1549.999952,
                                    "Renewables (% equivalent primary energy)": "nan",
                                    "gdp_growth": 11.22971482,
                                    "gdp_per_capita": 242.0313132,
                                    "Density\\n(P/Km2)": "60",
                                    "Land Area(Km2)": 652230,
                                    "Latitude": 33.93911,
                                    "Longitude": 67.709953,
                                    "_deepnote_index_column": 5
                                },
                                {
                                    "Entity": "Afghanistan",
                                    "Year": 2006,
                                    "Access to electricity (% of population)": 30.71869,
                                    "Access to clean fuels for cooking": 13.85,
                                    "Renewable-electricity-generating-capacity-per-capita": 7.4,
                                    "Financial flows to developing countries (US $)": 10620000,
                                    "Renewable energy share in the total final energy consumption (%)": 31.89,
                                    "Electricity from fossil fuels (TWh)": 0.2,
                                    "Electricity from nuclear (TWh)": 0,
                                    "Electricity from renewables (TWh)": 0.64,
                                    "Low-carbon electricity (% electricity)": 76.190475,
                                    "Primary energy consumption per capita (kWh/person)": 304.4209,
                                    "Energy intensity level of primary energy (MJ/$2017 PPP GDP)": 1.5,
                                    "Value_co2_emissions_kt_by_country": 1759.99999,
                                    "Renewables (% equivalent primary energy)": "nan",
                                    "gdp_growth": 5.357403251,
                                    "gdp_per_capita": 263.7336019,
                                    "Density\\n(P/Km2)": "60",
                                    "Land Area(Km2)": 652230,
                                    "Latitude": 33.93911,
                                    "Longitude": 67.709953,
                                    "_deepnote_index_column": 6
                                },
                                {
                                    "Entity": "Afghanistan",
                                    "Year": 2007,
                                    "Access to electricity (% of population)": 36.05101,
                                    "Access to clean fuels for cooking": 15.3,
                                    "Renewable-electricity-generating-capacity-per-capita": 7.25,
                                    "Financial flows to developing countries (US $)": 15750000,
                                    "Renewable energy share in the total final energy consumption (%)": 28.78,
                                    "Electricity from fossil fuels (TWh)": 0.2,
                                    "Electricity from nuclear (TWh)": 0,
                                    "Electricity from renewables (TWh)": 0.75,
                                    "Low-carbon electricity (% electricity)": 78.94737,
                                    "Primary energy consumption per capita (kWh/person)": 354.2799,
                                    "Energy intensity level of primary energy (MJ/$2017 PPP GDP)": 1.53,
                                    "Value_co2_emissions_kt_by_country": 1769.999981,
                                    "Renewables (% equivalent primary energy)": "nan",
                                    "gdp_growth": 13.82631955,
                                    "gdp_per_capita": 359.6931579,
                                    "Density\\n(P/Km2)": "60",
                                    "Land Area(Km2)": 652230,
                                    "Latitude": 33.93911,
                                    "Longitude": 67.709953,
                                    "_deepnote_index_column": 7
                                },
                                {
                                    "Entity": "Afghanistan",
                                    "Year": 2008,
                                    "Access to electricity (% of population)": 42.4,
                                    "Access to clean fuels for cooking": 16.7,
                                    "Renewable-electricity-generating-capacity-per-capita": 7.49,
                                    "Financial flows to developing countries (US $)": 16170000,
                                    "Renewable energy share in the total final energy consumption (%)": 21.17,
                                    "Electricity from fossil fuels (TWh)": 0.19,
                                    "Electricity from nuclear (TWh)": 0,
                                    "Electricity from renewables (TWh)": 0.54,
                                    "Low-carbon electricity (% electricity)": 73.9726,
                                    "Primary energy consumption per capita (kWh/person)": 607.8335,
                                    "Energy intensity level of primary energy (MJ/$2017 PPP GDP)": 1.94,
                                    "Value_co2_emissions_kt_by_country": 3559.999943,
                                    "Renewables (% equivalent primary energy)": "nan",
                                    "gdp_growth": 3.924983822,
                                    "gdp_per_capita": 364.663542,
                                    "Density\\n(P/Km2)": "60",
                                    "Land Area(Km2)": 652230,
                                    "Latitude": 33.93911,
                                    "Longitude": 67.709953,
                                    "_deepnote_index_column": 8
                                },
                                {
                                    "Entity": "Afghanistan",
                                    "Year": 2009,
                                    "Access to electricity (% of population)": 46.74005,
                                    "Access to clean fuels for cooking": 18.4,
                                    "Renewable-electricity-generating-capacity-per-capita": 7.5,
                                    "Financial flows to developing countries (US $)": 9960000,
                                    "Renewable energy share in the total final energy consumption (%)": 16.53,
                                    "Electricity from fossil fuels (TWh)": 0.16,
                                    "Electricity from nuclear (TWh)": 0,
                                    "Electricity from renewables (TWh)": 0.78,
                                    "Low-carbon electricity (% electricity)": 82.97872,
                                    "Primary energy consumption per capita (kWh/person)": 975.04816,
                                    "Energy intensity level of primary energy (MJ/$2017 PPP GDP)": 2.25,
                                    "Value_co2_emissions_kt_by_country": 4880.000114,
                                    "Renewables (% equivalent primary energy)": "nan",
                                    "gdp_growth": 21.39052839,
                                    "gdp_per_capita": 437.2687402,
                                    "Density\\n(P/Km2)": "60",
                                    "Land Area(Km2)": 652230,
                                    "Latitude": 33.93911,
                                    "Longitude": 67.709953,
                                    "_deepnote_index_column": 9
                                }
                            ]
                        },
                        "text/plain": "           Entity  Year  Access to electricity (% of population)  \\\n0     Afghanistan  2000                                 1.613591   \n1     Afghanistan  2001                                 4.074574   \n2     Afghanistan  2002                                 9.409158   \n3     Afghanistan  2003                                14.738506   \n4     Afghanistan  2004                                20.064968   \n...           ...   ...                                      ...   \n3644     Zimbabwe  2016                                42.561730   \n3645     Zimbabwe  2017                                44.178635   \n3646     Zimbabwe  2018                                45.572647   \n3647     Zimbabwe  2019                                46.781475   \n3648     Zimbabwe  2020                                52.747670   \n\n      Access to clean fuels for cooking  \\\n0                                   6.2   \n1                                   7.2   \n2                                   8.2   \n3                                   9.5   \n4                                  10.9   \n...                                 ...   \n3644                               29.8   \n3645                               29.8   \n3646                               29.9   \n3647                               30.1   \n3648                               30.4   \n\n      Renewable-electricity-generating-capacity-per-capita  \\\n0                                                  9.22      \n1                                                  8.86      \n2                                                  8.47      \n3                                                  8.09      \n4                                                  7.75      \n...                                                 ...      \n3644                                              62.88      \n3645                                              62.33      \n3646                                              82.53      \n3647                                              81.40      \n3648                                              80.61      \n\n      Financial flows to developing countries (US $)  \\\n0                                            20000.0   \n1                                           130000.0   \n2                                          3950000.0   \n3                                         25970000.0   \n4                                                NaN   \n...                                              ...   \n3644                                         30000.0   \n3645                                       5570000.0   \n3646                                         10000.0   \n3647                                        250000.0   \n3648                                         30000.0   \n\n      Renewable energy share in the total final energy consumption (%)  \\\n0                                                 44.99                  \n1                                                 45.60                  \n2                                                 37.83                  \n3                                                 36.66                  \n4                                                 44.24                  \n...                                                 ...                  \n3644                                              81.90                  \n3645                                              82.46                  \n3646                                              80.23                  \n3647                                              81.50                  \n3648                                              81.90                  \n\n      Electricity from fossil fuels (TWh)  Electricity from nuclear (TWh)  \\\n0                                    0.16                             0.0   \n1                                    0.09                             0.0   \n2                                    0.13                             0.0   \n3                                    0.31                             0.0   \n4                                    0.33                             0.0   \n...                                   ...                             ...   \n3644                                 3.50                             0.0   \n3645                                 3.05                             0.0   \n3646                                 3.73                             0.0   \n3647                                 3.66                             0.0   \n3648                                 3.40                             0.0   \n\n      Electricity from renewables (TWh)  ...  \\\n0                                  0.31  ...   \n1                                  0.50  ...   \n2                                  0.56  ...   \n3                                  0.63  ...   \n4                                  0.56  ...   \n...                                 ...  ...   \n3644                               3.32  ...   \n3645                               4.30  ...   \n3646                               5.46  ...   \n3647                               4.58  ...   \n3648                               4.19  ...   \n\n      Primary energy consumption per capita (kWh/person)  \\\n0                                             302.59482    \n1                                             236.89185    \n2                                             210.86215    \n3                                             229.96822    \n4                                             204.23125    \n...                                                 ...    \n3644                                         3227.68020    \n3645                                         3068.01150    \n3646                                         3441.98580    \n3647                                         3003.65530    \n3648                                         2680.13180    \n\n      Energy intensity level of primary energy (MJ/$2017 PPP GDP)  \\\n0                                                  1.64             \n1                                                  1.74             \n2                                                  1.40             \n3                                                  1.40             \n4                                                  1.20             \n...                                                 ...             \n3644                                              10.00             \n3645                                               9.51             \n3646                                               9.83             \n3647                                              10.47             \n3648                                              10.00             \n\n      Value_co2_emissions_kt_by_country  \\\n0                            760.000000   \n1                            730.000000   \n2                           1029.999971   \n3                           1220.000029   \n4                           1029.999971   \n...                                 ...   \n3644                       11020.000460   \n3645                       10340.000150   \n3646                       12380.000110   \n3647                       11760.000230   \n3648                                NaN   \n\n      Renewables (% equivalent primary energy)  gdp_growth  gdp_per_capita  \\\n0                                          NaN         NaN             NaN   \n1                                          NaN         NaN             NaN   \n2                                          NaN         NaN      179.426579   \n3                                          NaN    8.832278      190.683814   \n4                                          NaN    1.414118      211.382074   \n...                                        ...         ...             ...   \n3644                                       NaN    0.755869     1464.588957   \n3645                                       NaN    4.709492     1235.189032   \n3646                                       NaN    4.824211     1254.642265   \n3647                                       NaN   -6.144236     1316.740657   \n3648                                       NaN   -6.248748     1214.509820   \n\n      Density\\n(P/Km2) Land Area(Km2)   Latitude  Longitude  \n0                   60       652230.0  33.939110  67.709953  \n1                   60       652230.0  33.939110  67.709953  \n2                   60       652230.0  33.939110  67.709953  \n3                   60       652230.0  33.939110  67.709953  \n4                   60       652230.0  33.939110  67.709953  \n...                ...            ...        ...        ...  \n3644                38       390757.0 -19.015438  29.154857  \n3645                38       390757.0 -19.015438  29.154857  \n3646                38       390757.0 -19.015438  29.154857  \n3647                38       390757.0 -19.015438  29.154857  \n3648                38       390757.0 -19.015438  29.154857  \n\n[3649 rows x 21 columns]",
                        "text/html": "<div>\n<style scoped>\n    .dataframe tbody tr th:only-of-type {\n        vertical-align: middle;\n    }\n\n    .dataframe tbody tr th {\n        vertical-align: top;\n    }\n\n    .dataframe thead th {\n        text-align: right;\n    }\n</style>\n<table border=\"1\" class=\"dataframe\">\n  <thead>\n    <tr style=\"text-align: right;\">\n      <th></th>\n      <th>Entity</th>\n      <th>Year</th>\n      <th>Access to electricity (% of population)</th>\n      <th>Access to clean fuels for cooking</th>\n      <th>Renewable-electricity-generating-capacity-per-capita</th>\n      <th>Financial flows to developing countries (US $)</th>\n      <th>Renewable energy share in the total final energy consumption (%)</th>\n      <th>Electricity from fossil fuels (TWh)</th>\n      <th>Electricity from nuclear (TWh)</th>\n      <th>Electricity from renewables (TWh)</th>\n      <th>...</th>\n      <th>Primary energy consumption per capita (kWh/person)</th>\n      <th>Energy intensity level of primary energy (MJ/$2017 PPP GDP)</th>\n      <th>Value_co2_emissions_kt_by_country</th>\n      <th>Renewables (% equivalent primary energy)</th>\n      <th>gdp_growth</th>\n      <th>gdp_per_capita</th>\n      <th>Density\\n(P/Km2)</th>\n      <th>Land Area(Km2)</th>\n      <th>Latitude</th>\n      <th>Longitude</th>\n    </tr>\n  </thead>\n  <tbody>\n    <tr>\n      <th>0</th>\n      <td>Afghanistan</td>\n      <td>2000</td>\n      <td>1.613591</td>\n      <td>6.2</td>\n      <td>9.22</td>\n      <td>20000.0</td>\n      <td>44.99</td>\n      <td>0.16</td>\n      <td>0.0</td>\n      <td>0.31</td>\n      <td>...</td>\n      <td>302.59482</td>\n      <td>1.64</td>\n      <td>760.000000</td>\n      <td>NaN</td>\n      <td>NaN</td>\n      <td>NaN</td>\n      <td>60</td>\n      <td>652230.0</td>\n      <td>33.939110</td>\n      <td>67.709953</td>\n    </tr>\n    <tr>\n      <th>1</th>\n      <td>Afghanistan</td>\n      <td>2001</td>\n      <td>4.074574</td>\n      <td>7.2</td>\n      <td>8.86</td>\n      <td>130000.0</td>\n      <td>45.60</td>\n      <td>0.09</td>\n      <td>0.0</td>\n      <td>0.50</td>\n      <td>...</td>\n      <td>236.89185</td>\n      <td>1.74</td>\n      <td>730.000000</td>\n      <td>NaN</td>\n      <td>NaN</td>\n      <td>NaN</td>\n      <td>60</td>\n      <td>652230.0</td>\n      <td>33.939110</td>\n      <td>67.709953</td>\n    </tr>\n    <tr>\n      <th>2</th>\n      <td>Afghanistan</td>\n      <td>2002</td>\n      <td>9.409158</td>\n      <td>8.2</td>\n      <td>8.47</td>\n      <td>3950000.0</td>\n      <td>37.83</td>\n      <td>0.13</td>\n      <td>0.0</td>\n      <td>0.56</td>\n      <td>...</td>\n      <td>210.86215</td>\n      <td>1.40</td>\n      <td>1029.999971</td>\n      <td>NaN</td>\n      <td>NaN</td>\n      <td>179.426579</td>\n      <td>60</td>\n      <td>652230.0</td>\n      <td>33.939110</td>\n      <td>67.709953</td>\n    </tr>\n    <tr>\n      <th>3</th>\n      <td>Afghanistan</td>\n      <td>2003</td>\n      <td>14.738506</td>\n      <td>9.5</td>\n      <td>8.09</td>\n      <td>25970000.0</td>\n      <td>36.66</td>\n      <td>0.31</td>\n      <td>0.0</td>\n      <td>0.63</td>\n      <td>...</td>\n      <td>229.96822</td>\n      <td>1.40</td>\n      <td>1220.000029</td>\n      <td>NaN</td>\n      <td>8.832278</td>\n      <td>190.683814</td>\n      <td>60</td>\n      <td>652230.0</td>\n      <td>33.939110</td>\n      <td>67.709953</td>\n    </tr>\n    <tr>\n      <th>4</th>\n      <td>Afghanistan</td>\n      <td>2004</td>\n      <td>20.064968</td>\n      <td>10.9</td>\n      <td>7.75</td>\n      <td>NaN</td>\n      <td>44.24</td>\n      <td>0.33</td>\n      <td>0.0</td>\n      <td>0.56</td>\n      <td>...</td>\n      <td>204.23125</td>\n      <td>1.20</td>\n      <td>1029.999971</td>\n      <td>NaN</td>\n      <td>1.414118</td>\n      <td>211.382074</td>\n      <td>60</td>\n      <td>652230.0</td>\n      <td>33.939110</td>\n      <td>67.709953</td>\n    </tr>\n    <tr>\n      <th>...</th>\n      <td>...</td>\n      <td>...</td>\n      <td>...</td>\n      <td>...</td>\n      <td>...</td>\n      <td>...</td>\n      <td>...</td>\n      <td>...</td>\n      <td>...</td>\n      <td>...</td>\n      <td>...</td>\n      <td>...</td>\n      <td>...</td>\n      <td>...</td>\n      <td>...</td>\n      <td>...</td>\n      <td>...</td>\n      <td>...</td>\n      <td>...</td>\n      <td>...</td>\n      <td>...</td>\n    </tr>\n    <tr>\n      <th>3644</th>\n      <td>Zimbabwe</td>\n      <td>2016</td>\n      <td>42.561730</td>\n      <td>29.8</td>\n      <td>62.88</td>\n      <td>30000.0</td>\n      <td>81.90</td>\n      <td>3.50</td>\n      <td>0.0</td>\n      <td>3.32</td>\n      <td>...</td>\n      <td>3227.68020</td>\n      <td>10.00</td>\n      <td>11020.000460</td>\n      <td>NaN</td>\n      <td>0.755869</td>\n      <td>1464.588957</td>\n      <td>38</td>\n      <td>390757.0</td>\n      <td>-19.015438</td>\n      <td>29.154857</td>\n    </tr>\n    <tr>\n      <th>3645</th>\n      <td>Zimbabwe</td>\n      <td>2017</td>\n      <td>44.178635</td>\n      <td>29.8</td>\n      <td>62.33</td>\n      <td>5570000.0</td>\n      <td>82.46</td>\n      <td>3.05</td>\n      <td>0.0</td>\n      <td>4.30</td>\n      <td>...</td>\n      <td>3068.01150</td>\n      <td>9.51</td>\n      <td>10340.000150</td>\n      <td>NaN</td>\n      <td>4.709492</td>\n      <td>1235.189032</td>\n      <td>38</td>\n      <td>390757.0</td>\n      <td>-19.015438</td>\n      <td>29.154857</td>\n    </tr>\n    <tr>\n      <th>3646</th>\n      <td>Zimbabwe</td>\n      <td>2018</td>\n      <td>45.572647</td>\n      <td>29.9</td>\n      <td>82.53</td>\n      <td>10000.0</td>\n      <td>80.23</td>\n      <td>3.73</td>\n      <td>0.0</td>\n      <td>5.46</td>\n      <td>...</td>\n      <td>3441.98580</td>\n      <td>9.83</td>\n      <td>12380.000110</td>\n      <td>NaN</td>\n      <td>4.824211</td>\n      <td>1254.642265</td>\n      <td>38</td>\n      <td>390757.0</td>\n      <td>-19.015438</td>\n      <td>29.154857</td>\n    </tr>\n    <tr>\n      <th>3647</th>\n      <td>Zimbabwe</td>\n      <td>2019</td>\n      <td>46.781475</td>\n      <td>30.1</td>\n      <td>81.40</td>\n      <td>250000.0</td>\n      <td>81.50</td>\n      <td>3.66</td>\n      <td>0.0</td>\n      <td>4.58</td>\n      <td>...</td>\n      <td>3003.65530</td>\n      <td>10.47</td>\n      <td>11760.000230</td>\n      <td>NaN</td>\n      <td>-6.144236</td>\n      <td>1316.740657</td>\n      <td>38</td>\n      <td>390757.0</td>\n      <td>-19.015438</td>\n      <td>29.154857</td>\n    </tr>\n    <tr>\n      <th>3648</th>\n      <td>Zimbabwe</td>\n      <td>2020</td>\n      <td>52.747670</td>\n      <td>30.4</td>\n      <td>80.61</td>\n      <td>30000.0</td>\n      <td>81.90</td>\n      <td>3.40</td>\n      <td>0.0</td>\n      <td>4.19</td>\n      <td>...</td>\n      <td>2680.13180</td>\n      <td>10.00</td>\n      <td>NaN</td>\n      <td>NaN</td>\n      <td>-6.248748</td>\n      <td>1214.509820</td>\n      <td>38</td>\n      <td>390757.0</td>\n      <td>-19.015438</td>\n      <td>29.154857</td>\n    </tr>\n  </tbody>\n</table>\n<p>3649 rows × 21 columns</p>\n</div>"
                    },
                    "metadata": {}
                }
            ],
            "outputs_reference": "s3:deepnote-cell-outputs-production/b6f77d36-a237-4842-ade2-504c6c3fc2af",
            "content_dependencies": null
        },
        {
            "cell_type": "markdown",
            "metadata": {
                "cell_id": "d91450c4b9c4496e99462388ecc1b40c",
                "deepnote_cell_type": "markdown"
            },
            "source": "#### Data Information <a class=\"anchor\" id=\"data_information\"></a>\n\nWe can already get some immediate `informations`:\n\n* There is `3649 rows` and `21 columns` in this dataset.\n* Apart from the `countries`, all the columns have `numerical values`.\n* The dataset has some `missing variables`, especially in the `financial flows` and `renewables` which might require prior cleaning.\n* The `column names` could be renamed for more consistency.\n* Data takes the form of `dates`, `percentages`, `values`, `rates`. ",
            "block_group": "6f57de45652d4b7687bbdcab1a6cf81f"
        },
        {
            "cell_type": "code",
            "metadata": {
                "source_hash": "c80eee08",
                "execution_start": 1737556238279,
                "execution_millis": 2,
                "execution_context_id": "692cbec1-1944-4c5d-bb67-4d3df92c9c7d",
                "cell_id": "8677601912f34000b6d525c88b788f95",
                "deepnote_cell_type": "code"
            },
            "source": "# Easier way to know about the different varibales\ndf.columns",
            "block_group": "600c8ce1c2c646c6815301b919e07cb3",
            "execution_count": 9,
            "outputs": [
                {
                    "output_type": "execute_result",
                    "execution_count": 9,
                    "data": {
                        "text/plain": "Index(['Entity', 'Year', 'Access to electricity (% of population)',\n       'Access to clean fuels for cooking',\n       'Renewable-electricity-generating-capacity-per-capita',\n       'Financial flows to developing countries (US $)',\n       'Renewable energy share in the total final energy consumption (%)',\n       'Electricity from fossil fuels (TWh)', 'Electricity from nuclear (TWh)',\n       'Electricity from renewables (TWh)',\n       'Low-carbon electricity (% electricity)',\n       'Primary energy consumption per capita (kWh/person)',\n       'Energy intensity level of primary energy (MJ/$2017 PPP GDP)',\n       'Value_co2_emissions_kt_by_country',\n       'Renewables (% equivalent primary energy)', 'gdp_growth',\n       'gdp_per_capita', 'Density\\n(P/Km2)', 'Land Area(Km2)', 'Latitude',\n       'Longitude'],\n      dtype='object')"
                    },
                    "metadata": {}
                }
            ],
            "outputs_reference": "dbtable:cell_outputs/1c47bd69-578c-4166-a3b6-cd7ec65d1f86",
            "content_dependencies": null
        },
        {
            "cell_type": "code",
            "metadata": {
                "source_hash": "f31a4829",
                "execution_start": 1737556240367,
                "execution_millis": 5,
                "execution_context_id": "692cbec1-1944-4c5d-bb67-4d3df92c9c7d",
                "cell_id": "49e74f5faed94b7f8bb49129fd49a517",
                "deepnote_cell_type": "code"
            },
            "source": "# Get basic infos about data types\ndf.info()",
            "block_group": "acb0f0887773429482884701ba8eeff9",
            "execution_count": 11,
            "outputs": [
                {
                    "name": "stdout",
                    "text": "<class 'pandas.core.frame.DataFrame'>\nRangeIndex: 3649 entries, 0 to 3648\nData columns (total 21 columns):\n #   Column                                                            Non-Null Count  Dtype  \n---  ------                                                            --------------  -----  \n 0   Entity                                                            3649 non-null   object \n 1   Year                                                              3649 non-null   int64  \n 2   Access to electricity (% of population)                           3639 non-null   float64\n 3   Access to clean fuels for cooking                                 3480 non-null   float64\n 4   Renewable-electricity-generating-capacity-per-capita              2718 non-null   float64\n 5   Financial flows to developing countries (US $)                    1560 non-null   float64\n 6   Renewable energy share in the total final energy consumption (%)  3455 non-null   float64\n 7   Electricity from fossil fuels (TWh)                               3628 non-null   float64\n 8   Electricity from nuclear (TWh)                                    3523 non-null   float64\n 9   Electricity from renewables (TWh)                                 3628 non-null   float64\n 10  Low-carbon electricity (% electricity)                            3607 non-null   float64\n 11  Primary energy consumption per capita (kWh/person)                3649 non-null   float64\n 12  Energy intensity level of primary energy (MJ/$2017 PPP GDP)       3442 non-null   float64\n 13  Value_co2_emissions_kt_by_country                                 3221 non-null   float64\n 14  Renewables (% equivalent primary energy)                          1512 non-null   float64\n 15  gdp_growth                                                        3332 non-null   float64\n 16  gdp_per_capita                                                    3367 non-null   float64\n 17  Density\\n(P/Km2)                                                  3648 non-null   object \n 18  Land Area(Km2)                                                    3648 non-null   float64\n 19  Latitude                                                          3648 non-null   float64\n 20  Longitude                                                         3648 non-null   float64\ndtypes: float64(18), int64(1), object(2)\nmemory usage: 598.8+ KB\n",
                    "output_type": "stream"
                }
            ],
            "outputs_reference": "s3:deepnote-cell-outputs-production/d50beb86-6318-45b7-a356-5f4e0157391c",
            "content_dependencies": null
        },
        {
            "cell_type": "code",
            "metadata": {
                "source_hash": "60e5166d",
                "execution_start": 1737556243426,
                "execution_millis": 4,
                "execution_context_id": "692cbec1-1944-4c5d-bb67-4d3df92c9c7d",
                "cell_id": "6da95d71349e4b09a0f00f8a3b400714",
                "deepnote_cell_type": "code"
            },
            "source": "# Assess columns missing the most values\ndf.isnull().sum()",
            "block_group": "0dc32f2337eb4bba9f498994d6ec25ea",
            "execution_count": 13,
            "outputs": [
                {
                    "output_type": "execute_result",
                    "execution_count": 13,
                    "data": {
                        "text/plain": "Entity                                                                 0\nYear                                                                   0\nAccess to electricity (% of population)                               10\nAccess to clean fuels for cooking                                    169\nRenewable-electricity-generating-capacity-per-capita                 931\nFinancial flows to developing countries (US $)                      2089\nRenewable energy share in the total final energy consumption (%)     194\nElectricity from fossil fuels (TWh)                                   21\nElectricity from nuclear (TWh)                                       126\nElectricity from renewables (TWh)                                     21\nLow-carbon electricity (% electricity)                                42\nPrimary energy consumption per capita (kWh/person)                     0\nEnergy intensity level of primary energy (MJ/$2017 PPP GDP)          207\nValue_co2_emissions_kt_by_country                                    428\nRenewables (% equivalent primary energy)                            2137\ngdp_growth                                                           317\ngdp_per_capita                                                       282\nDensity\\n(P/Km2)                                                       1\nLand Area(Km2)                                                         1\nLatitude                                                               1\nLongitude                                                              1\ndtype: int64"
                    },
                    "metadata": {}
                }
            ],
            "outputs_reference": "s3:deepnote-cell-outputs-production/bbdf42c2-4a44-4f2d-88cf-26442252cc19",
            "content_dependencies": null
        },
        {
            "cell_type": "code",
            "metadata": {
                "source_hash": "acef1468",
                "execution_start": 1737458603753,
                "execution_millis": 43,
                "sql_integration_id": "deepnote-dataframe-sql",
                "deepnote_table_state": {
                    "sortBy": [],
                    "filters": [],
                    "pageSize": 10,
                    "pageIndex": 0,
                    "columnOrder": [
                        "Country",
                        "Access_to_Electricity",
                        "Access_to_Clean_Cooking",
                        "Renewable_Electricity_Capacity",
                        "Financial_Flows",
                        "Renewable_Energy_Share",
                        "Electricity_Fossil_Fuels",
                        "Electricity_Nuclear",
                        "Electricity_Renewables",
                        "Low_Carbon_Electricity",
                        "Energy_Consumption_Per_Capita",
                        "Energy_Intensity",
                        "CO2_Emissions",
                        "Renewables_Equivalent",
                        "GDP_Growth",
                        "GDP_Per_Capita",
                        "Population_Density",
                        "Land_Area"
                    ],
                    "hiddenColumnIds": [],
                    "columnDisplayNames": [],
                    "conditionalFilters": [],
                    "cellFormattingRules": [],
                    "wrappedTextColumnIds": []
                },
                "execution_context_id": "5db0ce0a-030a-4d54-bff3-828f12cf9254",
                "deepnote_table_loading": false,
                "deepnote_variable_name": "df_3",
                "cell_id": "5fd83e87379441fc8b68d3f2f8368c2a",
                "deepnote_cell_type": "sql",
                "deepnote_sql_source": "SELECT * FROM df\nWHERE Financial_Flows IS NULL AND Renewables_Equivalent IS NOT NULL;"
            },
            "source": "df_3 = (lambda: _deepnote_execute_sql('SELECT * FROM df\\nWHERE Financial_Flows IS NULL AND Renewables_Equivalent IS NOT NULL;', 'SQL_DEEPNOTE_DATAFRAME_SQL', audit_sql_comment='', sql_cache_mode='cache_disabled') if '_deepnote_execute_sql' in globals() else _dntk.execute_sql('SELECT * FROM df\\nWHERE Financial_Flows IS NULL AND Renewables_Equivalent IS NOT NULL;', 'SQL_DEEPNOTE_DATAFRAME_SQL', audit_sql_comment='', sql_cache_mode='cache_disabled'))()\ndf_3",
            "block_group": "71862e8d67cc4320ad9c99d64630c1e1",
            "execution_count": 32,
            "outputs": [
                {
                    "output_type": "execute_result",
                    "execution_count": 32,
                    "data": {
                        "application/vnd.deepnote.dataframe.v3+json": {
                            "column_count": 18,
                            "row_count": 1064,
                            "columns": [
                                {
                                    "name": "Country",
                                    "dtype": "object",
                                    "stats": {
                                        "unique_count": 72,
                                        "nan_count": 0,
                                        "categories": [
                                            {
                                                "name": "Australia",
                                                "count": 21
                                            },
                                            {
                                                "name": "Austria",
                                                "count": 21
                                            },
                                            {
                                                "name": "70 others",
                                                "count": 1022
                                            }
                                        ]
                                    }
                                },
                                {
                                    "name": "Access_to_Electricity",
                                    "dtype": "float64",
                                    "stats": {
                                        "unique_count": 84,
                                        "nan_count": 0,
                                        "min": "35.032646",
                                        "max": "100.0",
                                        "histogram": [
                                            {
                                                "bin_start": 35.032646,
                                                "bin_end": 41.5293814,
                                                "count": 1
                                            },
                                            {
                                                "bin_start": 41.5293814,
                                                "bin_end": 48.0261168,
                                                "count": 0
                                            },
                                            {
                                                "bin_start": 48.0261168,
                                                "bin_end": 54.5228522,
                                                "count": 0
                                            },
                                            {
                                                "bin_start": 54.5228522,
                                                "bin_end": 61.0195876,
                                                "count": 0
                                            },
                                            {
                                                "bin_start": 61.0195876,
                                                "bin_end": 67.516323,
                                                "count": 0
                                            },
                                            {
                                                "bin_start": 67.516323,
                                                "bin_end": 74.0130584,
                                                "count": 0
                                            },
                                            {
                                                "bin_start": 74.0130584,
                                                "bin_end": 80.50979380000001,
                                                "count": 2
                                            },
                                            {
                                                "bin_start": 80.50979380000001,
                                                "bin_end": 87.0065292,
                                                "count": 2
                                            },
                                            {
                                                "bin_start": 87.0065292,
                                                "bin_end": 93.5032646,
                                                "count": 2
                                            },
                                            {
                                                "bin_start": 93.5032646,
                                                "bin_end": 100,
                                                "count": 1057
                                            }
                                        ]
                                    }
                                },
                                {
                                    "name": "Access_to_Clean_Cooking",
                                    "dtype": "float64",
                                    "stats": {
                                        "unique_count": 127,
                                        "nan_count": 21,
                                        "min": "8.3",
                                        "max": "100.0",
                                        "histogram": [
                                            {
                                                "bin_start": 8.3,
                                                "bin_end": 17.47,
                                                "count": 1
                                            },
                                            {
                                                "bin_start": 17.47,
                                                "bin_end": 26.64,
                                                "count": 1
                                            },
                                            {
                                                "bin_start": 26.64,
                                                "bin_end": 35.81,
                                                "count": 1
                                            },
                                            {
                                                "bin_start": 35.81,
                                                "bin_end": 44.980000000000004,
                                                "count": 1
                                            },
                                            {
                                                "bin_start": 44.980000000000004,
                                                "bin_end": 54.150000000000006,
                                                "count": 2
                                            },
                                            {
                                                "bin_start": 54.150000000000006,
                                                "bin_end": 63.31999999999999,
                                                "count": 8
                                            },
                                            {
                                                "bin_start": 63.31999999999999,
                                                "bin_end": 72.49,
                                                "count": 11
                                            },
                                            {
                                                "bin_start": 72.49,
                                                "bin_end": 81.66,
                                                "count": 24
                                            },
                                            {
                                                "bin_start": 81.66,
                                                "bin_end": 90.83,
                                                "count": 40
                                            },
                                            {
                                                "bin_start": 90.83,
                                                "bin_end": 100,
                                                "count": 954
                                            }
                                        ]
                                    }
                                },
                                {
                                    "name": "Renewable_Electricity_Capacity",
                                    "dtype": "float64",
                                    "stats": {
                                        "unique_count": 181,
                                        "nan_count": 819,
                                        "min": "0.0",
                                        "max": "705.9",
                                        "histogram": [
                                            {
                                                "bin_start": 0,
                                                "bin_end": 70.59,
                                                "count": 192
                                            },
                                            {
                                                "bin_start": 70.59,
                                                "bin_end": 141.18,
                                                "count": 21
                                            },
                                            {
                                                "bin_start": 141.18,
                                                "bin_end": 211.77,
                                                "count": 15
                                            },
                                            {
                                                "bin_start": 211.77,
                                                "bin_end": 282.36,
                                                "count": 9
                                            },
                                            {
                                                "bin_start": 282.36,
                                                "bin_end": 352.95000000000005,
                                                "count": 2
                                            },
                                            {
                                                "bin_start": 352.95000000000005,
                                                "bin_end": 423.54,
                                                "count": 0
                                            },
                                            {
                                                "bin_start": 423.54,
                                                "bin_end": 494.13,
                                                "count": 0
                                            },
                                            {
                                                "bin_start": 494.13,
                                                "bin_end": 564.72,
                                                "count": 0
                                            },
                                            {
                                                "bin_start": 564.72,
                                                "bin_end": 635.3100000000001,
                                                "count": 4
                                            },
                                            {
                                                "bin_start": 635.3100000000001,
                                                "bin_end": 705.9,
                                                "count": 2
                                            }
                                        ]
                                    }
                                },
                                {
                                    "name": "Financial_Flows",
                                    "dtype": "float64",
                                    "stats": {
                                        "unique_count": 0,
                                        "nan_count": 1064,
                                        "min": null,
                                        "max": null,
                                        "histogram": [
                                            {
                                                "bin_start": 0,
                                                "bin_end": 0.1,
                                                "count": 0
                                            },
                                            {
                                                "bin_start": 0.1,
                                                "bin_end": 0.2,
                                                "count": 0
                                            },
                                            {
                                                "bin_start": 0.2,
                                                "bin_end": 0.30000000000000004,
                                                "count": 0
                                            },
                                            {
                                                "bin_start": 0.30000000000000004,
                                                "bin_end": 0.4,
                                                "count": 0
                                            },
                                            {
                                                "bin_start": 0.4,
                                                "bin_end": 0.5,
                                                "count": 0
                                            },
                                            {
                                                "bin_start": 0.5,
                                                "bin_end": 0.6000000000000001,
                                                "count": 0
                                            },
                                            {
                                                "bin_start": 0.6000000000000001,
                                                "bin_end": 0.7000000000000001,
                                                "count": 0
                                            },
                                            {
                                                "bin_start": 0.7000000000000001,
                                                "bin_end": 0.8,
                                                "count": 0
                                            },
                                            {
                                                "bin_start": 0.8,
                                                "bin_end": 0.9,
                                                "count": 0
                                            },
                                            {
                                                "bin_start": 0.9,
                                                "bin_end": 1,
                                                "count": 0
                                            }
                                        ]
                                    }
                                },
                                {
                                    "name": "Renewable_Energy_Share",
                                    "dtype": "float64",
                                    "stats": {
                                        "unique_count": 781,
                                        "nan_count": 72,
                                        "min": "0.0",
                                        "max": "81.07",
                                        "histogram": [
                                            {
                                                "bin_start": 0,
                                                "bin_end": 8.107,
                                                "count": 437
                                            },
                                            {
                                                "bin_start": 8.107,
                                                "bin_end": 16.214,
                                                "count": 188
                                            },
                                            {
                                                "bin_start": 16.214,
                                                "bin_end": 24.320999999999998,
                                                "count": 165
                                            },
                                            {
                                                "bin_start": 24.320999999999998,
                                                "bin_end": 32.428,
                                                "count": 88
                                            },
                                            {
                                                "bin_start": 32.428,
                                                "bin_end": 40.535,
                                                "count": 51
                                            },
                                            {
                                                "bin_start": 40.535,
                                                "bin_end": 48.641999999999996,
                                                "count": 17
                                            },
                                            {
                                                "bin_start": 48.641999999999996,
                                                "bin_end": 56.748999999999995,
                                                "count": 10
                                            },
                                            {
                                                "bin_start": 56.748999999999995,
                                                "bin_end": 64.856,
                                                "count": 23
                                            },
                                            {
                                                "bin_start": 64.856,
                                                "bin_end": 72.963,
                                                "count": 1
                                            },
                                            {
                                                "bin_start": 72.963,
                                                "bin_end": 81.07,
                                                "count": 12
                                            }
                                        ]
                                    }
                                },
                                {
                                    "name": "Electricity_Fossil_Fuels",
                                    "dtype": "float64",
                                    "stats": {
                                        "unique_count": 973,
                                        "nan_count": 0,
                                        "min": "0.0",
                                        "max": "5184.13",
                                        "histogram": [
                                            {
                                                "bin_start": 0,
                                                "bin_end": 518.413,
                                                "count": 1020
                                            },
                                            {
                                                "bin_start": 518.413,
                                                "bin_end": 1036.826,
                                                "count": 21
                                            },
                                            {
                                                "bin_start": 1036.826,
                                                "bin_end": 1555.239,
                                                "count": 1
                                            },
                                            {
                                                "bin_start": 1555.239,
                                                "bin_end": 2073.652,
                                                "count": 0
                                            },
                                            {
                                                "bin_start": 2073.652,
                                                "bin_end": 2592.065,
                                                "count": 3
                                            },
                                            {
                                                "bin_start": 2592.065,
                                                "bin_end": 3110.478,
                                                "count": 18
                                            },
                                            {
                                                "bin_start": 3110.478,
                                                "bin_end": 3628.891,
                                                "count": 0
                                            },
                                            {
                                                "bin_start": 3628.891,
                                                "bin_end": 4147.304,
                                                "count": 0
                                            },
                                            {
                                                "bin_start": 4147.304,
                                                "bin_end": 4665.717000000001,
                                                "count": 0
                                            },
                                            {
                                                "bin_start": 4665.717000000001,
                                                "bin_end": 5184.13,
                                                "count": 1
                                            }
                                        ]
                                    }
                                },
                                {
                                    "name": "Electricity_Nuclear",
                                    "dtype": "float64",
                                    "stats": {
                                        "unique_count": 401,
                                        "nan_count": 38,
                                        "min": "0.0",
                                        "max": "809.41",
                                        "histogram": [
                                            {
                                                "bin_start": 0,
                                                "bin_end": 80.941,
                                                "count": 915
                                            },
                                            {
                                                "bin_start": 80.941,
                                                "bin_end": 161.882,
                                                "count": 50
                                            },
                                            {
                                                "bin_start": 161.882,
                                                "bin_end": 242.823,
                                                "count": 9
                                            },
                                            {
                                                "bin_start": 242.823,
                                                "bin_end": 323.764,
                                                "count": 9
                                            },
                                            {
                                                "bin_start": 323.764,
                                                "bin_end": 404.70500000000004,
                                                "count": 5
                                            },
                                            {
                                                "bin_start": 404.70500000000004,
                                                "bin_end": 485.646,
                                                "count": 17
                                            },
                                            {
                                                "bin_start": 485.646,
                                                "bin_end": 566.587,
                                                "count": 0
                                            },
                                            {
                                                "bin_start": 566.587,
                                                "bin_end": 647.528,
                                                "count": 0
                                            },
                                            {
                                                "bin_start": 647.528,
                                                "bin_end": 728.469,
                                                "count": 0
                                            },
                                            {
                                                "bin_start": 728.469,
                                                "bin_end": 809.41,
                                                "count": 21
                                            }
                                        ]
                                    }
                                },
                                {
                                    "name": "Electricity_Renewables",
                                    "dtype": "float64",
                                    "stats": {
                                        "unique_count": 796,
                                        "nan_count": 0,
                                        "min": "0.0",
                                        "max": "2184.94",
                                        "histogram": [
                                            {
                                                "bin_start": 0,
                                                "bin_end": 218.494,
                                                "count": 1016
                                            },
                                            {
                                                "bin_start": 218.494,
                                                "bin_end": 436.988,
                                                "count": 36
                                            },
                                            {
                                                "bin_start": 436.988,
                                                "bin_end": 655.482,
                                                "count": 7
                                            },
                                            {
                                                "bin_start": 655.482,
                                                "bin_end": 873.976,
                                                "count": 4
                                            },
                                            {
                                                "bin_start": 873.976,
                                                "bin_end": 1092.47,
                                                "count": 0
                                            },
                                            {
                                                "bin_start": 1092.47,
                                                "bin_end": 1310.964,
                                                "count": 0
                                            },
                                            {
                                                "bin_start": 1310.964,
                                                "bin_end": 1529.458,
                                                "count": 0
                                            },
                                            {
                                                "bin_start": 1529.458,
                                                "bin_end": 1747.952,
                                                "count": 0
                                            },
                                            {
                                                "bin_start": 1747.952,
                                                "bin_end": 1966.446,
                                                "count": 0
                                            },
                                            {
                                                "bin_start": 1966.446,
                                                "bin_end": 2184.94,
                                                "count": 1
                                            }
                                        ]
                                    }
                                },
                                {
                                    "name": "Low_Carbon_Electricity",
                                    "dtype": "float64",
                                    "stats": {
                                        "unique_count": 949,
                                        "nan_count": 0,
                                        "min": "0.0",
                                        "max": "100.0",
                                        "histogram": [
                                            {
                                                "bin_start": 0,
                                                "bin_end": 10,
                                                "count": 316
                                            },
                                            {
                                                "bin_start": 10,
                                                "bin_end": 20,
                                                "count": 111
                                            },
                                            {
                                                "bin_start": 20,
                                                "bin_end": 30,
                                                "count": 75
                                            },
                                            {
                                                "bin_start": 30,
                                                "bin_end": 40,
                                                "count": 93
                                            },
                                            {
                                                "bin_start": 40,
                                                "bin_end": 50,
                                                "count": 73
                                            },
                                            {
                                                "bin_start": 50,
                                                "bin_end": 60,
                                                "count": 95
                                            },
                                            {
                                                "bin_start": 60,
                                                "bin_end": 70,
                                                "count": 95
                                            },
                                            {
                                                "bin_start": 70,
                                                "bin_end": 80,
                                                "count": 70
                                            },
                                            {
                                                "bin_start": 80,
                                                "bin_end": 90,
                                                "count": 39
                                            },
                                            {
                                                "bin_start": 90,
                                                "bin_end": 100,
                                                "count": 97
                                            }
                                        ]
                                    }
                                },
                                {
                                    "name": "Energy_Consumption_Per_Capita",
                                    "dtype": "float64",
                                    "stats": {
                                        "unique_count": 1064,
                                        "nan_count": 0,
                                        "min": "1181.6239",
                                        "max": "262585.7",
                                        "histogram": [
                                            {
                                                "bin_start": 1181.6239,
                                                "bin_end": 27322.03151,
                                                "count": 213
                                            },
                                            {
                                                "bin_start": 27322.03151,
                                                "bin_end": 53462.43912,
                                                "count": 468
                                            },
                                            {
                                                "bin_start": 53462.43912,
                                                "bin_end": 79602.84673000002,
                                                "count": 167
                                            },
                                            {
                                                "bin_start": 79602.84673000002,
                                                "bin_end": 105743.25434000001,
                                                "count": 60
                                            },
                                            {
                                                "bin_start": 105743.25434000001,
                                                "bin_end": 131883.66195,
                                                "count": 76
                                            },
                                            {
                                                "bin_start": 131883.66195,
                                                "bin_end": 158024.06956000003,
                                                "count": 33
                                            },
                                            {
                                                "bin_start": 158024.06956000003,
                                                "bin_end": 184164.47717000003,
                                                "count": 25
                                            },
                                            {
                                                "bin_start": 184164.47717000003,
                                                "bin_end": 210304.88478000002,
                                                "count": 12
                                            },
                                            {
                                                "bin_start": 210304.88478000002,
                                                "bin_end": 236445.29239000002,
                                                "count": 7
                                            },
                                            {
                                                "bin_start": 236445.29239000002,
                                                "bin_end": 262585.7,
                                                "count": 3
                                            }
                                        ]
                                    }
                                },
                                {
                                    "name": "Energy_Intensity",
                                    "dtype": "float64",
                                    "stats": {
                                        "unique_count": 541,
                                        "nan_count": 72,
                                        "min": "1.32",
                                        "max": "32.57",
                                        "histogram": [
                                            {
                                                "bin_start": 1.32,
                                                "bin_end": 4.445,
                                                "count": 504
                                            },
                                            {
                                                "bin_start": 4.445,
                                                "bin_end": 7.57,
                                                "count": 349
                                            },
                                            {
                                                "bin_start": 7.57,
                                                "bin_end": 10.695,
                                                "count": 69
                                            },
                                            {
                                                "bin_start": 10.695,
                                                "bin_end": 13.82,
                                                "count": 20
                                            },
                                            {
                                                "bin_start": 13.82,
                                                "bin_end": 16.945,
                                                "count": 12
                                            },
                                            {
                                                "bin_start": 16.945,
                                                "bin_end": 20.07,
                                                "count": 10
                                            },
                                            {
                                                "bin_start": 20.07,
                                                "bin_end": 23.195,
                                                "count": 16
                                            },
                                            {
                                                "bin_start": 23.195,
                                                "bin_end": 26.32,
                                                "count": 5
                                            },
                                            {
                                                "bin_start": 26.32,
                                                "bin_end": 29.445,
                                                "count": 5
                                            },
                                            {
                                                "bin_start": 29.445,
                                                "bin_end": 32.57,
                                                "count": 2
                                            }
                                        ]
                                    }
                                },
                                {
                                    "name": "CO2_Emissions",
                                    "dtype": "float64",
                                    "stats": {
                                        "unique_count": 949,
                                        "nan_count": 94,
                                        "min": "1629.999995",
                                        "max": "5775810.0",
                                        "histogram": [
                                            {
                                                "bin_start": 1629.999995,
                                                "bin_end": 579047.9999955,
                                                "count": 908
                                            },
                                            {
                                                "bin_start": 579047.9999955,
                                                "bin_end": 1156465.999996,
                                                "count": 26
                                            },
                                            {
                                                "bin_start": 1156465.999996,
                                                "bin_end": 1733883.9999964999,
                                                "count": 16
                                            },
                                            {
                                                "bin_start": 1733883.9999964999,
                                                "bin_end": 2311301.999997,
                                                "count": 0
                                            },
                                            {
                                                "bin_start": 2311301.999997,
                                                "bin_end": 2888719.9999975003,
                                                "count": 0
                                            },
                                            {
                                                "bin_start": 2888719.9999975003,
                                                "bin_end": 3466137.999998,
                                                "count": 0
                                            },
                                            {
                                                "bin_start": 3466137.999998,
                                                "bin_end": 4043555.9999985,
                                                "count": 0
                                            },
                                            {
                                                "bin_start": 4043555.9999985,
                                                "bin_end": 4620973.999999,
                                                "count": 0
                                            },
                                            {
                                                "bin_start": 4620973.999999,
                                                "bin_end": 5198391.9999995,
                                                "count": 10
                                            },
                                            {
                                                "bin_start": 5198391.9999995,
                                                "bin_end": 5775810,
                                                "count": 10
                                            }
                                        ]
                                    }
                                },
                                {
                                    "name": "Renewables_Equivalent",
                                    "dtype": "float64",
                                    "stats": {
                                        "unique_count": 1007,
                                        "nan_count": 0,
                                        "min": "0.0",
                                        "max": "86.836586",
                                        "histogram": [
                                            {
                                                "bin_start": 0,
                                                "bin_end": 8.6836586,
                                                "count": 627
                                            },
                                            {
                                                "bin_start": 8.6836586,
                                                "bin_end": 17.3673172,
                                                "count": 175
                                            },
                                            {
                                                "bin_start": 17.3673172,
                                                "bin_end": 26.050975799999996,
                                                "count": 87
                                            },
                                            {
                                                "bin_start": 26.050975799999996,
                                                "bin_end": 34.7346344,
                                                "count": 90
                                            },
                                            {
                                                "bin_start": 34.7346344,
                                                "bin_end": 43.418293,
                                                "count": 39
                                            },
                                            {
                                                "bin_start": 43.418293,
                                                "bin_end": 52.10195159999999,
                                                "count": 4
                                            },
                                            {
                                                "bin_start": 52.10195159999999,
                                                "bin_end": 60.785610199999994,
                                                "count": 0
                                            },
                                            {
                                                "bin_start": 60.785610199999994,
                                                "bin_end": 69.4692688,
                                                "count": 18
                                            },
                                            {
                                                "bin_start": 69.4692688,
                                                "bin_end": 78.1529274,
                                                "count": 12
                                            },
                                            {
                                                "bin_start": 78.1529274,
                                                "bin_end": 86.836586,
                                                "count": 12
                                            }
                                        ]
                                    }
                                },
                                {
                                    "name": "GDP_Growth",
                                    "dtype": "float64",
                                    "stats": {
                                        "unique_count": 1019,
                                        "nan_count": 45,
                                        "min": "-15.67309279",
                                        "max": "53.38179418",
                                        "histogram": [
                                            {
                                                "bin_start": -15.67309279,
                                                "bin_end": -8.767604093,
                                                "count": 16
                                            },
                                            {
                                                "bin_start": -8.767604093,
                                                "bin_end": -1.862115396,
                                                "count": 104
                                            },
                                            {
                                                "bin_start": -1.862115396,
                                                "bin_end": 5.043373301000001,
                                                "count": 700
                                            },
                                            {
                                                "bin_start": 5.043373301000001,
                                                "bin_end": 11.948861998,
                                                "count": 179
                                            },
                                            {
                                                "bin_start": 11.948861998,
                                                "bin_end": 18.854350695,
                                                "count": 14
                                            },
                                            {
                                                "bin_start": 18.854350695,
                                                "bin_end": 25.759839392000003,
                                                "count": 4
                                            },
                                            {
                                                "bin_start": 25.759839392000003,
                                                "bin_end": 32.665328089,
                                                "count": 1
                                            },
                                            {
                                                "bin_start": 32.665328089,
                                                "bin_end": 39.570816786,
                                                "count": 0
                                            },
                                            {
                                                "bin_start": 39.570816786,
                                                "bin_end": 46.476305483000004,
                                                "count": 0
                                            },
                                            {
                                                "bin_start": 46.476305483000004,
                                                "bin_end": 53.38179418,
                                                "count": 1
                                            }
                                        ]
                                    }
                                },
                                {
                                    "name": "GDP_Per_Capita",
                                    "dtype": "float64",
                                    "stats": {
                                        "unique_count": 1020,
                                        "nan_count": 44,
                                        "min": "383.343068",
                                        "max": "123514.1967",
                                        "histogram": [
                                            {
                                                "bin_start": 383.343068,
                                                "bin_end": 12696.4284312,
                                                "count": 274
                                            },
                                            {
                                                "bin_start": 12696.4284312,
                                                "bin_end": 25009.513794399998,
                                                "count": 224
                                            },
                                            {
                                                "bin_start": 25009.513794399998,
                                                "bin_end": 37322.5991576,
                                                "count": 145
                                            },
                                            {
                                                "bin_start": 37322.5991576,
                                                "bin_end": 49635.6845208,
                                                "count": 192
                                            },
                                            {
                                                "bin_start": 49635.6845208,
                                                "bin_end": 61948.769884,
                                                "count": 105
                                            },
                                            {
                                                "bin_start": 61948.769884,
                                                "bin_end": 74261.8552472,
                                                "count": 30
                                            },
                                            {
                                                "bin_start": 74261.8552472,
                                                "bin_end": 86574.94061040001,
                                                "count": 25
                                            },
                                            {
                                                "bin_start": 86574.94061040001,
                                                "bin_end": 98888.0259736,
                                                "count": 8
                                            },
                                            {
                                                "bin_start": 98888.0259736,
                                                "bin_end": 111201.1113368,
                                                "count": 9
                                            },
                                            {
                                                "bin_start": 111201.1113368,
                                                "bin_end": 123514.1967,
                                                "count": 8
                                            }
                                        ]
                                    }
                                },
                                {
                                    "name": "Population_Density",
                                    "dtype": "float64",
                                    "stats": {
                                        "unique_count": 61,
                                        "nan_count": 0,
                                        "min": "3.0",
                                        "max": "8358.0",
                                        "histogram": [
                                            {
                                                "bin_start": 3,
                                                "bin_end": 838.5,
                                                "count": 1041
                                            },
                                            {
                                                "bin_start": 838.5,
                                                "bin_end": 1674,
                                                "count": 2
                                            },
                                            {
                                                "bin_start": 1674,
                                                "bin_end": 2509.5,
                                                "count": 0
                                            },
                                            {
                                                "bin_start": 2509.5,
                                                "bin_end": 3345,
                                                "count": 0
                                            },
                                            {
                                                "bin_start": 3345,
                                                "bin_end": 4180.5,
                                                "count": 0
                                            },
                                            {
                                                "bin_start": 4180.5,
                                                "bin_end": 5016,
                                                "count": 0
                                            },
                                            {
                                                "bin_start": 5016,
                                                "bin_end": 5851.5,
                                                "count": 0
                                            },
                                            {
                                                "bin_start": 5851.5,
                                                "bin_end": 6687,
                                                "count": 0
                                            },
                                            {
                                                "bin_start": 6687,
                                                "bin_end": 7522.5,
                                                "count": 0
                                            },
                                            {
                                                "bin_start": 7522.5,
                                                "bin_end": 8358,
                                                "count": 21
                                            }
                                        ]
                                    }
                                },
                                {
                                    "name": "Land_Area",
                                    "dtype": "float64",
                                    "stats": {
                                        "unique_count": 72,
                                        "nan_count": 0,
                                        "min": "716.0",
                                        "max": "9984670.0",
                                        "histogram": [
                                            {
                                                "bin_start": 716,
                                                "bin_end": 999111.4,
                                                "count": 951
                                            },
                                            {
                                                "bin_start": 999111.4,
                                                "bin_end": 1997506.8,
                                                "count": 10
                                            },
                                            {
                                                "bin_start": 1997506.8,
                                                "bin_end": 2995902.2,
                                                "count": 37
                                            },
                                            {
                                                "bin_start": 2995902.2,
                                                "bin_end": 3994297.6,
                                                "count": 1
                                            },
                                            {
                                                "bin_start": 3994297.6,
                                                "bin_end": 4992693,
                                                "count": 0
                                            },
                                            {
                                                "bin_start": 4992693,
                                                "bin_end": 5991088.4,
                                                "count": 0
                                            },
                                            {
                                                "bin_start": 5991088.4,
                                                "bin_end": 6989483.8,
                                                "count": 0
                                            },
                                            {
                                                "bin_start": 6989483.8,
                                                "bin_end": 7987879.2,
                                                "count": 21
                                            },
                                            {
                                                "bin_start": 7987879.2,
                                                "bin_end": 8986274.6,
                                                "count": 1
                                            },
                                            {
                                                "bin_start": 8986274.6,
                                                "bin_end": 9984670,
                                                "count": 43
                                            }
                                        ]
                                    }
                                },
                                {
                                    "name": "_deepnote_index_column",
                                    "dtype": "int64"
                                }
                            ],
                            "rows": [
                                {
                                    "Country": "Algeria",
                                    "Access_to_Electricity": 98.9731,
                                    "Access_to_Clean_Cooking": 97.1,
                                    "Renewable_Electricity_Capacity": 8.91,
                                    "Financial_Flows": "nan",
                                    "Renewable_Energy_Share": 0.43,
                                    "Electricity_Fossil_Fuels": 23.84,
                                    "Electricity_Nuclear": 0,
                                    "Electricity_Renewables": 0.05,
                                    "Low_Carbon_Electricity": 0.20929259,
                                    "Energy_Consumption_Per_Capita": 9746.524,
                                    "Energy_Intensity": 4.18,
                                    "CO2_Emissions": 80050,
                                    "Renewables_Equivalent": 0.053235482,
                                    "GDP_Growth": 3.8,
                                    "GDP_Per_Capita": 1765.027146,
                                    "Population_Density": 18,
                                    "Land_Area": 2381741,
                                    "_deepnote_index_column": 0
                                },
                                {
                                    "Country": "Algeria",
                                    "Access_to_Electricity": 98.86901,
                                    "Access_to_Clean_Cooking": 98.7,
                                    "Renewable_Electricity_Capacity": 7.42,
                                    "Financial_Flows": "nan",
                                    "Renewable_Energy_Share": 0.41,
                                    "Electricity_Fossil_Fuels": 32.9,
                                    "Electricity_Nuclear": 0,
                                    "Electricity_Renewables": 0.22,
                                    "Low_Carbon_Electricity": 0.6642512,
                                    "Energy_Consumption_Per_Capita": 11341.98,
                                    "Energy_Intensity": 4.1,
                                    "CO2_Emissions": 99809.99756,
                                    "Renewables_Equivalent": 0.16327195,
                                    "GDP_Growth": 1.7,
                                    "GDP_Per_Capita": 3478.710002,
                                    "Population_Density": 18,
                                    "Land_Area": 2381741,
                                    "_deepnote_index_column": 1
                                },
                                {
                                    "Country": "Algeria",
                                    "Access_to_Electricity": 98.852936,
                                    "Access_to_Clean_Cooking": 98.8,
                                    "Renewable_Electricity_Capacity": 7.3,
                                    "Financial_Flows": "nan",
                                    "Renewable_Energy_Share": 0.41,
                                    "Electricity_Fossil_Fuels": 34.75,
                                    "Electricity_Nuclear": 0,
                                    "Electricity_Renewables": 0.22,
                                    "Low_Carbon_Electricity": 0.62911063,
                                    "Energy_Consumption_Per_Capita": 11759.701,
                                    "Energy_Intensity": 4.21,
                                    "CO2_Emissions": 102750,
                                    "Renewables_Equivalent": 0.15990457,
                                    "GDP_Growth": 3.4,
                                    "GDP_Per_Capita": 3950.512993,
                                    "Population_Density": 18,
                                    "Land_Area": 2381741,
                                    "_deepnote_index_column": 2
                                },
                                {
                                    "Country": "Algeria",
                                    "Access_to_Electricity": 99.3,
                                    "Access_to_Clean_Cooking": 99,
                                    "Renewable_Electricity_Capacity": 6.64,
                                    "Financial_Flows": "nan",
                                    "Renewable_Energy_Share": 0.3,
                                    "Electricity_Fossil_Fuels": 37.55,
                                    "Electricity_Nuclear": 0,
                                    "Electricity_Renewables": 0.28,
                                    "Low_Carbon_Electricity": 0.74015325,
                                    "Energy_Consumption_Per_Capita": 12252.297,
                                    "Energy_Intensity": 4.16,
                                    "CO2_Emissions": 107750,
                                    "Renewables_Equivalent": 0.1877543,
                                    "GDP_Growth": 2.4,
                                    "GDP_Per_Capita": 4923.631615,
                                    "Population_Density": 18,
                                    "Land_Area": 2381741,
                                    "_deepnote_index_column": 3
                                },
                                {
                                    "Country": "Algeria",
                                    "Access_to_Electricity": 99.80413,
                                    "Access_to_Clean_Cooking": 99.7,
                                    "Renewable_Electricity_Capacity": 15.64,
                                    "Financial_Flows": "nan",
                                    "Renewable_Energy_Share": "nan",
                                    "Electricity_Fossil_Fuels": 72.01,
                                    "Electricity_Nuclear": 0,
                                    "Electricity_Renewables": 0.72,
                                    "Low_Carbon_Electricity": 0.9899628,
                                    "Energy_Consumption_Per_Capita": 14933.807,
                                    "Energy_Intensity": "nan",
                                    "CO2_Emissions": "nan",
                                    "Renewables_Equivalent": 0.29789943,
                                    "GDP_Growth": -5.1,
                                    "GDP_Per_Capita": 3306.858208,
                                    "Population_Density": 18,
                                    "Land_Area": 2381741,
                                    "_deepnote_index_column": 4
                                },
                                {
                                    "Country": "Argentina",
                                    "Access_to_Electricity": 95.78329,
                                    "Access_to_Clean_Cooking": 95,
                                    "Renewable_Electricity_Capacity": 235.62,
                                    "Financial_Flows": "nan",
                                    "Renewable_Energy_Share": 9.85,
                                    "Electricity_Fossil_Fuels": 50.37,
                                    "Electricity_Nuclear": 5.99,
                                    "Electricity_Renewables": 28.89,
                                    "Low_Carbon_Electricity": 40.914955,
                                    "Energy_Consumption_Per_Capita": 18849.81,
                                    "Energy_Intensity": 3.69,
                                    "CO2_Emissions": 132270,
                                    "Renewables_Equivalent": 12.283858,
                                    "GDP_Growth": -0.788998939,
                                    "GDP_Per_Capita": 7708.099115,
                                    "Population_Density": 17,
                                    "Land_Area": 2780400,
                                    "_deepnote_index_column": 5
                                },
                                {
                                    "Country": "Argentina",
                                    "Access_to_Electricity": 96.22887,
                                    "Access_to_Clean_Cooking": 96.1,
                                    "Renewable_Electricity_Capacity": 236.78,
                                    "Financial_Flows": "nan",
                                    "Renewable_Energy_Share": 11.62,
                                    "Electricity_Fossil_Fuels": 39.7,
                                    "Electricity_Nuclear": 5.39,
                                    "Electricity_Renewables": 36.06,
                                    "Low_Carbon_Electricity": 51.07825,
                                    "Energy_Consumption_Per_Capita": 17275.256,
                                    "Energy_Intensity": 3.99,
                                    "CO2_Emissions": 117470.0012,
                                    "Renewables_Equivalent": 16.249306,
                                    "GDP_Growth": -10.89448483,
                                    "GDP_Per_Capita": 2593.404563,
                                    "Population_Density": 17,
                                    "Land_Area": 2780400,
                                    "_deepnote_index_column": 6
                                },
                                {
                                    "Country": "Argentina",
                                    "Access_to_Electricity": 100,
                                    "Access_to_Clean_Cooking": 99.9,
                                    "Renewable_Electricity_Capacity": 311.28,
                                    "Financial_Flows": "nan",
                                    "Renewable_Energy_Share": "nan",
                                    "Electricity_Fossil_Fuels": 91.58,
                                    "Electricity_Nuclear": 10.06,
                                    "Electricity_Renewables": 37.05,
                                    "Low_Carbon_Electricity": 33.967842,
                                    "Energy_Consumption_Per_Capita": 19314.066,
                                    "Energy_Intensity": "nan",
                                    "CO2_Emissions": "nan",
                                    "Renewables_Equivalent": 12.179417,
                                    "GDP_Growth": -9.895268964,
                                    "GDP_Per_Capita": 8579.017773,
                                    "Population_Density": 17,
                                    "Land_Area": 2780400,
                                    "_deepnote_index_column": 7
                                },
                                {
                                    "Country": "Australia",
                                    "Access_to_Electricity": 100,
                                    "Access_to_Clean_Cooking": 100,
                                    "Renewable_Electricity_Capacity": "nan",
                                    "Financial_Flows": "nan",
                                    "Renewable_Energy_Share": 8.42,
                                    "Electricity_Fossil_Fuels": 181.05,
                                    "Electricity_Nuclear": 0,
                                    "Electricity_Renewables": 17.11,
                                    "Low_Carbon_Electricity": 8.634437,
                                    "Energy_Consumption_Per_Capita": 68632.96,
                                    "Energy_Intensity": 6.16,
                                    "CO2_Emissions": 339450,
                                    "Renewables_Equivalent": 3.9888778,
                                    "GDP_Growth": 3.912427733,
                                    "GDP_Per_Capita": 21697.70848,
                                    "Population_Density": 3,
                                    "Land_Area": 7741220,
                                    "_deepnote_index_column": 8
                                },
                                {
                                    "Country": "Australia",
                                    "Access_to_Electricity": 100,
                                    "Access_to_Clean_Cooking": 100,
                                    "Renewable_Electricity_Capacity": "nan",
                                    "Financial_Flows": "nan",
                                    "Renewable_Energy_Share": 8.37,
                                    "Electricity_Fossil_Fuels": 194.33,
                                    "Electricity_Nuclear": 0,
                                    "Electricity_Renewables": 17.4,
                                    "Low_Carbon_Electricity": 8.218014,
                                    "Energy_Consumption_Per_Capita": 68338.28,
                                    "Energy_Intensity": 5.91,
                                    "CO2_Emissions": 345640,
                                    "Renewables_Equivalent": 3.870762,
                                    "GDP_Growth": 2.038300732,
                                    "GDP_Per_Capita": 19527.32358,
                                    "Population_Density": 3,
                                    "Land_Area": 7741220,
                                    "_deepnote_index_column": 9
                                }
                            ]
                        },
                        "text/plain": "         Country  Access_to_Electricity  Access_to_Clean_Cooking  \\\n0        Algeria              98.973100                    97.10   \n1        Algeria              98.869010                    98.70   \n2        Algeria              98.852936                    98.80   \n3        Algeria              99.300000                    99.00   \n4        Algeria              99.804130                    99.70   \n...          ...                    ...                      ...   \n1059  Uzbekistan              99.852905                    85.60   \n1060  Uzbekistan              99.912890                    85.80   \n1061  Uzbekistan              99.961440                    85.60   \n1062  Uzbekistan             100.000000                    85.50   \n1063  Uzbekistan             100.000000                    84.25   \n\n      Renewable_Electricity_Capacity  Financial_Flows  Renewable_Energy_Share  \\\n0                               8.91              NaN                    0.43   \n1                               7.42              NaN                    0.41   \n2                               7.30              NaN                    0.41   \n3                               6.64              NaN                    0.30   \n4                              15.64              NaN                     NaN   \n...                              ...              ...                     ...   \n1059                           62.10              NaN                    1.25   \n1060                           62.87              NaN                    1.35   \n1061                           61.70              NaN                    0.95   \n1062                           61.53              NaN                    1.40   \n1063                           60.02              NaN                     NaN   \n\n      Electricity_Fossil_Fuels  Electricity_Nuclear  Electricity_Renewables  \\\n0                        23.84                  0.0                    0.05   \n1                        32.90                  0.0                    0.22   \n2                        34.75                  0.0                    0.22   \n3                        37.55                  0.0                    0.28   \n4                        72.01                  0.0                    0.72   \n...                        ...                  ...                     ...   \n1059                     38.18                  0.0                    6.42   \n1060                     41.16                  0.0                    8.11   \n1061                     44.28                  0.0                    5.65   \n1062                     46.70                  0.0                    6.01   \n1063                     50.93                  0.0                    5.01   \n\n      Low_Carbon_Electricity  Energy_Consumption_Per_Capita  Energy_Intensity  \\\n0                   0.209293                       9746.524              4.18   \n1                   0.664251                      11341.980              4.10   \n2                   0.629111                      11759.701              4.21   \n3                   0.740153                      12252.297              4.16   \n4                   0.989963                      14933.807               NaN   \n...                      ...                            ...               ...   \n1059               14.394619                      18643.188             14.07   \n1060               16.460320                      18563.715             14.22   \n1061               11.315842                      19236.137             13.59   \n1062               11.402011                      18518.158              8.83   \n1063                8.956025                      15860.609               NaN   \n\n      CO2_Emissions  Renewables_Equivalent  GDP_Growth  GDP_Per_Capita  \\\n0       80050.00000               0.053235    3.800000     1765.027146   \n1       99809.99756               0.163272    1.700000     3478.710002   \n2      102750.00000               0.159905    3.400000     3950.512993   \n3      107750.00000               0.187754    2.400000     4923.631615   \n4               NaN               0.297899   -5.100000     3306.858208   \n...             ...                    ...         ...             ...   \n1059   116529.99880               3.447852    8.050933     1213.265328   \n1060   126239.99790               4.280482    7.597168     1742.349256   \n1061   128630.00490               2.823631    7.525140     2051.129515   \n1062   104870.00270               2.971807    6.873838     2628.460008   \n1063            NaN               2.523421    1.714771     1750.697113   \n\n      Population_Density  Land_Area  \n0                   18.0  2381741.0  \n1                   18.0  2381741.0  \n2                   18.0  2381741.0  \n3                   18.0  2381741.0  \n4                   18.0  2381741.0  \n...                  ...        ...  \n1059                79.0   447400.0  \n1060                79.0   447400.0  \n1061                79.0   447400.0  \n1062                79.0   447400.0  \n1063                79.0   447400.0  \n\n[1064 rows x 18 columns]",
                        "text/html": "<div>\n<style scoped>\n    .dataframe tbody tr th:only-of-type {\n        vertical-align: middle;\n    }\n\n    .dataframe tbody tr th {\n        vertical-align: top;\n    }\n\n    .dataframe thead th {\n        text-align: right;\n    }\n</style>\n<table border=\"1\" class=\"dataframe\">\n  <thead>\n    <tr style=\"text-align: right;\">\n      <th></th>\n      <th>Country</th>\n      <th>Access_to_Electricity</th>\n      <th>Access_to_Clean_Cooking</th>\n      <th>Renewable_Electricity_Capacity</th>\n      <th>Financial_Flows</th>\n      <th>Renewable_Energy_Share</th>\n      <th>Electricity_Fossil_Fuels</th>\n      <th>Electricity_Nuclear</th>\n      <th>Electricity_Renewables</th>\n      <th>Low_Carbon_Electricity</th>\n      <th>Energy_Consumption_Per_Capita</th>\n      <th>Energy_Intensity</th>\n      <th>CO2_Emissions</th>\n      <th>Renewables_Equivalent</th>\n      <th>GDP_Growth</th>\n      <th>GDP_Per_Capita</th>\n      <th>Population_Density</th>\n      <th>Land_Area</th>\n    </tr>\n  </thead>\n  <tbody>\n    <tr>\n      <th>0</th>\n      <td>Algeria</td>\n      <td>98.973100</td>\n      <td>97.10</td>\n      <td>8.91</td>\n      <td>NaN</td>\n      <td>0.43</td>\n      <td>23.84</td>\n      <td>0.0</td>\n      <td>0.05</td>\n      <td>0.209293</td>\n      <td>9746.524</td>\n      <td>4.18</td>\n      <td>80050.00000</td>\n      <td>0.053235</td>\n      <td>3.800000</td>\n      <td>1765.027146</td>\n      <td>18.0</td>\n      <td>2381741.0</td>\n    </tr>\n    <tr>\n      <th>1</th>\n      <td>Algeria</td>\n      <td>98.869010</td>\n      <td>98.70</td>\n      <td>7.42</td>\n      <td>NaN</td>\n      <td>0.41</td>\n      <td>32.90</td>\n      <td>0.0</td>\n      <td>0.22</td>\n      <td>0.664251</td>\n      <td>11341.980</td>\n      <td>4.10</td>\n      <td>99809.99756</td>\n      <td>0.163272</td>\n      <td>1.700000</td>\n      <td>3478.710002</td>\n      <td>18.0</td>\n      <td>2381741.0</td>\n    </tr>\n    <tr>\n      <th>2</th>\n      <td>Algeria</td>\n      <td>98.852936</td>\n      <td>98.80</td>\n      <td>7.30</td>\n      <td>NaN</td>\n      <td>0.41</td>\n      <td>34.75</td>\n      <td>0.0</td>\n      <td>0.22</td>\n      <td>0.629111</td>\n      <td>11759.701</td>\n      <td>4.21</td>\n      <td>102750.00000</td>\n      <td>0.159905</td>\n      <td>3.400000</td>\n      <td>3950.512993</td>\n      <td>18.0</td>\n      <td>2381741.0</td>\n    </tr>\n    <tr>\n      <th>3</th>\n      <td>Algeria</td>\n      <td>99.300000</td>\n      <td>99.00</td>\n      <td>6.64</td>\n      <td>NaN</td>\n      <td>0.30</td>\n      <td>37.55</td>\n      <td>0.0</td>\n      <td>0.28</td>\n      <td>0.740153</td>\n      <td>12252.297</td>\n      <td>4.16</td>\n      <td>107750.00000</td>\n      <td>0.187754</td>\n      <td>2.400000</td>\n      <td>4923.631615</td>\n      <td>18.0</td>\n      <td>2381741.0</td>\n    </tr>\n    <tr>\n      <th>4</th>\n      <td>Algeria</td>\n      <td>99.804130</td>\n      <td>99.70</td>\n      <td>15.64</td>\n      <td>NaN</td>\n      <td>NaN</td>\n      <td>72.01</td>\n      <td>0.0</td>\n      <td>0.72</td>\n      <td>0.989963</td>\n      <td>14933.807</td>\n      <td>NaN</td>\n      <td>NaN</td>\n      <td>0.297899</td>\n      <td>-5.100000</td>\n      <td>3306.858208</td>\n      <td>18.0</td>\n      <td>2381741.0</td>\n    </tr>\n    <tr>\n      <th>...</th>\n      <td>...</td>\n      <td>...</td>\n      <td>...</td>\n      <td>...</td>\n      <td>...</td>\n      <td>...</td>\n      <td>...</td>\n      <td>...</td>\n      <td>...</td>\n      <td>...</td>\n      <td>...</td>\n      <td>...</td>\n      <td>...</td>\n      <td>...</td>\n      <td>...</td>\n      <td>...</td>\n      <td>...</td>\n      <td>...</td>\n    </tr>\n    <tr>\n      <th>1059</th>\n      <td>Uzbekistan</td>\n      <td>99.852905</td>\n      <td>85.60</td>\n      <td>62.10</td>\n      <td>NaN</td>\n      <td>1.25</td>\n      <td>38.18</td>\n      <td>0.0</td>\n      <td>6.42</td>\n      <td>14.394619</td>\n      <td>18643.188</td>\n      <td>14.07</td>\n      <td>116529.99880</td>\n      <td>3.447852</td>\n      <td>8.050933</td>\n      <td>1213.265328</td>\n      <td>79.0</td>\n      <td>447400.0</td>\n    </tr>\n    <tr>\n      <th>1060</th>\n      <td>Uzbekistan</td>\n      <td>99.912890</td>\n      <td>85.80</td>\n      <td>62.87</td>\n      <td>NaN</td>\n      <td>1.35</td>\n      <td>41.16</td>\n      <td>0.0</td>\n      <td>8.11</td>\n      <td>16.460320</td>\n      <td>18563.715</td>\n      <td>14.22</td>\n      <td>126239.99790</td>\n      <td>4.280482</td>\n      <td>7.597168</td>\n      <td>1742.349256</td>\n      <td>79.0</td>\n      <td>447400.0</td>\n    </tr>\n    <tr>\n      <th>1061</th>\n      <td>Uzbekistan</td>\n      <td>99.961440</td>\n      <td>85.60</td>\n      <td>61.70</td>\n      <td>NaN</td>\n      <td>0.95</td>\n      <td>44.28</td>\n      <td>0.0</td>\n      <td>5.65</td>\n      <td>11.315842</td>\n      <td>19236.137</td>\n      <td>13.59</td>\n      <td>128630.00490</td>\n      <td>2.823631</td>\n      <td>7.525140</td>\n      <td>2051.129515</td>\n      <td>79.0</td>\n      <td>447400.0</td>\n    </tr>\n    <tr>\n      <th>1062</th>\n      <td>Uzbekistan</td>\n      <td>100.000000</td>\n      <td>85.50</td>\n      <td>61.53</td>\n      <td>NaN</td>\n      <td>1.40</td>\n      <td>46.70</td>\n      <td>0.0</td>\n      <td>6.01</td>\n      <td>11.402011</td>\n      <td>18518.158</td>\n      <td>8.83</td>\n      <td>104870.00270</td>\n      <td>2.971807</td>\n      <td>6.873838</td>\n      <td>2628.460008</td>\n      <td>79.0</td>\n      <td>447400.0</td>\n    </tr>\n    <tr>\n      <th>1063</th>\n      <td>Uzbekistan</td>\n      <td>100.000000</td>\n      <td>84.25</td>\n      <td>60.02</td>\n      <td>NaN</td>\n      <td>NaN</td>\n      <td>50.93</td>\n      <td>0.0</td>\n      <td>5.01</td>\n      <td>8.956025</td>\n      <td>15860.609</td>\n      <td>NaN</td>\n      <td>NaN</td>\n      <td>2.523421</td>\n      <td>1.714771</td>\n      <td>1750.697113</td>\n      <td>79.0</td>\n      <td>447400.0</td>\n    </tr>\n  </tbody>\n</table>\n<p>1064 rows × 18 columns</p>\n</div>"
                    },
                    "metadata": {}
                }
            ],
            "outputs_reference": "s3:deepnote-cell-outputs-production/4a04683d-b140-46b7-bd9c-8280db934c21",
            "content_dependencies": null
        },
        {
            "cell_type": "code",
            "metadata": {
                "source_hash": "f88152d9",
                "execution_start": 1737556246515,
                "execution_millis": 8,
                "execution_context_id": "692cbec1-1944-4c5d-bb67-4d3df92c9c7d",
                "cell_id": "b0c6c1c1e8dc4718bfb98aa8e03f8cea",
                "deepnote_cell_type": "code"
            },
            "source": "df.describe()",
            "block_group": "0d739ed8d92446eb854638e80efc1fa5",
            "execution_count": 15,
            "outputs": [
                {
                    "output_type": "execute_result",
                    "execution_count": 15,
                    "data": {
                        "application/vnd.deepnote.dataframe.v3+json": {
                            "column_count": 19,
                            "row_count": 8,
                            "columns": [
                                {
                                    "name": "Year",
                                    "dtype": "float64",
                                    "stats": {
                                        "unique_count": 8,
                                        "nan_count": 0,
                                        "min": "6.054228365650787",
                                        "max": "3649.0",
                                        "histogram": [
                                            {
                                                "bin_start": 6.054228365650787,
                                                "bin_end": 370.34880552908567,
                                                "count": 1
                                            },
                                            {
                                                "bin_start": 370.34880552908567,
                                                "bin_end": 734.6433826925206,
                                                "count": 0
                                            },
                                            {
                                                "bin_start": 734.6433826925206,
                                                "bin_end": 1098.9379598559553,
                                                "count": 0
                                            },
                                            {
                                                "bin_start": 1098.9379598559553,
                                                "bin_end": 1463.2325370193903,
                                                "count": 0
                                            },
                                            {
                                                "bin_start": 1463.2325370193903,
                                                "bin_end": 1827.5271141828252,
                                                "count": 0
                                            },
                                            {
                                                "bin_start": 1827.5271141828252,
                                                "bin_end": 2191.82169134626,
                                                "count": 6
                                            },
                                            {
                                                "bin_start": 2191.82169134626,
                                                "bin_end": 2556.116268509695,
                                                "count": 0
                                            },
                                            {
                                                "bin_start": 2556.116268509695,
                                                "bin_end": 2920.41084567313,
                                                "count": 0
                                            },
                                            {
                                                "bin_start": 2920.41084567313,
                                                "bin_end": 3284.705422836565,
                                                "count": 0
                                            },
                                            {
                                                "bin_start": 3284.705422836565,
                                                "bin_end": 3649,
                                                "count": 1
                                            }
                                        ]
                                    }
                                },
                                {
                                    "name": "Access to electricity (% of population)",
                                    "dtype": "float64",
                                    "stats": {
                                        "unique_count": 7,
                                        "nan_count": 0,
                                        "min": "1.2522693",
                                        "max": "3639.0",
                                        "histogram": [
                                            {
                                                "bin_start": 1.2522693,
                                                "bin_end": 365.02704237,
                                                "count": 7
                                            },
                                            {
                                                "bin_start": 365.02704237,
                                                "bin_end": 728.8018154399999,
                                                "count": 0
                                            },
                                            {
                                                "bin_start": 728.8018154399999,
                                                "bin_end": 1092.57658851,
                                                "count": 0
                                            },
                                            {
                                                "bin_start": 1092.57658851,
                                                "bin_end": 1456.35136158,
                                                "count": 0
                                            },
                                            {
                                                "bin_start": 1456.35136158,
                                                "bin_end": 1820.12613465,
                                                "count": 0
                                            },
                                            {
                                                "bin_start": 1820.12613465,
                                                "bin_end": 2183.90090772,
                                                "count": 0
                                            },
                                            {
                                                "bin_start": 2183.90090772,
                                                "bin_end": 2547.67568079,
                                                "count": 0
                                            },
                                            {
                                                "bin_start": 2547.67568079,
                                                "bin_end": 2911.45045386,
                                                "count": 0
                                            },
                                            {
                                                "bin_start": 2911.45045386,
                                                "bin_end": 3275.2252269299997,
                                                "count": 0
                                            },
                                            {
                                                "bin_start": 3275.2252269299997,
                                                "bin_end": 3639,
                                                "count": 1
                                            }
                                        ]
                                    }
                                },
                                {
                                    "name": "Access to clean fuels for cooking",
                                    "dtype": "float64",
                                    "stats": {
                                        "unique_count": 7,
                                        "nan_count": 0,
                                        "min": "0.0",
                                        "max": "3480.0",
                                        "histogram": [
                                            {
                                                "bin_start": 0,
                                                "bin_end": 348,
                                                "count": 7
                                            },
                                            {
                                                "bin_start": 348,
                                                "bin_end": 696,
                                                "count": 0
                                            },
                                            {
                                                "bin_start": 696,
                                                "bin_end": 1044,
                                                "count": 0
                                            },
                                            {
                                                "bin_start": 1044,
                                                "bin_end": 1392,
                                                "count": 0
                                            },
                                            {
                                                "bin_start": 1392,
                                                "bin_end": 1740,
                                                "count": 0
                                            },
                                            {
                                                "bin_start": 1740,
                                                "bin_end": 2088,
                                                "count": 0
                                            },
                                            {
                                                "bin_start": 2088,
                                                "bin_end": 2436,
                                                "count": 0
                                            },
                                            {
                                                "bin_start": 2436,
                                                "bin_end": 2784,
                                                "count": 0
                                            },
                                            {
                                                "bin_start": 2784,
                                                "bin_end": 3132,
                                                "count": 0
                                            },
                                            {
                                                "bin_start": 3132,
                                                "bin_end": 3480,
                                                "count": 1
                                            }
                                        ]
                                    }
                                },
                                {
                                    "name": "Renewable-electricity-generating-capacity-per-capita",
                                    "dtype": "float64",
                                    "stats": {
                                        "unique_count": 8,
                                        "nan_count": 0,
                                        "min": "0.0",
                                        "max": "3060.19",
                                        "histogram": [
                                            {
                                                "bin_start": 0,
                                                "bin_end": 306.019,
                                                "count": 6
                                            },
                                            {
                                                "bin_start": 306.019,
                                                "bin_end": 612.038,
                                                "count": 0
                                            },
                                            {
                                                "bin_start": 612.038,
                                                "bin_end": 918.057,
                                                "count": 0
                                            },
                                            {
                                                "bin_start": 918.057,
                                                "bin_end": 1224.076,
                                                "count": 0
                                            },
                                            {
                                                "bin_start": 1224.076,
                                                "bin_end": 1530.095,
                                                "count": 0
                                            },
                                            {
                                                "bin_start": 1530.095,
                                                "bin_end": 1836.114,
                                                "count": 0
                                            },
                                            {
                                                "bin_start": 1836.114,
                                                "bin_end": 2142.133,
                                                "count": 0
                                            },
                                            {
                                                "bin_start": 2142.133,
                                                "bin_end": 2448.152,
                                                "count": 0
                                            },
                                            {
                                                "bin_start": 2448.152,
                                                "bin_end": 2754.1710000000003,
                                                "count": 1
                                            },
                                            {
                                                "bin_start": 2754.1710000000003,
                                                "bin_end": 3060.19,
                                                "count": 1
                                            }
                                        ]
                                    }
                                },
                                {
                                    "name": "Financial flows to developing countries (US $)",
                                    "dtype": "float64",
                                    "stats": {
                                        "unique_count": 8,
                                        "nan_count": 0,
                                        "min": "0.0",
                                        "max": "5202310000.0",
                                        "histogram": [
                                            {
                                                "bin_start": 0,
                                                "bin_end": 520231000,
                                                "count": 7
                                            },
                                            {
                                                "bin_start": 520231000,
                                                "bin_end": 1040462000,
                                                "count": 0
                                            },
                                            {
                                                "bin_start": 1040462000,
                                                "bin_end": 1560693000,
                                                "count": 0
                                            },
                                            {
                                                "bin_start": 1560693000,
                                                "bin_end": 2080924000,
                                                "count": 0
                                            },
                                            {
                                                "bin_start": 2080924000,
                                                "bin_end": 2601155000,
                                                "count": 0
                                            },
                                            {
                                                "bin_start": 2601155000,
                                                "bin_end": 3121386000,
                                                "count": 0
                                            },
                                            {
                                                "bin_start": 3121386000,
                                                "bin_end": 3641617000,
                                                "count": 0
                                            },
                                            {
                                                "bin_start": 3641617000,
                                                "bin_end": 4161848000,
                                                "count": 0
                                            },
                                            {
                                                "bin_start": 4161848000,
                                                "bin_end": 4682079000,
                                                "count": 0
                                            },
                                            {
                                                "bin_start": 4682079000,
                                                "bin_end": 5202310000,
                                                "count": 1
                                            }
                                        ]
                                    }
                                },
                                {
                                    "name": "Renewable energy share in the total final energy consumption (%)",
                                    "dtype": "float64",
                                    "stats": {
                                        "unique_count": 8,
                                        "nan_count": 0,
                                        "min": "0.0",
                                        "max": "3455.0",
                                        "histogram": [
                                            {
                                                "bin_start": 0,
                                                "bin_end": 345.5,
                                                "count": 7
                                            },
                                            {
                                                "bin_start": 345.5,
                                                "bin_end": 691,
                                                "count": 0
                                            },
                                            {
                                                "bin_start": 691,
                                                "bin_end": 1036.5,
                                                "count": 0
                                            },
                                            {
                                                "bin_start": 1036.5,
                                                "bin_end": 1382,
                                                "count": 0
                                            },
                                            {
                                                "bin_start": 1382,
                                                "bin_end": 1727.5,
                                                "count": 0
                                            },
                                            {
                                                "bin_start": 1727.5,
                                                "bin_end": 2073,
                                                "count": 0
                                            },
                                            {
                                                "bin_start": 2073,
                                                "bin_end": 2418.5,
                                                "count": 0
                                            },
                                            {
                                                "bin_start": 2418.5,
                                                "bin_end": 2764,
                                                "count": 0
                                            },
                                            {
                                                "bin_start": 2764,
                                                "bin_end": 3109.5,
                                                "count": 0
                                            },
                                            {
                                                "bin_start": 3109.5,
                                                "bin_end": 3455,
                                                "count": 1
                                            }
                                        ]
                                    }
                                },
                                {
                                    "name": "Electricity from fossil fuels (TWh)",
                                    "dtype": "float64",
                                    "stats": {
                                        "unique_count": 8,
                                        "nan_count": 0,
                                        "min": "0.0",
                                        "max": "5184.13",
                                        "histogram": [
                                            {
                                                "bin_start": 0,
                                                "bin_end": 518.413,
                                                "count": 6
                                            },
                                            {
                                                "bin_start": 518.413,
                                                "bin_end": 1036.826,
                                                "count": 0
                                            },
                                            {
                                                "bin_start": 1036.826,
                                                "bin_end": 1555.239,
                                                "count": 0
                                            },
                                            {
                                                "bin_start": 1555.239,
                                                "bin_end": 2073.652,
                                                "count": 0
                                            },
                                            {
                                                "bin_start": 2073.652,
                                                "bin_end": 2592.065,
                                                "count": 0
                                            },
                                            {
                                                "bin_start": 2592.065,
                                                "bin_end": 3110.478,
                                                "count": 0
                                            },
                                            {
                                                "bin_start": 3110.478,
                                                "bin_end": 3628.891,
                                                "count": 1
                                            },
                                            {
                                                "bin_start": 3628.891,
                                                "bin_end": 4147.304,
                                                "count": 0
                                            },
                                            {
                                                "bin_start": 4147.304,
                                                "bin_end": 4665.717000000001,
                                                "count": 0
                                            },
                                            {
                                                "bin_start": 4665.717000000001,
                                                "bin_end": 5184.13,
                                                "count": 1
                                            }
                                        ]
                                    }
                                },
                                {
                                    "name": "Electricity from nuclear (TWh)",
                                    "dtype": "float64",
                                    "stats": {
                                        "unique_count": 5,
                                        "nan_count": 0,
                                        "min": "0.0",
                                        "max": "3523.0",
                                        "histogram": [
                                            {
                                                "bin_start": 0,
                                                "bin_end": 352.3,
                                                "count": 6
                                            },
                                            {
                                                "bin_start": 352.3,
                                                "bin_end": 704.6,
                                                "count": 0
                                            },
                                            {
                                                "bin_start": 704.6,
                                                "bin_end": 1056.9,
                                                "count": 1
                                            },
                                            {
                                                "bin_start": 1056.9,
                                                "bin_end": 1409.2,
                                                "count": 0
                                            },
                                            {
                                                "bin_start": 1409.2,
                                                "bin_end": 1761.5,
                                                "count": 0
                                            },
                                            {
                                                "bin_start": 1761.5,
                                                "bin_end": 2113.8,
                                                "count": 0
                                            },
                                            {
                                                "bin_start": 2113.8,
                                                "bin_end": 2466.1,
                                                "count": 0
                                            },
                                            {
                                                "bin_start": 2466.1,
                                                "bin_end": 2818.4,
                                                "count": 0
                                            },
                                            {
                                                "bin_start": 2818.4,
                                                "bin_end": 3170.7000000000003,
                                                "count": 0
                                            },
                                            {
                                                "bin_start": 3170.7000000000003,
                                                "bin_end": 3523,
                                                "count": 1
                                            }
                                        ]
                                    }
                                },
                                {
                                    "name": "Electricity from renewables (TWh)",
                                    "dtype": "float64",
                                    "stats": {
                                        "unique_count": 8,
                                        "nan_count": 0,
                                        "min": "0.0",
                                        "max": "3628.0",
                                        "histogram": [
                                            {
                                                "bin_start": 0,
                                                "bin_end": 362.8,
                                                "count": 6
                                            },
                                            {
                                                "bin_start": 362.8,
                                                "bin_end": 725.6,
                                                "count": 0
                                            },
                                            {
                                                "bin_start": 725.6,
                                                "bin_end": 1088.4,
                                                "count": 0
                                            },
                                            {
                                                "bin_start": 1088.4,
                                                "bin_end": 1451.2,
                                                "count": 0
                                            },
                                            {
                                                "bin_start": 1451.2,
                                                "bin_end": 1814,
                                                "count": 0
                                            },
                                            {
                                                "bin_start": 1814,
                                                "bin_end": 2176.8,
                                                "count": 0
                                            },
                                            {
                                                "bin_start": 2176.8,
                                                "bin_end": 2539.6,
                                                "count": 1
                                            },
                                            {
                                                "bin_start": 2539.6,
                                                "bin_end": 2902.4,
                                                "count": 0
                                            },
                                            {
                                                "bin_start": 2902.4,
                                                "bin_end": 3265.2000000000003,
                                                "count": 0
                                            },
                                            {
                                                "bin_start": 3265.2000000000003,
                                                "bin_end": 3628,
                                                "count": 1
                                            }
                                        ]
                                    }
                                },
                                {
                                    "name": "Low-carbon electricity (% electricity)",
                                    "dtype": "float64",
                                    "stats": {
                                        "unique_count": 8,
                                        "nan_count": 0,
                                        "min": "0.0",
                                        "max": "3607.0",
                                        "histogram": [
                                            {
                                                "bin_start": 0,
                                                "bin_end": 360.7,
                                                "count": 7
                                            },
                                            {
                                                "bin_start": 360.7,
                                                "bin_end": 721.4,
                                                "count": 0
                                            },
                                            {
                                                "bin_start": 721.4,
                                                "bin_end": 1082.1,
                                                "count": 0
                                            },
                                            {
                                                "bin_start": 1082.1,
                                                "bin_end": 1442.8,
                                                "count": 0
                                            },
                                            {
                                                "bin_start": 1442.8,
                                                "bin_end": 1803.5,
                                                "count": 0
                                            },
                                            {
                                                "bin_start": 1803.5,
                                                "bin_end": 2164.2,
                                                "count": 0
                                            },
                                            {
                                                "bin_start": 2164.2,
                                                "bin_end": 2524.9,
                                                "count": 0
                                            },
                                            {
                                                "bin_start": 2524.9,
                                                "bin_end": 2885.6,
                                                "count": 0
                                            },
                                            {
                                                "bin_start": 2885.6,
                                                "bin_end": 3246.2999999999997,
                                                "count": 0
                                            },
                                            {
                                                "bin_start": 3246.2999999999997,
                                                "bin_end": 3607,
                                                "count": 1
                                            }
                                        ]
                                    }
                                },
                                {
                                    "name": "Primary energy consumption per capita (kWh/person)",
                                    "dtype": "float64",
                                    "stats": {
                                        "unique_count": 8,
                                        "nan_count": 0,
                                        "min": "0.0",
                                        "max": "262585.7",
                                        "histogram": [
                                            {
                                                "bin_start": 0,
                                                "bin_end": 26258.57,
                                                "count": 5
                                            },
                                            {
                                                "bin_start": 26258.57,
                                                "bin_end": 52517.14,
                                                "count": 2
                                            },
                                            {
                                                "bin_start": 52517.14,
                                                "bin_end": 78775.70999999999,
                                                "count": 0
                                            },
                                            {
                                                "bin_start": 78775.70999999999,
                                                "bin_end": 105034.28,
                                                "count": 0
                                            },
                                            {
                                                "bin_start": 105034.28,
                                                "bin_end": 131292.85,
                                                "count": 0
                                            },
                                            {
                                                "bin_start": 131292.85,
                                                "bin_end": 157551.41999999998,
                                                "count": 0
                                            },
                                            {
                                                "bin_start": 157551.41999999998,
                                                "bin_end": 183809.99,
                                                "count": 0
                                            },
                                            {
                                                "bin_start": 183809.99,
                                                "bin_end": 210068.56,
                                                "count": 0
                                            },
                                            {
                                                "bin_start": 210068.56,
                                                "bin_end": 236327.13,
                                                "count": 0
                                            },
                                            {
                                                "bin_start": 236327.13,
                                                "bin_end": 262585.7,
                                                "count": 1
                                            }
                                        ]
                                    }
                                },
                                {
                                    "name": "Energy intensity level of primary energy (MJ/$2017 PPP GDP)",
                                    "dtype": "float64",
                                    "stats": {
                                        "unique_count": 8,
                                        "nan_count": 0,
                                        "min": "0.11",
                                        "max": "3442.0",
                                        "histogram": [
                                            {
                                                "bin_start": 0.11,
                                                "bin_end": 344.299,
                                                "count": 7
                                            },
                                            {
                                                "bin_start": 344.299,
                                                "bin_end": 688.4879999999999,
                                                "count": 0
                                            },
                                            {
                                                "bin_start": 688.4879999999999,
                                                "bin_end": 1032.677,
                                                "count": 0
                                            },
                                            {
                                                "bin_start": 1032.677,
                                                "bin_end": 1376.8659999999998,
                                                "count": 0
                                            },
                                            {
                                                "bin_start": 1376.8659999999998,
                                                "bin_end": 1721.0549999999996,
                                                "count": 0
                                            },
                                            {
                                                "bin_start": 1721.0549999999996,
                                                "bin_end": 2065.244,
                                                "count": 0
                                            },
                                            {
                                                "bin_start": 2065.244,
                                                "bin_end": 2409.433,
                                                "count": 0
                                            },
                                            {
                                                "bin_start": 2409.433,
                                                "bin_end": 2753.622,
                                                "count": 0
                                            },
                                            {
                                                "bin_start": 2753.622,
                                                "bin_end": 3097.8109999999997,
                                                "count": 0
                                            },
                                            {
                                                "bin_start": 3097.8109999999997,
                                                "bin_end": 3442,
                                                "count": 1
                                            }
                                        ]
                                    }
                                },
                                {
                                    "name": "Value_co2_emissions_kt_by_country",
                                    "dtype": "float64",
                                    "stats": {
                                        "unique_count": 8,
                                        "nan_count": 0,
                                        "min": "9.999999776",
                                        "max": "10707219.73",
                                        "histogram": [
                                            {
                                                "bin_start": 9.999999776,
                                                "bin_end": 1070730.9729997984,
                                                "count": 7
                                            },
                                            {
                                                "bin_start": 1070730.9729997984,
                                                "bin_end": 2141451.9459998207,
                                                "count": 0
                                            },
                                            {
                                                "bin_start": 2141451.9459998207,
                                                "bin_end": 3212172.918999843,
                                                "count": 0
                                            },
                                            {
                                                "bin_start": 3212172.918999843,
                                                "bin_end": 4282893.891999865,
                                                "count": 0
                                            },
                                            {
                                                "bin_start": 4282893.891999865,
                                                "bin_end": 5353614.8649998875,
                                                "count": 0
                                            },
                                            {
                                                "bin_start": 5353614.8649998875,
                                                "bin_end": 6424335.837999909,
                                                "count": 0
                                            },
                                            {
                                                "bin_start": 6424335.837999909,
                                                "bin_end": 7495056.810999932,
                                                "count": 0
                                            },
                                            {
                                                "bin_start": 7495056.810999932,
                                                "bin_end": 8565777.783999955,
                                                "count": 0
                                            },
                                            {
                                                "bin_start": 8565777.783999955,
                                                "bin_end": 9636498.756999977,
                                                "count": 0
                                            },
                                            {
                                                "bin_start": 9636498.756999977,
                                                "bin_end": 10707219.73,
                                                "count": 1
                                            }
                                        ]
                                    }
                                },
                                {
                                    "name": "Renewables (% equivalent primary energy)",
                                    "dtype": "float64",
                                    "stats": {
                                        "unique_count": 8,
                                        "nan_count": 0,
                                        "min": "0.0",
                                        "max": "1512.0",
                                        "histogram": [
                                            {
                                                "bin_start": 0,
                                                "bin_end": 151.2,
                                                "count": 7
                                            },
                                            {
                                                "bin_start": 151.2,
                                                "bin_end": 302.4,
                                                "count": 0
                                            },
                                            {
                                                "bin_start": 302.4,
                                                "bin_end": 453.59999999999997,
                                                "count": 0
                                            },
                                            {
                                                "bin_start": 453.59999999999997,
                                                "bin_end": 604.8,
                                                "count": 0
                                            },
                                            {
                                                "bin_start": 604.8,
                                                "bin_end": 756,
                                                "count": 0
                                            },
                                            {
                                                "bin_start": 756,
                                                "bin_end": 907.1999999999999,
                                                "count": 0
                                            },
                                            {
                                                "bin_start": 907.1999999999999,
                                                "bin_end": 1058.3999999999999,
                                                "count": 0
                                            },
                                            {
                                                "bin_start": 1058.3999999999999,
                                                "bin_end": 1209.6,
                                                "count": 0
                                            },
                                            {
                                                "bin_start": 1209.6,
                                                "bin_end": 1360.8,
                                                "count": 0
                                            },
                                            {
                                                "bin_start": 1360.8,
                                                "bin_end": 1512,
                                                "count": 1
                                            }
                                        ]
                                    }
                                },
                                {
                                    "name": "gdp_growth",
                                    "dtype": "float64",
                                    "stats": {
                                        "unique_count": 8,
                                        "nan_count": 0,
                                        "min": "-62.07591958",
                                        "max": "3332.0",
                                        "histogram": [
                                            {
                                                "bin_start": -62.07591958,
                                                "bin_end": 277.331672378,
                                                "count": 7
                                            },
                                            {
                                                "bin_start": 277.331672378,
                                                "bin_end": 616.739264336,
                                                "count": 0
                                            },
                                            {
                                                "bin_start": 616.739264336,
                                                "bin_end": 956.146856294,
                                                "count": 0
                                            },
                                            {
                                                "bin_start": 956.146856294,
                                                "bin_end": 1295.5544482520002,
                                                "count": 0
                                            },
                                            {
                                                "bin_start": 1295.5544482520002,
                                                "bin_end": 1634.9620402100002,
                                                "count": 0
                                            },
                                            {
                                                "bin_start": 1634.9620402100002,
                                                "bin_end": 1974.3696321680002,
                                                "count": 0
                                            },
                                            {
                                                "bin_start": 1974.3696321680002,
                                                "bin_end": 2313.777224126,
                                                "count": 0
                                            },
                                            {
                                                "bin_start": 2313.777224126,
                                                "bin_end": 2653.184816084,
                                                "count": 0
                                            },
                                            {
                                                "bin_start": 2653.184816084,
                                                "bin_end": 2992.592408042,
                                                "count": 0
                                            },
                                            {
                                                "bin_start": 2992.592408042,
                                                "bin_end": 3332,
                                                "count": 1
                                            }
                                        ]
                                    }
                                },
                                {
                                    "name": "gdp_per_capita",
                                    "dtype": "float64",
                                    "stats": {
                                        "unique_count": 8,
                                        "nan_count": 0,
                                        "min": "111.9272251",
                                        "max": "123514.1967",
                                        "histogram": [
                                            {
                                                "bin_start": 111.9272251,
                                                "bin_end": 12452.15417259,
                                                "count": 4
                                            },
                                            {
                                                "bin_start": 12452.15417259,
                                                "bin_end": 24792.38112008,
                                                "count": 3
                                            },
                                            {
                                                "bin_start": 24792.38112008,
                                                "bin_end": 37132.60806757,
                                                "count": 0
                                            },
                                            {
                                                "bin_start": 37132.60806757,
                                                "bin_end": 49472.83501506,
                                                "count": 0
                                            },
                                            {
                                                "bin_start": 49472.83501506,
                                                "bin_end": 61813.061962550004,
                                                "count": 0
                                            },
                                            {
                                                "bin_start": 61813.061962550004,
                                                "bin_end": 74153.28891003999,
                                                "count": 0
                                            },
                                            {
                                                "bin_start": 74153.28891003999,
                                                "bin_end": 86493.51585753,
                                                "count": 0
                                            },
                                            {
                                                "bin_start": 86493.51585753,
                                                "bin_end": 98833.74280502,
                                                "count": 0
                                            },
                                            {
                                                "bin_start": 98833.74280502,
                                                "bin_end": 111173.96975250999,
                                                "count": 0
                                            },
                                            {
                                                "bin_start": 111173.96975250999,
                                                "bin_end": 123514.1967,
                                                "count": 1
                                            }
                                        ]
                                    }
                                },
                                {
                                    "name": "Land Area(Km2)",
                                    "dtype": "float64",
                                    "stats": {
                                        "unique_count": 8,
                                        "nan_count": 0,
                                        "min": "21.0",
                                        "max": "9984670.0",
                                        "histogram": [
                                            {
                                                "bin_start": 21,
                                                "bin_end": 998485.9,
                                                "count": 6
                                            },
                                            {
                                                "bin_start": 998485.9,
                                                "bin_end": 1996950.8,
                                                "count": 1
                                            },
                                            {
                                                "bin_start": 1996950.8,
                                                "bin_end": 2995415.7,
                                                "count": 0
                                            },
                                            {
                                                "bin_start": 2995415.7,
                                                "bin_end": 3993880.6,
                                                "count": 0
                                            },
                                            {
                                                "bin_start": 3993880.6,
                                                "bin_end": 4992345.5,
                                                "count": 0
                                            },
                                            {
                                                "bin_start": 4992345.5,
                                                "bin_end": 5990810.4,
                                                "count": 0
                                            },
                                            {
                                                "bin_start": 5990810.4,
                                                "bin_end": 6989275.3,
                                                "count": 0
                                            },
                                            {
                                                "bin_start": 6989275.3,
                                                "bin_end": 7987740.2,
                                                "count": 0
                                            },
                                            {
                                                "bin_start": 7987740.2,
                                                "bin_end": 8986205.1,
                                                "count": 0
                                            },
                                            {
                                                "bin_start": 8986205.1,
                                                "bin_end": 9984670,
                                                "count": 1
                                            }
                                        ]
                                    }
                                },
                                {
                                    "name": "Latitude",
                                    "dtype": "float64",
                                    "stats": {
                                        "unique_count": 8,
                                        "nan_count": 0,
                                        "min": "-40.900557",
                                        "max": "3648.0",
                                        "histogram": [
                                            {
                                                "bin_start": -40.900557,
                                                "bin_end": 327.9894987,
                                                "count": 7
                                            },
                                            {
                                                "bin_start": 327.9894987,
                                                "bin_end": 696.8795544,
                                                "count": 0
                                            },
                                            {
                                                "bin_start": 696.8795544,
                                                "bin_end": 1065.7696101000001,
                                                "count": 0
                                            },
                                            {
                                                "bin_start": 1065.7696101000001,
                                                "bin_end": 1434.6596658,
                                                "count": 0
                                            },
                                            {
                                                "bin_start": 1434.6596658,
                                                "bin_end": 1803.5497215,
                                                "count": 0
                                            },
                                            {
                                                "bin_start": 1803.5497215,
                                                "bin_end": 2172.4397772,
                                                "count": 0
                                            },
                                            {
                                                "bin_start": 2172.4397772,
                                                "bin_end": 2541.3298329,
                                                "count": 0
                                            },
                                            {
                                                "bin_start": 2541.3298329,
                                                "bin_end": 2910.2198886,
                                                "count": 0
                                            },
                                            {
                                                "bin_start": 2910.2198886,
                                                "bin_end": 3279.1099443000003,
                                                "count": 0
                                            },
                                            {
                                                "bin_start": 3279.1099443000003,
                                                "bin_end": 3648,
                                                "count": 1
                                            }
                                        ]
                                    }
                                },
                                {
                                    "name": "Longitude",
                                    "dtype": "float64",
                                    "stats": {
                                        "unique_count": 8,
                                        "nan_count": 0,
                                        "min": "-175.198242",
                                        "max": "3648.0",
                                        "histogram": [
                                            {
                                                "bin_start": -175.198242,
                                                "bin_end": 207.12158219999998,
                                                "count": 7
                                            },
                                            {
                                                "bin_start": 207.12158219999998,
                                                "bin_end": 589.4414064,
                                                "count": 0
                                            },
                                            {
                                                "bin_start": 589.4414064,
                                                "bin_end": 971.7612306000001,
                                                "count": 0
                                            },
                                            {
                                                "bin_start": 971.7612306000001,
                                                "bin_end": 1354.0810548,
                                                "count": 0
                                            },
                                            {
                                                "bin_start": 1354.0810548,
                                                "bin_end": 1736.4008789999998,
                                                "count": 0
                                            },
                                            {
                                                "bin_start": 1736.4008789999998,
                                                "bin_end": 2118.7207032,
                                                "count": 0
                                            },
                                            {
                                                "bin_start": 2118.7207032,
                                                "bin_end": 2501.0405274,
                                                "count": 0
                                            },
                                            {
                                                "bin_start": 2501.0405274,
                                                "bin_end": 2883.3603516,
                                                "count": 0
                                            },
                                            {
                                                "bin_start": 2883.3603516,
                                                "bin_end": 3265.6801757999997,
                                                "count": 0
                                            },
                                            {
                                                "bin_start": 3265.6801757999997,
                                                "bin_end": 3648,
                                                "count": 1
                                            }
                                        ]
                                    }
                                },
                                {
                                    "name": "_deepnote_index_column",
                                    "dtype": "object"
                                }
                            ],
                            "rows": [
                                {
                                    "Year": 3649,
                                    "Access to electricity (% of population)": 3639,
                                    "Access to clean fuels for cooking": 3480,
                                    "Renewable-electricity-generating-capacity-per-capita": 2718,
                                    "Financial flows to developing countries (US $)": 1560,
                                    "Renewable energy share in the total final energy consumption (%)": 3455,
                                    "Electricity from fossil fuels (TWh)": 3628,
                                    "Electricity from nuclear (TWh)": 3523,
                                    "Electricity from renewables (TWh)": 3628,
                                    "Low-carbon electricity (% electricity)": 3607,
                                    "Primary energy consumption per capita (kWh/person)": 3649,
                                    "Energy intensity level of primary energy (MJ/$2017 PPP GDP)": 3442,
                                    "Value_co2_emissions_kt_by_country": 3221,
                                    "Renewables (% equivalent primary energy)": 1512,
                                    "gdp_growth": 3332,
                                    "gdp_per_capita": 3367,
                                    "Land Area(Km2)": 3648,
                                    "Latitude": 3648,
                                    "Longitude": 3648,
                                    "_deepnote_index_column": "count"
                                },
                                {
                                    "Year": 2010.0383666758016,
                                    "Access to electricity (% of population)": 78.93370216207748,
                                    "Access to clean fuels for cooking": 63.25528735632183,
                                    "Renewable-electricity-generating-capacity-per-capita": 113.13749816041205,
                                    "Financial flows to developing countries (US $)": 94224000,
                                    "Renewable energy share in the total final energy consumption (%)": 32.63816497829233,
                                    "Electricity from fossil fuels (TWh)": 70.36500275633958,
                                    "Electricity from nuclear (TWh)": 13.450190178824867,
                                    "Electricity from renewables (TWh)": 23.968009922822493,
                                    "Low-carbon electricity (% electricity)": 36.80118186985084,
                                    "Primary energy consumption per capita (kWh/person)": 25743.98174504221,
                                    "Energy intensity level of primary energy (MJ/$2017 PPP GDP)": 5.3073450588901805,
                                    "Value_co2_emissions_kt_by_country": 159866.46268574602,
                                    "Renewables (% equivalent primary energy)": 11.986706828095237,
                                    "gdp_growth": 3.441610056684874,
                                    "gdp_per_capita": 13283.77434796745,
                                    "Land Area(Km2)": 633213.4893092106,
                                    "Latitude": 18.246387760444083,
                                    "Longitude": 14.822694542171051,
                                    "_deepnote_index_column": "mean"
                                },
                                {
                                    "Year": 6.054228365650787,
                                    "Access to electricity (% of population)": 30.27554143374901,
                                    "Access to clean fuels for cooking": 39.04365757473373,
                                    "Renewable-electricity-generating-capacity-per-capita": 244.1672556628789,
                                    "Financial flows to developing countries (US $)": 298154406.5856052,
                                    "Renewable energy share in the total final energy consumption (%)": 29.89490136284929,
                                    "Electricity from fossil fuels (TWh)": 348.05186613011125,
                                    "Electricity from nuclear (TWh)": 73.00662309724117,
                                    "Electricity from renewables (TWh)": 104.43108494343312,
                                    "Low-carbon electricity (% electricity)": 34.31488417070435,
                                    "Primary energy consumption per capita (kWh/person)": 34773.2213657441,
                                    "Energy intensity level of primary energy (MJ/$2017 PPP GDP)": 3.532020083154272,
                                    "Value_co2_emissions_kt_by_country": 773661.0643937222,
                                    "Renewables (% equivalent primary energy)": 14.994644244604238,
                                    "gdp_growth": 5.6867201572028865,
                                    "gdp_per_capita": 19709.866715804706,
                                    "Land Area(Km2)": 1585519.2164607805,
                                    "Latitude": 24.15923168795461,
                                    "Longitude": 66.34814783833215,
                                    "_deepnote_index_column": "std"
                                },
                                {
                                    "Year": 2000,
                                    "Access to electricity (% of population)": 1.2522693,
                                    "Access to clean fuels for cooking": 0,
                                    "Renewable-electricity-generating-capacity-per-capita": 0,
                                    "Financial flows to developing countries (US $)": 0,
                                    "Renewable energy share in the total final energy consumption (%)": 0,
                                    "Electricity from fossil fuels (TWh)": 0,
                                    "Electricity from nuclear (TWh)": 0,
                                    "Electricity from renewables (TWh)": 0,
                                    "Low-carbon electricity (% electricity)": 0,
                                    "Primary energy consumption per capita (kWh/person)": 0,
                                    "Energy intensity level of primary energy (MJ/$2017 PPP GDP)": 0.11,
                                    "Value_co2_emissions_kt_by_country": 9.999999776,
                                    "Renewables (% equivalent primary energy)": 0,
                                    "gdp_growth": -62.07591958,
                                    "gdp_per_capita": 111.9272251,
                                    "Land Area(Km2)": 21,
                                    "Latitude": -40.900557,
                                    "Longitude": -175.198242,
                                    "_deepnote_index_column": "min"
                                },
                                {
                                    "Year": 2005,
                                    "Access to electricity (% of population)": 59.800889999999995,
                                    "Access to clean fuels for cooking": 23.175,
                                    "Renewable-electricity-generating-capacity-per-capita": 3.54,
                                    "Financial flows to developing countries (US $)": 260000,
                                    "Renewable energy share in the total final energy consumption (%)": 6.515,
                                    "Electricity from fossil fuels (TWh)": 0.29,
                                    "Electricity from nuclear (TWh)": 0,
                                    "Electricity from renewables (TWh)": 0.04,
                                    "Low-carbon electricity (% electricity)": 2.87784685,
                                    "Primary energy consumption per capita (kWh/person)": 3116.7373,
                                    "Energy intensity level of primary energy (MJ/$2017 PPP GDP)": 3.17,
                                    "Value_co2_emissions_kt_by_country": 2019.999981,
                                    "Renewables (% equivalent primary energy)": 2.13709515,
                                    "gdp_growth": 1.3833019477500001,
                                    "gdp_per_capita": 1337.8134365,
                                    "Land Area(Km2)": 25713,
                                    "Latitude": 3.202778,
                                    "Longitude": -11.779889,
                                    "_deepnote_index_column": "25%"
                                },
                                {
                                    "Year": 2010,
                                    "Access to electricity (% of population)": 98.36157,
                                    "Access to clean fuels for cooking": 83.15,
                                    "Renewable-electricity-generating-capacity-per-capita": 32.91,
                                    "Financial flows to developing countries (US $)": 5665000,
                                    "Renewable energy share in the total final energy consumption (%)": 23.3,
                                    "Electricity from fossil fuels (TWh)": 2.97,
                                    "Electricity from nuclear (TWh)": 0,
                                    "Electricity from renewables (TWh)": 1.47,
                                    "Low-carbon electricity (% electricity)": 27.865068,
                                    "Primary energy consumption per capita (kWh/person)": 13120.57,
                                    "Energy intensity level of primary energy (MJ/$2017 PPP GDP)": 4.3,
                                    "Value_co2_emissions_kt_by_country": 10500,
                                    "Renewables (% equivalent primary energy)": 6.290766,
                                    "gdp_growth": 3.559855155,
                                    "gdp_per_capita": 4578.633208,
                                    "Land Area(Km2)": 117600,
                                    "Latitude": 17.189877,
                                    "Longitude": 19.145136,
                                    "_deepnote_index_column": "50%"
                                },
                                {
                                    "Year": 2015,
                                    "Access to electricity (% of population)": 100,
                                    "Access to clean fuels for cooking": 100,
                                    "Renewable-electricity-generating-capacity-per-capita": 112.21000000000001,
                                    "Financial flows to developing countries (US $)": 55347500,
                                    "Renewable energy share in the total final energy consumption (%)": 55.245000000000005,
                                    "Electricity from fossil fuels (TWh)": 26.8375,
                                    "Electricity from nuclear (TWh)": 0,
                                    "Electricity from renewables (TWh)": 9.6,
                                    "Low-carbon electricity (% electricity)": 64.40379200000001,
                                    "Primary energy consumption per capita (kWh/person)": 33892.78,
                                    "Energy intensity level of primary energy (MJ/$2017 PPP GDP)": 6.0275,
                                    "Value_co2_emissions_kt_by_country": 60580.00183,
                                    "Renewables (% equivalent primary energy)": 16.841638250000003,
                                    "gdp_growth": 5.83009921975,
                                    "gdp_per_capita": 15768.615365000001,
                                    "Land Area(Km2)": 513120,
                                    "Latitude": 38.969719,
                                    "Longitude": 46.199616,
                                    "_deepnote_index_column": "75%"
                                },
                                {
                                    "Year": 2020,
                                    "Access to electricity (% of population)": 100,
                                    "Access to clean fuels for cooking": 100,
                                    "Renewable-electricity-generating-capacity-per-capita": 3060.19,
                                    "Financial flows to developing countries (US $)": 5202310000,
                                    "Renewable energy share in the total final energy consumption (%)": 96.04,
                                    "Electricity from fossil fuels (TWh)": 5184.13,
                                    "Electricity from nuclear (TWh)": 809.41,
                                    "Electricity from renewables (TWh)": 2184.94,
                                    "Low-carbon electricity (% electricity)": 100.00001,
                                    "Primary energy consumption per capita (kWh/person)": 262585.7,
                                    "Energy intensity level of primary energy (MJ/$2017 PPP GDP)": 32.57,
                                    "Value_co2_emissions_kt_by_country": 10707219.73,
                                    "Renewables (% equivalent primary energy)": 86.836586,
                                    "gdp_growth": 123.1395552,
                                    "gdp_per_capita": 123514.1967,
                                    "Land Area(Km2)": 9984670,
                                    "Latitude": 64.963051,
                                    "Longitude": 178.065032,
                                    "_deepnote_index_column": "max"
                                }
                            ]
                        },
                        "text/plain": "              Year  Access to electricity (% of population)  \\\ncount  3649.000000                              3639.000000   \nmean   2010.038367                                78.933702   \nstd       6.054228                                30.275541   \nmin    2000.000000                                 1.252269   \n25%    2005.000000                                59.800890   \n50%    2010.000000                                98.361570   \n75%    2015.000000                               100.000000   \nmax    2020.000000                               100.000000   \n\n       Access to clean fuels for cooking  \\\ncount                        3480.000000   \nmean                           63.255287   \nstd                            39.043658   \nmin                             0.000000   \n25%                            23.175000   \n50%                            83.150000   \n75%                           100.000000   \nmax                           100.000000   \n\n       Renewable-electricity-generating-capacity-per-capita  \\\ncount                                        2718.000000      \nmean                                          113.137498      \nstd                                           244.167256      \nmin                                             0.000000      \n25%                                             3.540000      \n50%                                            32.910000      \n75%                                           112.210000      \nmax                                          3060.190000      \n\n       Financial flows to developing countries (US $)  \\\ncount                                    1.560000e+03   \nmean                                     9.422400e+07   \nstd                                      2.981544e+08   \nmin                                      0.000000e+00   \n25%                                      2.600000e+05   \n50%                                      5.665000e+06   \n75%                                      5.534750e+07   \nmax                                      5.202310e+09   \n\n       Renewable energy share in the total final energy consumption (%)  \\\ncount                                        3455.000000                  \nmean                                           32.638165                  \nstd                                            29.894901                  \nmin                                             0.000000                  \n25%                                             6.515000                  \n50%                                            23.300000                  \n75%                                            55.245000                  \nmax                                            96.040000                  \n\n       Electricity from fossil fuels (TWh)  Electricity from nuclear (TWh)  \\\ncount                          3628.000000                     3523.000000   \nmean                             70.365003                       13.450190   \nstd                             348.051866                       73.006623   \nmin                               0.000000                        0.000000   \n25%                               0.290000                        0.000000   \n50%                               2.970000                        0.000000   \n75%                              26.837500                        0.000000   \nmax                            5184.130000                      809.410000   \n\n       Electricity from renewables (TWh)  \\\ncount                        3628.000000   \nmean                           23.968010   \nstd                           104.431085   \nmin                             0.000000   \n25%                             0.040000   \n50%                             1.470000   \n75%                             9.600000   \nmax                          2184.940000   \n\n       Low-carbon electricity (% electricity)  \\\ncount                             3607.000000   \nmean                                36.801182   \nstd                                 34.314884   \nmin                                  0.000000   \n25%                                  2.877847   \n50%                                 27.865068   \n75%                                 64.403792   \nmax                                100.000010   \n\n       Primary energy consumption per capita (kWh/person)  \\\ncount                                        3649.000000    \nmean                                        25743.981745    \nstd                                         34773.221366    \nmin                                             0.000000    \n25%                                          3116.737300    \n50%                                         13120.570000    \n75%                                         33892.780000    \nmax                                        262585.700000    \n\n       Energy intensity level of primary energy (MJ/$2017 PPP GDP)  \\\ncount                                        3442.000000             \nmean                                            5.307345             \nstd                                             3.532020             \nmin                                             0.110000             \n25%                                             3.170000             \n50%                                             4.300000             \n75%                                             6.027500             \nmax                                            32.570000             \n\n       Value_co2_emissions_kt_by_country  \\\ncount                       3.221000e+03   \nmean                        1.598665e+05   \nstd                         7.736611e+05   \nmin                         1.000000e+01   \n25%                         2.020000e+03   \n50%                         1.050000e+04   \n75%                         6.058000e+04   \nmax                         1.070722e+07   \n\n       Renewables (% equivalent primary energy)   gdp_growth  gdp_per_capita  \\\ncount                               1512.000000  3332.000000     3367.000000   \nmean                                  11.986707     3.441610    13283.774348   \nstd                                   14.994644     5.686720    19709.866716   \nmin                                    0.000000   -62.075920      111.927225   \n25%                                    2.137095     1.383302     1337.813437   \n50%                                    6.290766     3.559855     4578.633208   \n75%                                   16.841638     5.830099    15768.615365   \nmax                                   86.836586   123.139555   123514.196700   \n\n       Land Area(Km2)     Latitude    Longitude  \ncount    3.648000e+03  3648.000000  3648.000000  \nmean     6.332135e+05    18.246388    14.822695  \nstd      1.585519e+06    24.159232    66.348148  \nmin      2.100000e+01   -40.900557  -175.198242  \n25%      2.571300e+04     3.202778   -11.779889  \n50%      1.176000e+05    17.189877    19.145136  \n75%      5.131200e+05    38.969719    46.199616  \nmax      9.984670e+06    64.963051   178.065032  ",
                        "text/html": "<div>\n<style scoped>\n    .dataframe tbody tr th:only-of-type {\n        vertical-align: middle;\n    }\n\n    .dataframe tbody tr th {\n        vertical-align: top;\n    }\n\n    .dataframe thead th {\n        text-align: right;\n    }\n</style>\n<table border=\"1\" class=\"dataframe\">\n  <thead>\n    <tr style=\"text-align: right;\">\n      <th></th>\n      <th>Year</th>\n      <th>Access to electricity (% of population)</th>\n      <th>Access to clean fuels for cooking</th>\n      <th>Renewable-electricity-generating-capacity-per-capita</th>\n      <th>Financial flows to developing countries (US $)</th>\n      <th>Renewable energy share in the total final energy consumption (%)</th>\n      <th>Electricity from fossil fuels (TWh)</th>\n      <th>Electricity from nuclear (TWh)</th>\n      <th>Electricity from renewables (TWh)</th>\n      <th>Low-carbon electricity (% electricity)</th>\n      <th>Primary energy consumption per capita (kWh/person)</th>\n      <th>Energy intensity level of primary energy (MJ/$2017 PPP GDP)</th>\n      <th>Value_co2_emissions_kt_by_country</th>\n      <th>Renewables (% equivalent primary energy)</th>\n      <th>gdp_growth</th>\n      <th>gdp_per_capita</th>\n      <th>Land Area(Km2)</th>\n      <th>Latitude</th>\n      <th>Longitude</th>\n    </tr>\n  </thead>\n  <tbody>\n    <tr>\n      <th>count</th>\n      <td>3649.000000</td>\n      <td>3639.000000</td>\n      <td>3480.000000</td>\n      <td>2718.000000</td>\n      <td>1.560000e+03</td>\n      <td>3455.000000</td>\n      <td>3628.000000</td>\n      <td>3523.000000</td>\n      <td>3628.000000</td>\n      <td>3607.000000</td>\n      <td>3649.000000</td>\n      <td>3442.000000</td>\n      <td>3.221000e+03</td>\n      <td>1512.000000</td>\n      <td>3332.000000</td>\n      <td>3367.000000</td>\n      <td>3.648000e+03</td>\n      <td>3648.000000</td>\n      <td>3648.000000</td>\n    </tr>\n    <tr>\n      <th>mean</th>\n      <td>2010.038367</td>\n      <td>78.933702</td>\n      <td>63.255287</td>\n      <td>113.137498</td>\n      <td>9.422400e+07</td>\n      <td>32.638165</td>\n      <td>70.365003</td>\n      <td>13.450190</td>\n      <td>23.968010</td>\n      <td>36.801182</td>\n      <td>25743.981745</td>\n      <td>5.307345</td>\n      <td>1.598665e+05</td>\n      <td>11.986707</td>\n      <td>3.441610</td>\n      <td>13283.774348</td>\n      <td>6.332135e+05</td>\n      <td>18.246388</td>\n      <td>14.822695</td>\n    </tr>\n    <tr>\n      <th>std</th>\n      <td>6.054228</td>\n      <td>30.275541</td>\n      <td>39.043658</td>\n      <td>244.167256</td>\n      <td>2.981544e+08</td>\n      <td>29.894901</td>\n      <td>348.051866</td>\n      <td>73.006623</td>\n      <td>104.431085</td>\n      <td>34.314884</td>\n      <td>34773.221366</td>\n      <td>3.532020</td>\n      <td>7.736611e+05</td>\n      <td>14.994644</td>\n      <td>5.686720</td>\n      <td>19709.866716</td>\n      <td>1.585519e+06</td>\n      <td>24.159232</td>\n      <td>66.348148</td>\n    </tr>\n    <tr>\n      <th>min</th>\n      <td>2000.000000</td>\n      <td>1.252269</td>\n      <td>0.000000</td>\n      <td>0.000000</td>\n      <td>0.000000e+00</td>\n      <td>0.000000</td>\n      <td>0.000000</td>\n      <td>0.000000</td>\n      <td>0.000000</td>\n      <td>0.000000</td>\n      <td>0.000000</td>\n      <td>0.110000</td>\n      <td>1.000000e+01</td>\n      <td>0.000000</td>\n      <td>-62.075920</td>\n      <td>111.927225</td>\n      <td>2.100000e+01</td>\n      <td>-40.900557</td>\n      <td>-175.198242</td>\n    </tr>\n    <tr>\n      <th>25%</th>\n      <td>2005.000000</td>\n      <td>59.800890</td>\n      <td>23.175000</td>\n      <td>3.540000</td>\n      <td>2.600000e+05</td>\n      <td>6.515000</td>\n      <td>0.290000</td>\n      <td>0.000000</td>\n      <td>0.040000</td>\n      <td>2.877847</td>\n      <td>3116.737300</td>\n      <td>3.170000</td>\n      <td>2.020000e+03</td>\n      <td>2.137095</td>\n      <td>1.383302</td>\n      <td>1337.813437</td>\n      <td>2.571300e+04</td>\n      <td>3.202778</td>\n      <td>-11.779889</td>\n    </tr>\n    <tr>\n      <th>50%</th>\n      <td>2010.000000</td>\n      <td>98.361570</td>\n      <td>83.150000</td>\n      <td>32.910000</td>\n      <td>5.665000e+06</td>\n      <td>23.300000</td>\n      <td>2.970000</td>\n      <td>0.000000</td>\n      <td>1.470000</td>\n      <td>27.865068</td>\n      <td>13120.570000</td>\n      <td>4.300000</td>\n      <td>1.050000e+04</td>\n      <td>6.290766</td>\n      <td>3.559855</td>\n      <td>4578.633208</td>\n      <td>1.176000e+05</td>\n      <td>17.189877</td>\n      <td>19.145136</td>\n    </tr>\n    <tr>\n      <th>75%</th>\n      <td>2015.000000</td>\n      <td>100.000000</td>\n      <td>100.000000</td>\n      <td>112.210000</td>\n      <td>5.534750e+07</td>\n      <td>55.245000</td>\n      <td>26.837500</td>\n      <td>0.000000</td>\n      <td>9.600000</td>\n      <td>64.403792</td>\n      <td>33892.780000</td>\n      <td>6.027500</td>\n      <td>6.058000e+04</td>\n      <td>16.841638</td>\n      <td>5.830099</td>\n      <td>15768.615365</td>\n      <td>5.131200e+05</td>\n      <td>38.969719</td>\n      <td>46.199616</td>\n    </tr>\n    <tr>\n      <th>max</th>\n      <td>2020.000000</td>\n      <td>100.000000</td>\n      <td>100.000000</td>\n      <td>3060.190000</td>\n      <td>5.202310e+09</td>\n      <td>96.040000</td>\n      <td>5184.130000</td>\n      <td>809.410000</td>\n      <td>2184.940000</td>\n      <td>100.000010</td>\n      <td>262585.700000</td>\n      <td>32.570000</td>\n      <td>1.070722e+07</td>\n      <td>86.836586</td>\n      <td>123.139555</td>\n      <td>123514.196700</td>\n      <td>9.984670e+06</td>\n      <td>64.963051</td>\n      <td>178.065032</td>\n    </tr>\n  </tbody>\n</table>\n</div>"
                    },
                    "metadata": {}
                }
            ],
            "outputs_reference": "s3:deepnote-cell-outputs-production/106dcdc5-cdde-454b-9e70-3a4434892b01",
            "content_dependencies": null
        },
        {
            "cell_type": "markdown",
            "metadata": {
                "cell_id": "f1d1feb3ebc84aae91a5040f71edc65c",
                "deepnote_cell_type": "markdown"
            },
            "source": "### Data Cleaning <a class=\"anchor\" id=\"data_cleaning\"></a>\n\n* Since our main variable for this analysis is `Low carbon %`, we can remove all the rows where the `variable` is missing.\n\n* `Coordinates` are completly useless for our case, which means we can remove them right away.\n\n* We can see that there are a lot of missing values in the `financial flows` and `renewables` variables.\n\n* If we take the example of `France`, they have missing values in these columns, while still having significant investments in devloping country. Therefore, we can conclude that there is no logical reason for these missing values.\n\n* Also, the columns missing `financial flows` do not necessarily also miss `renewables`, removing all the rows where they are missing would remove most of the table: We can't remove them, so we'll ignore these variables for now.\n\n* `Density\\n(P/Km2)` is somehow a `string` and not a `float`, which means we'll have to `cast` it to get the proper format for each `variable`.",
            "block_group": "2058f119bc6d461a8a2842143b627e9b"
        },
        {
            "cell_type": "code",
            "metadata": {
                "source_hash": "15b47819",
                "execution_start": 1737560914408,
                "execution_millis": 8,
                "execution_context_id": "dbadad4c-faad-44ce-ade4-0c11c20b3652",
                "cell_id": "43e8a8d1aab3439d8359b36ed9a8f4d9",
                "deepnote_cell_type": "code"
            },
            "source": "# Removing rows where 'Low-carbon electricity (% electricity)' is missing\ndf = df.dropna(subset=['Low-carbon electricity (% electricity)'])",
            "block_group": "f678ba98af8b4aa1bf67859462d91310",
            "execution_count": 5,
            "outputs": [],
            "outputs_reference": null,
            "content_dependencies": null
        },
        {
            "cell_type": "code",
            "metadata": {
                "source_hash": "aedd0599",
                "execution_start": 1737560920224,
                "execution_millis": 3,
                "execution_context_id": "dbadad4c-faad-44ce-ade4-0c11c20b3652",
                "cell_id": "92b181b9053f48cb970d38b078c266d7",
                "deepnote_cell_type": "code"
            },
            "source": "# Removing the coordinates and year\ndf = df.drop(columns=['Latitude','Longitude'])",
            "block_group": "19852f039b28481f80435016b8f2fe92",
            "execution_count": 7,
            "outputs": [],
            "outputs_reference": null,
            "content_dependencies": null
        },
        {
            "cell_type": "code",
            "metadata": {
                "source_hash": "7c41be5a",
                "execution_start": 1737557713085,
                "execution_millis": 3,
                "execution_context_id": "ca70ea51-505e-4a68-9fc7-0db708d995f6",
                "cell_id": "d0f47351aa774dbdb3a87b1afbf2e267",
                "deepnote_cell_type": "code"
            },
            "source": "# A hidden character prevented me from renaming Density\\n(P/Km2) properly as its actual name is Density\\\\n(P/Km2)!\nprint(df.columns.tolist())",
            "block_group": "3f98fa4dd8e542baae32d71bc2cb22fd",
            "execution_count": 9,
            "outputs": [
                {
                    "name": "stdout",
                    "text": "['Entity', 'Year', 'Access to electricity (% of population)', 'Access to clean fuels for cooking', 'Renewable-electricity-generating-capacity-per-capita', 'Financial flows to developing countries (US $)', 'Renewable energy share in the total final energy consumption (%)', 'Electricity from fossil fuels (TWh)', 'Electricity from nuclear (TWh)', 'Electricity from renewables (TWh)', 'Low-carbon electricity (% electricity)', 'Primary energy consumption per capita (kWh/person)', 'Energy intensity level of primary energy (MJ/$2017 PPP GDP)', 'Value_co2_emissions_kt_by_country', 'Renewables (% equivalent primary energy)', 'gdp_growth', 'gdp_per_capita', 'Density\\\\n(P/Km2)', 'Land Area(Km2)']\n",
                    "output_type": "stream"
                }
            ],
            "outputs_reference": "dbtable:cell_outputs/7e93d0bf-1b45-4155-8c9e-1403ca336f18",
            "content_dependencies": null
        },
        {
            "cell_type": "code",
            "metadata": {
                "source_hash": "39b7e755",
                "execution_start": 1737560925735,
                "execution_millis": 2,
                "execution_context_id": "dbadad4c-faad-44ce-ade4-0c11c20b3652",
                "cell_id": "812d17a653c24e95b226ea715cc3c796",
                "deepnote_cell_type": "code"
            },
            "source": "# Renaming columns for better readability and usability\ndf.rename(columns={\n    'Entity': 'Country',\n    'Year': 'Year',\n    'Access to electricity (% of population)': 'Access_to_Electricity',\n    'Access to clean fuels for cooking': 'Access_to_Clean_Cooking',\n    'Renewable-electricity-generating-capacity-per-capita': 'Renewable_Electricity_Capacity',\n    'Financial flows to developing countries (US $)': 'Financial_Flows',\n    'Renewable energy share in the total final energy consumption (%)': 'Renewable_Energy_Share',\n    'Electricity from fossil fuels (TWh)': 'Electricity_Fossil_Fuels',\n    'Electricity from nuclear (TWh)': 'Electricity_Nuclear',\n    'Electricity from renewables (TWh)': 'Electricity_Renewables',\n    'Low-carbon electricity (% electricity)': 'Low_Carbon_Electricity',\n    'Primary energy consumption per capita (kWh/person)': 'Energy_Consumption_Per_Capita',\n    'Energy intensity level of primary energy (MJ/$2017 PPP GDP)': 'Energy_Intensity',\n    'Value_co2_emissions_kt_by_country': 'CO2_Emissions',\n    'Renewables (% equivalent primary energy)': 'Renewables_Equivalent',\n    'gdp_growth': 'GDP_Growth',\n    'gdp_per_capita': 'GDP_Per_Capita',\n    'Density\\\\n(P/Km2)': 'Population_Density',\n    'Land Area(Km2)': 'Land_Area',\n    'Latitude': 'Latitude',\n    'Longitude': 'Longitude'\n}, inplace=True)\n\ndf.columns",
            "block_group": "4d0593aa863241a9b0591646279c17c6",
            "execution_count": 9,
            "outputs": [
                {
                    "output_type": "execute_result",
                    "execution_count": 9,
                    "data": {
                        "text/plain": "Index(['Country', 'Year', 'Access_to_Electricity', 'Access_to_Clean_Cooking',\n       'Renewable_Electricity_Capacity', 'Financial_Flows',\n       'Renewable_Energy_Share', 'Electricity_Fossil_Fuels',\n       'Electricity_Nuclear', 'Electricity_Renewables',\n       'Low_Carbon_Electricity', 'Energy_Consumption_Per_Capita',\n       'Energy_Intensity', 'CO2_Emissions', 'Renewables_Equivalent',\n       'GDP_Growth', 'GDP_Per_Capita', 'Population_Density', 'Land_Area'],\n      dtype='object')"
                    },
                    "metadata": {}
                }
            ],
            "outputs_reference": "dbtable:cell_outputs/f8a47eb9-f5ab-49fa-8ec4-3cf32171cb8b",
            "content_dependencies": null
        },
        {
            "cell_type": "code",
            "metadata": {
                "source_hash": "a725d473",
                "execution_start": 1737560930248,
                "execution_millis": 5,
                "execution_context_id": "dbadad4c-faad-44ce-ade4-0c11c20b3652",
                "cell_id": "7d92ddc06c724f8ebd5236372967e87a",
                "deepnote_cell_type": "code"
            },
            "source": "# Removing commas in Population_Density as they are messing with the CAST in float\ndf['Population_Density'] = df['Population_Density'].str.replace(',', '').astype(float)",
            "block_group": "9396c321b95c4290b6809967910e5b62",
            "execution_count": 11,
            "outputs": [],
            "outputs_reference": null,
            "content_dependencies": null
        },
        {
            "cell_type": "markdown",
            "metadata": {
                "cell_id": "4fd792084a4643e2b5f063d86a7ca8c7",
                "deepnote_cell_type": "markdown"
            },
            "source": "### Data analysis <a class=\"anchor\" id=\"data_analysis\"></a>\n\n* To make `hypothesis` and observe `patterns`, we'll need to narrow our analysis to relevant countries that form a realistic `sample`.\n\n* For further observations, we create a `country_averages` view to compare data more easily.\n\n* The first `samples` will be a simple `Top 3` and `Bottom 3`, which will allow us to observe the main differences between the top and bottom countries in terms of `low carbon energies`.",
            "block_group": "c3b77fdf286040a2a79979bccb57c5df"
        },
        {
            "cell_type": "markdown",
            "metadata": {
                "formattedRanges": [],
                "cell_id": "1a2959ada274486ca3c786cc0a37b86a",
                "deepnote_cell_type": "text-cell-p"
            },
            "source": "Temporary notes\n\nNew column developped/developping\nTarget evolutions --> New columns (Evolution from now to previous year)\nPositive relationships between variables ?\nAVG on evolutions colums --> Long term evo ?",
            "block_group": "f0f63f3458604875ab0522a8816196c8"
        },
        {
            "cell_type": "code",
            "metadata": {
                "source_hash": "69f62d02",
                "execution_start": 1737560938092,
                "execution_millis": 1696,
                "sql_integration_id": "deepnote-dataframe-sql",
                "execution_context_id": "dbadad4c-faad-44ce-ade4-0c11c20b3652",
                "deepnote_variable_name": "df_avg",
                "cell_id": "bb92cf782c6f42de8ae76002f269b0cb",
                "deepnote_cell_type": "sql",
                "deepnote_sql_source": "-- Creating a view with the average of all columns, grouped by country\nCREATE VIEW country_averages AS\nSELECT \n    Country,\n    AVG(Year) AS Avg_Year,\n    AVG(Access_to_Electricity) AS Avg_Access_to_Electricity,\n    AVG(Access_to_Clean_Cooking) AS Avg_Access_to_Clean_Cooking,\n    AVG(Renewable_Electricity_Capacity) AS Avg_Renewable_Electricity_Capacity,\n    AVG(Financial_Flows) AS Avg_Financial_Flows,\n    AVG(Renewable_Energy_Share) AS Avg_Renewable_Energy_Share,\n    AVG(Electricity_Fossil_Fuels) AS Avg_Electricity_Fossil_Fuels,\n    AVG(Electricity_Nuclear) AS Avg_Electricity_Nuclear,\n    AVG(Electricity_Renewables) AS Avg_Electricity_Renewables,\n    AVG(Low_Carbon_Electricity) AS Avg_Low_Carbon_Electricity,\n    AVG(Energy_Consumption_Per_Capita) AS Avg_Energy_Consumption_Per_Capita,\n    AVG(Energy_Intensity) AS Avg_Energy_Intensity,\n    AVG(CO2_Emissions) AS Avg_CO2_Emissions,\n    AVG(Renewables_Equivalent) AS Avg_Renewables_Equivalent,\n    AVG(GDP_Growth) AS Avg_GDP_Growth,\n    AVG(GDP_Per_Capita) AS Avg_GDP_Per_Capita,\n    AVG(Population_Density) AS Avg_Population_Density,\n    AVG(Land_Area) AS Avg_Land_Area\nFROM df\nGROUP BY Country;"
            },
            "source": "df_avg = (lambda: _deepnote_execute_sql('-- Creating a view with the average of all columns, grouped by country\\nCREATE VIEW country_averages AS\\nSELECT \\n    Country,\\n    AVG(Year) AS Avg_Year,\\n    AVG(Access_to_Electricity) AS Avg_Access_to_Electricity,\\n    AVG(Access_to_Clean_Cooking) AS Avg_Access_to_Clean_Cooking,\\n    AVG(Renewable_Electricity_Capacity) AS Avg_Renewable_Electricity_Capacity,\\n    AVG(Financial_Flows) AS Avg_Financial_Flows,\\n    AVG(Renewable_Energy_Share) AS Avg_Renewable_Energy_Share,\\n    AVG(Electricity_Fossil_Fuels) AS Avg_Electricity_Fossil_Fuels,\\n    AVG(Electricity_Nuclear) AS Avg_Electricity_Nuclear,\\n    AVG(Electricity_Renewables) AS Avg_Electricity_Renewables,\\n    AVG(Low_Carbon_Electricity) AS Avg_Low_Carbon_Electricity,\\n    AVG(Energy_Consumption_Per_Capita) AS Avg_Energy_Consumption_Per_Capita,\\n    AVG(Energy_Intensity) AS Avg_Energy_Intensity,\\n    AVG(CO2_Emissions) AS Avg_CO2_Emissions,\\n    AVG(Renewables_Equivalent) AS Avg_Renewables_Equivalent,\\n    AVG(GDP_Growth) AS Avg_GDP_Growth,\\n    AVG(GDP_Per_Capita) AS Avg_GDP_Per_Capita,\\n    AVG(Population_Density) AS Avg_Population_Density,\\n    AVG(Land_Area) AS Avg_Land_Area\\nFROM df\\nGROUP BY Country;', 'SQL_DEEPNOTE_DATAFRAME_SQL', audit_sql_comment='', sql_cache_mode='cache_disabled') if '_deepnote_execute_sql' in globals() else _dntk.execute_sql('-- Creating a view with the average of all columns, grouped by country\\nCREATE VIEW country_averages AS\\nSELECT \\n    Country,\\n    AVG(Year) AS Avg_Year,\\n    AVG(Access_to_Electricity) AS Avg_Access_to_Electricity,\\n    AVG(Access_to_Clean_Cooking) AS Avg_Access_to_Clean_Cooking,\\n    AVG(Renewable_Electricity_Capacity) AS Avg_Renewable_Electricity_Capacity,\\n    AVG(Financial_Flows) AS Avg_Financial_Flows,\\n    AVG(Renewable_Energy_Share) AS Avg_Renewable_Energy_Share,\\n    AVG(Electricity_Fossil_Fuels) AS Avg_Electricity_Fossil_Fuels,\\n    AVG(Electricity_Nuclear) AS Avg_Electricity_Nuclear,\\n    AVG(Electricity_Renewables) AS Avg_Electricity_Renewables,\\n    AVG(Low_Carbon_Electricity) AS Avg_Low_Carbon_Electricity,\\n    AVG(Energy_Consumption_Per_Capita) AS Avg_Energy_Consumption_Per_Capita,\\n    AVG(Energy_Intensity) AS Avg_Energy_Intensity,\\n    AVG(CO2_Emissions) AS Avg_CO2_Emissions,\\n    AVG(Renewables_Equivalent) AS Avg_Renewables_Equivalent,\\n    AVG(GDP_Growth) AS Avg_GDP_Growth,\\n    AVG(GDP_Per_Capita) AS Avg_GDP_Per_Capita,\\n    AVG(Population_Density) AS Avg_Population_Density,\\n    AVG(Land_Area) AS Avg_Land_Area\\nFROM df\\nGROUP BY Country;', 'SQL_DEEPNOTE_DATAFRAME_SQL', audit_sql_comment='', sql_cache_mode='cache_disabled'))()\ndf_avg",
            "block_group": "d665b2136ebc4029b0c2d82b9cf318d3",
            "execution_count": 13,
            "outputs": [
                {
                    "output_type": "execute_result",
                    "execution_count": 13,
                    "data": {
                        "application/vnd.deepnote.dataframe.v3+json": {
                            "column_count": 1,
                            "row_count": 0,
                            "columns": [
                                {
                                    "name": "Count",
                                    "dtype": "int64",
                                    "stats": {
                                        "unique_count": 0,
                                        "nan_count": 0,
                                        "min": null,
                                        "max": null,
                                        "histogram": [
                                            {
                                                "bin_start": 0,
                                                "bin_end": 0.1,
                                                "count": 0
                                            },
                                            {
                                                "bin_start": 0.1,
                                                "bin_end": 0.2,
                                                "count": 0
                                            },
                                            {
                                                "bin_start": 0.2,
                                                "bin_end": 0.30000000000000004,
                                                "count": 0
                                            },
                                            {
                                                "bin_start": 0.30000000000000004,
                                                "bin_end": 0.4,
                                                "count": 0
                                            },
                                            {
                                                "bin_start": 0.4,
                                                "bin_end": 0.5,
                                                "count": 0
                                            },
                                            {
                                                "bin_start": 0.5,
                                                "bin_end": 0.6000000000000001,
                                                "count": 0
                                            },
                                            {
                                                "bin_start": 0.6000000000000001,
                                                "bin_end": 0.7000000000000001,
                                                "count": 0
                                            },
                                            {
                                                "bin_start": 0.7000000000000001,
                                                "bin_end": 0.8,
                                                "count": 0
                                            },
                                            {
                                                "bin_start": 0.8,
                                                "bin_end": 0.9,
                                                "count": 0
                                            },
                                            {
                                                "bin_start": 0.9,
                                                "bin_end": 1,
                                                "count": 0
                                            }
                                        ]
                                    }
                                },
                                {
                                    "name": "_deepnote_index_column",
                                    "dtype": "int64"
                                }
                            ],
                            "rows": []
                        },
                        "text/plain": "Empty DataFrame\nColumns: [Count]\nIndex: []",
                        "text/html": "<div>\n<style scoped>\n    .dataframe tbody tr th:only-of-type {\n        vertical-align: middle;\n    }\n\n    .dataframe tbody tr th {\n        vertical-align: top;\n    }\n\n    .dataframe thead th {\n        text-align: right;\n    }\n</style>\n<table border=\"1\" class=\"dataframe\">\n  <thead>\n    <tr style=\"text-align: right;\">\n      <th></th>\n      <th>Count</th>\n    </tr>\n  </thead>\n  <tbody>\n  </tbody>\n</table>\n</div>"
                    },
                    "metadata": {}
                }
            ],
            "outputs_reference": "s3:deepnote-cell-outputs-production/f0cc73ca-019c-40f6-a958-d29c7296533f",
            "content_dependencies": null
        },
        {
            "cell_type": "code",
            "metadata": {
                "source_hash": "27bbd28e",
                "execution_start": 1737560961441,
                "execution_millis": 1,
                "sql_integration_id": "deepnote-dataframe-sql",
                "execution_context_id": "dbadad4c-faad-44ce-ade4-0c11c20b3652",
                "deepnote_variable_name": "df_tops",
                "cell_id": "67090537c67d44bb88ef24d5b0c5ef8d",
                "deepnote_cell_type": "sql",
                "deepnote_sql_source": "-- Creating a view for the top 3 and bottom 3 countries ranked by Avg_Low_Carbon_Electricity\nCREATE VIEW top_3 AS\nSELECT *\nFROM country_averages\nORDER BY Avg_Low_Carbon_Electricity DESC\nLIMIT 3;\n\nCREATE VIEW lowest_3 AS\nSELECT *\nFROM country_averages\nORDER BY Avg_Low_Carbon_Electricity ASC\nLIMIT 3;"
            },
            "source": "df_tops = (lambda: _deepnote_execute_sql('-- Creating a view for the top 3 and bottom 3 countries ranked by Avg_Low_Carbon_Electricity\\nCREATE VIEW top_3 AS\\nSELECT *\\nFROM country_averages\\nORDER BY Avg_Low_Carbon_Electricity DESC\\nLIMIT 3;\\n\\nCREATE VIEW lowest_3 AS\\nSELECT *\\nFROM country_averages\\nORDER BY Avg_Low_Carbon_Electricity ASC\\nLIMIT 3;', 'SQL_DEEPNOTE_DATAFRAME_SQL', audit_sql_comment='', sql_cache_mode='cache_disabled') if '_deepnote_execute_sql' in globals() else _dntk.execute_sql('-- Creating a view for the top 3 and bottom 3 countries ranked by Avg_Low_Carbon_Electricity\\nCREATE VIEW top_3 AS\\nSELECT *\\nFROM country_averages\\nORDER BY Avg_Low_Carbon_Electricity DESC\\nLIMIT 3;\\n\\nCREATE VIEW lowest_3 AS\\nSELECT *\\nFROM country_averages\\nORDER BY Avg_Low_Carbon_Electricity ASC\\nLIMIT 3;', 'SQL_DEEPNOTE_DATAFRAME_SQL', audit_sql_comment='', sql_cache_mode='cache_disabled'))()\ndf_tops",
            "block_group": "716226fcc16b48a4979ef6e6d44034bc",
            "execution_count": 15,
            "outputs": [
                {
                    "output_type": "execute_result",
                    "execution_count": 15,
                    "data": {
                        "application/vnd.deepnote.dataframe.v3+json": {
                            "column_count": 1,
                            "row_count": 0,
                            "columns": [
                                {
                                    "name": "Count",
                                    "dtype": "int64",
                                    "stats": {
                                        "unique_count": 0,
                                        "nan_count": 0,
                                        "min": null,
                                        "max": null,
                                        "histogram": [
                                            {
                                                "bin_start": 0,
                                                "bin_end": 0.1,
                                                "count": 0
                                            },
                                            {
                                                "bin_start": 0.1,
                                                "bin_end": 0.2,
                                                "count": 0
                                            },
                                            {
                                                "bin_start": 0.2,
                                                "bin_end": 0.30000000000000004,
                                                "count": 0
                                            },
                                            {
                                                "bin_start": 0.30000000000000004,
                                                "bin_end": 0.4,
                                                "count": 0
                                            },
                                            {
                                                "bin_start": 0.4,
                                                "bin_end": 0.5,
                                                "count": 0
                                            },
                                            {
                                                "bin_start": 0.5,
                                                "bin_end": 0.6000000000000001,
                                                "count": 0
                                            },
                                            {
                                                "bin_start": 0.6000000000000001,
                                                "bin_end": 0.7000000000000001,
                                                "count": 0
                                            },
                                            {
                                                "bin_start": 0.7000000000000001,
                                                "bin_end": 0.8,
                                                "count": 0
                                            },
                                            {
                                                "bin_start": 0.8,
                                                "bin_end": 0.9,
                                                "count": 0
                                            },
                                            {
                                                "bin_start": 0.9,
                                                "bin_end": 1,
                                                "count": 0
                                            }
                                        ]
                                    }
                                },
                                {
                                    "name": "_deepnote_index_column",
                                    "dtype": "int64"
                                }
                            ],
                            "rows": []
                        },
                        "text/plain": "Empty DataFrame\nColumns: [Count]\nIndex: []",
                        "text/html": "<div>\n<style scoped>\n    .dataframe tbody tr th:only-of-type {\n        vertical-align: middle;\n    }\n\n    .dataframe tbody tr th {\n        vertical-align: top;\n    }\n\n    .dataframe thead th {\n        text-align: right;\n    }\n</style>\n<table border=\"1\" class=\"dataframe\">\n  <thead>\n    <tr style=\"text-align: right;\">\n      <th></th>\n      <th>Count</th>\n    </tr>\n  </thead>\n  <tbody>\n  </tbody>\n</table>\n</div>"
                    },
                    "metadata": {}
                }
            ],
            "outputs_reference": "s3:deepnote-cell-outputs-production/0aefa6c0-cb6d-4497-ad98-2de43a07f036",
            "content_dependencies": null
        },
        {
            "cell_type": "markdown",
            "metadata": {
                "cell_id": "9cad0984e9eb49018498a93c88475269",
                "deepnote_cell_type": "markdown"
            },
            "source": "#### First analysis <a class=\"anchor\" id=\"first_analysis\"></a>\n\nThe top 3 countries benefit from:\n\n* They evidently have a way bigger renwable energy capacity and overall financial flows towards relevant projects.\n* Even if they have a substantial energy consuption, it is supported by consequent infrastructures.\n\nThe bottom 3 countries struggle with:\n\n* The renwable energy capacity is close to inexsistent.\n* Low financial investments for projects and inefficient infrastructure are showcased.\n\nOther remarks:\n\n* Moreover, the population density tends to be related as dense countries seem to be the one performing worse in low carbon energies.\n\n* Paradoxically, countries with a lower access to electricity tend to have poorer renwable energies infrastructures.",
            "block_group": "0ce4fc0bda5e435a891f8f751db65460"
        },
        {
            "cell_type": "code",
            "metadata": {
                "source_hash": "e30cb4f4",
                "execution_start": 1737560984509,
                "execution_millis": 42,
                "sql_integration_id": "deepnote-dataframe-sql",
                "execution_context_id": "dbadad4c-faad-44ce-ade4-0c11c20b3652",
                "deepnote_variable_name": "df_topselect",
                "cell_id": "65fac1901e0445b6a4270b3ac917aa99",
                "deepnote_cell_type": "sql",
                "deepnote_sql_source": "-- Joining them for an easier visual comparison.\n\nSELECT * FROM top_3\nUNION\nSELECT * FROM lowest_3;"
            },
            "source": "df_topselect = (lambda: _deepnote_execute_sql('-- Joining them for an easier visual comparison.\\n\\nSELECT * FROM top_3\\nUNION\\nSELECT * FROM lowest_3;', 'SQL_DEEPNOTE_DATAFRAME_SQL', audit_sql_comment='', sql_cache_mode='cache_disabled') if '_deepnote_execute_sql' in globals() else _dntk.execute_sql('-- Joining them for an easier visual comparison.\\n\\nSELECT * FROM top_3\\nUNION\\nSELECT * FROM lowest_3;', 'SQL_DEEPNOTE_DATAFRAME_SQL', audit_sql_comment='', sql_cache_mode='cache_disabled'))()\ndf_topselect",
            "block_group": "0169ae6c6707407b8a8d99ec245abc88",
            "execution_count": 17,
            "outputs": [
                {
                    "output_type": "execute_result",
                    "execution_count": 17,
                    "data": {
                        "application/vnd.deepnote.dataframe.v3+json": {
                            "column_count": 19,
                            "row_count": 6,
                            "columns": [
                                {
                                    "name": "Country",
                                    "dtype": "object",
                                    "stats": {
                                        "unique_count": 6,
                                        "nan_count": 0,
                                        "categories": [
                                            {
                                                "name": "Bhutan",
                                                "count": 1
                                            },
                                            {
                                                "name": "Lesotho",
                                                "count": 1
                                            },
                                            {
                                                "name": "4 others",
                                                "count": 4
                                            }
                                        ]
                                    }
                                },
                                {
                                    "name": "Avg_Year",
                                    "dtype": "float64",
                                    "stats": {
                                        "unique_count": 1,
                                        "nan_count": 0,
                                        "min": "2010.0",
                                        "max": "2010.0",
                                        "histogram": [
                                            {
                                                "bin_start": 2009.5,
                                                "bin_end": 2009.6,
                                                "count": 0
                                            },
                                            {
                                                "bin_start": 2009.6,
                                                "bin_end": 2009.7,
                                                "count": 0
                                            },
                                            {
                                                "bin_start": 2009.7,
                                                "bin_end": 2009.8,
                                                "count": 0
                                            },
                                            {
                                                "bin_start": 2009.8,
                                                "bin_end": 2009.9,
                                                "count": 0
                                            },
                                            {
                                                "bin_start": 2009.9,
                                                "bin_end": 2010,
                                                "count": 0
                                            },
                                            {
                                                "bin_start": 2010,
                                                "bin_end": 2010.1,
                                                "count": 6
                                            },
                                            {
                                                "bin_start": 2010.1,
                                                "bin_end": 2010.2,
                                                "count": 0
                                            },
                                            {
                                                "bin_start": 2010.2,
                                                "bin_end": 2010.3,
                                                "count": 0
                                            },
                                            {
                                                "bin_start": 2010.3,
                                                "bin_end": 2010.4,
                                                "count": 0
                                            },
                                            {
                                                "bin_start": 2010.4,
                                                "bin_end": 2010.5,
                                                "count": 0
                                            }
                                        ]
                                    }
                                },
                                {
                                    "name": "Avg_Access_to_Electricity",
                                    "dtype": "float64",
                                    "stats": {
                                        "unique_count": 5,
                                        "nan_count": 0,
                                        "min": "21.009955980952377",
                                        "max": "100.0",
                                        "histogram": [
                                            {
                                                "bin_start": 21.009955980952377,
                                                "bin_end": 28.90896038285714,
                                                "count": 1
                                            },
                                            {
                                                "bin_start": 28.90896038285714,
                                                "bin_end": 36.8079647847619,
                                                "count": 0
                                            },
                                            {
                                                "bin_start": 36.8079647847619,
                                                "bin_end": 44.70696918666666,
                                                "count": 0
                                            },
                                            {
                                                "bin_start": 44.70696918666666,
                                                "bin_end": 52.60597358857142,
                                                "count": 0
                                            },
                                            {
                                                "bin_start": 52.60597358857142,
                                                "bin_end": 60.504977990476185,
                                                "count": 1
                                            },
                                            {
                                                "bin_start": 60.504977990476185,
                                                "bin_end": 68.40398239238095,
                                                "count": 1
                                            },
                                            {
                                                "bin_start": 68.40398239238095,
                                                "bin_end": 76.30298679428572,
                                                "count": 1
                                            },
                                            {
                                                "bin_start": 76.30298679428572,
                                                "bin_end": 84.20199119619048,
                                                "count": 0
                                            },
                                            {
                                                "bin_start": 84.20199119619048,
                                                "bin_end": 92.10099559809524,
                                                "count": 0
                                            },
                                            {
                                                "bin_start": 92.10099559809524,
                                                "bin_end": 100,
                                                "count": 2
                                            }
                                        ]
                                    }
                                },
                                {
                                    "name": "Avg_Access_to_Clean_Cooking",
                                    "dtype": "float64",
                                    "stats": {
                                        "unique_count": 5,
                                        "nan_count": 0,
                                        "min": "3.7190476190476187",
                                        "max": "100.0",
                                        "histogram": [
                                            {
                                                "bin_start": 3.7190476190476187,
                                                "bin_end": 13.347142857142856,
                                                "count": 2
                                            },
                                            {
                                                "bin_start": 13.347142857142856,
                                                "bin_end": 22.975238095238094,
                                                "count": 0
                                            },
                                            {
                                                "bin_start": 22.975238095238094,
                                                "bin_end": 32.60333333333333,
                                                "count": 1
                                            },
                                            {
                                                "bin_start": 32.60333333333333,
                                                "bin_end": 42.23142857142857,
                                                "count": 0
                                            },
                                            {
                                                "bin_start": 42.23142857142857,
                                                "bin_end": 51.859523809523814,
                                                "count": 0
                                            },
                                            {
                                                "bin_start": 51.859523809523814,
                                                "bin_end": 61.48761904761905,
                                                "count": 1
                                            },
                                            {
                                                "bin_start": 61.48761904761905,
                                                "bin_end": 71.11571428571428,
                                                "count": 0
                                            },
                                            {
                                                "bin_start": 71.11571428571428,
                                                "bin_end": 80.74380952380952,
                                                "count": 0
                                            },
                                            {
                                                "bin_start": 80.74380952380952,
                                                "bin_end": 90.37190476190476,
                                                "count": 0
                                            },
                                            {
                                                "bin_start": 90.37190476190476,
                                                "bin_end": 100,
                                                "count": 2
                                            }
                                        ]
                                    }
                                },
                                {
                                    "name": "Avg_Renewable_Electricity_Capacity",
                                    "dtype": "float64",
                                    "stats": {
                                        "unique_count": 5,
                                        "nan_count": 1,
                                        "min": "0.1542857142857143",
                                        "max": "1747.4747619047623",
                                        "histogram": [
                                            {
                                                "bin_start": 0.1542857142857143,
                                                "bin_end": 174.8863333333334,
                                                "count": 4
                                            },
                                            {
                                                "bin_start": 174.8863333333334,
                                                "bin_end": 349.6183809523811,
                                                "count": 0
                                            },
                                            {
                                                "bin_start": 349.6183809523811,
                                                "bin_end": 524.3504285714288,
                                                "count": 0
                                            },
                                            {
                                                "bin_start": 524.3504285714288,
                                                "bin_end": 699.0824761904764,
                                                "count": 0
                                            },
                                            {
                                                "bin_start": 699.0824761904764,
                                                "bin_end": 873.8145238095241,
                                                "count": 0
                                            },
                                            {
                                                "bin_start": 873.8145238095241,
                                                "bin_end": 1048.5465714285717,
                                                "count": 0
                                            },
                                            {
                                                "bin_start": 1048.5465714285717,
                                                "bin_end": 1223.2786190476193,
                                                "count": 0
                                            },
                                            {
                                                "bin_start": 1223.2786190476193,
                                                "bin_end": 1398.010666666667,
                                                "count": 0
                                            },
                                            {
                                                "bin_start": 1398.010666666667,
                                                "bin_end": 1572.7427142857148,
                                                "count": 0
                                            },
                                            {
                                                "bin_start": 1572.7427142857148,
                                                "bin_end": 1747.4747619047623,
                                                "count": 1
                                            }
                                        ]
                                    }
                                },
                                {
                                    "name": "Avg_Financial_Flows",
                                    "dtype": "float64",
                                    "stats": {
                                        "unique_count": 5,
                                        "nan_count": 1,
                                        "min": "230000.0",
                                        "max": "17509444.444444444",
                                        "histogram": [
                                            {
                                                "bin_start": 230000,
                                                "bin_end": 1957944.4444444445,
                                                "count": 1
                                            },
                                            {
                                                "bin_start": 1957944.4444444445,
                                                "bin_end": 3685888.888888889,
                                                "count": 2
                                            },
                                            {
                                                "bin_start": 3685888.888888889,
                                                "bin_end": 5413833.333333334,
                                                "count": 0
                                            },
                                            {
                                                "bin_start": 5413833.333333334,
                                                "bin_end": 7141777.777777778,
                                                "count": 0
                                            },
                                            {
                                                "bin_start": 7141777.777777778,
                                                "bin_end": 8869722.222222222,
                                                "count": 1
                                            },
                                            {
                                                "bin_start": 8869722.222222222,
                                                "bin_end": 10597666.666666668,
                                                "count": 0
                                            },
                                            {
                                                "bin_start": 10597666.666666668,
                                                "bin_end": 12325611.111111112,
                                                "count": 0
                                            },
                                            {
                                                "bin_start": 12325611.111111112,
                                                "bin_end": 14053555.555555556,
                                                "count": 0
                                            },
                                            {
                                                "bin_start": 14053555.555555556,
                                                "bin_end": 15781500,
                                                "count": 0
                                            },
                                            {
                                                "bin_start": 15781500,
                                                "bin_end": 17509444.444444444,
                                                "count": 1
                                            }
                                        ]
                                    }
                                },
                                {
                                    "name": "Avg_Renewable_Energy_Share",
                                    "dtype": "float64",
                                    "stats": {
                                        "unique_count": 6,
                                        "nan_count": 0,
                                        "min": "1.4005000000000003",
                                        "max": "88.98849999999999",
                                        "histogram": [
                                            {
                                                "bin_start": 1.4005000000000003,
                                                "bin_end": 10.1593,
                                                "count": 1
                                            },
                                            {
                                                "bin_start": 10.1593,
                                                "bin_end": 18.9181,
                                                "count": 0
                                            },
                                            {
                                                "bin_start": 18.9181,
                                                "bin_end": 27.676899999999996,
                                                "count": 0
                                            },
                                            {
                                                "bin_start": 27.676899999999996,
                                                "bin_end": 36.4357,
                                                "count": 1
                                            },
                                            {
                                                "bin_start": 36.4357,
                                                "bin_end": 45.1945,
                                                "count": 0
                                            },
                                            {
                                                "bin_start": 45.1945,
                                                "bin_end": 53.95329999999999,
                                                "count": 1
                                            },
                                            {
                                                "bin_start": 53.95329999999999,
                                                "bin_end": 62.71209999999999,
                                                "count": 0
                                            },
                                            {
                                                "bin_start": 62.71209999999999,
                                                "bin_end": 71.47089999999999,
                                                "count": 1
                                            },
                                            {
                                                "bin_start": 71.47089999999999,
                                                "bin_end": 80.22969999999998,
                                                "count": 1
                                            },
                                            {
                                                "bin_start": 80.22969999999998,
                                                "bin_end": 88.98849999999999,
                                                "count": 1
                                            }
                                        ]
                                    }
                                },
                                {
                                    "name": "Avg_Electricity_Fossil_Fuels",
                                    "dtype": "float64",
                                    "stats": {
                                        "unique_count": 5,
                                        "nan_count": 0,
                                        "min": "0.0",
                                        "max": "1.876666666666667",
                                        "histogram": [
                                            {
                                                "bin_start": 0,
                                                "bin_end": 0.1876666666666667,
                                                "count": 4
                                            },
                                            {
                                                "bin_start": 0.1876666666666667,
                                                "bin_end": 0.3753333333333334,
                                                "count": 1
                                            },
                                            {
                                                "bin_start": 0.3753333333333334,
                                                "bin_end": 0.5630000000000002,
                                                "count": 0
                                            },
                                            {
                                                "bin_start": 0.5630000000000002,
                                                "bin_end": 0.7506666666666668,
                                                "count": 0
                                            },
                                            {
                                                "bin_start": 0.7506666666666668,
                                                "bin_end": 0.9383333333333335,
                                                "count": 0
                                            },
                                            {
                                                "bin_start": 0.9383333333333335,
                                                "bin_end": 1.1260000000000003,
                                                "count": 0
                                            },
                                            {
                                                "bin_start": 1.1260000000000003,
                                                "bin_end": 1.313666666666667,
                                                "count": 0
                                            },
                                            {
                                                "bin_start": 1.313666666666667,
                                                "bin_end": 1.5013333333333336,
                                                "count": 0
                                            },
                                            {
                                                "bin_start": 1.5013333333333336,
                                                "bin_end": 1.6890000000000003,
                                                "count": 0
                                            },
                                            {
                                                "bin_start": 1.6890000000000003,
                                                "bin_end": 1.876666666666667,
                                                "count": 1
                                            }
                                        ]
                                    }
                                },
                                {
                                    "name": "Avg_Electricity_Nuclear",
                                    "dtype": "float64",
                                    "stats": {
                                        "unique_count": 1,
                                        "nan_count": 0,
                                        "min": "0.0",
                                        "max": "0.0",
                                        "histogram": [
                                            {
                                                "bin_start": -0.5,
                                                "bin_end": -0.4,
                                                "count": 0
                                            },
                                            {
                                                "bin_start": -0.4,
                                                "bin_end": -0.3,
                                                "count": 0
                                            },
                                            {
                                                "bin_start": -0.3,
                                                "bin_end": -0.19999999999999996,
                                                "count": 0
                                            },
                                            {
                                                "bin_start": -0.19999999999999996,
                                                "bin_end": -0.09999999999999998,
                                                "count": 0
                                            },
                                            {
                                                "bin_start": -0.09999999999999998,
                                                "bin_end": 0,
                                                "count": 0
                                            },
                                            {
                                                "bin_start": 0,
                                                "bin_end": 0.10000000000000009,
                                                "count": 6
                                            },
                                            {
                                                "bin_start": 0.10000000000000009,
                                                "bin_end": 0.20000000000000007,
                                                "count": 0
                                            },
                                            {
                                                "bin_start": 0.20000000000000007,
                                                "bin_end": 0.30000000000000004,
                                                "count": 0
                                            },
                                            {
                                                "bin_start": 0.30000000000000004,
                                                "bin_end": 0.4,
                                                "count": 0
                                            },
                                            {
                                                "bin_start": 0.4,
                                                "bin_end": 0.5,
                                                "count": 0
                                            }
                                        ]
                                    }
                                },
                                {
                                    "name": "Avg_Electricity_Renewables",
                                    "dtype": "float64",
                                    "stats": {
                                        "unique_count": 4,
                                        "nan_count": 0,
                                        "min": "0.0",
                                        "max": "14.46857142857143",
                                        "histogram": [
                                            {
                                                "bin_start": 0,
                                                "bin_end": 1.446857142857143,
                                                "count": 4
                                            },
                                            {
                                                "bin_start": 1.446857142857143,
                                                "bin_end": 2.893714285714286,
                                                "count": 0
                                            },
                                            {
                                                "bin_start": 2.893714285714286,
                                                "bin_end": 4.34057142857143,
                                                "count": 0
                                            },
                                            {
                                                "bin_start": 4.34057142857143,
                                                "bin_end": 5.787428571428572,
                                                "count": 0
                                            },
                                            {
                                                "bin_start": 5.787428571428572,
                                                "bin_end": 7.234285714285715,
                                                "count": 1
                                            },
                                            {
                                                "bin_start": 7.234285714285715,
                                                "bin_end": 8.68114285714286,
                                                "count": 0
                                            },
                                            {
                                                "bin_start": 8.68114285714286,
                                                "bin_end": 10.128000000000002,
                                                "count": 0
                                            },
                                            {
                                                "bin_start": 10.128000000000002,
                                                "bin_end": 11.574857142857145,
                                                "count": 0
                                            },
                                            {
                                                "bin_start": 11.574857142857145,
                                                "bin_end": 13.021714285714287,
                                                "count": 0
                                            },
                                            {
                                                "bin_start": 13.021714285714287,
                                                "bin_end": 14.46857142857143,
                                                "count": 1
                                            }
                                        ]
                                    }
                                },
                                {
                                    "name": "Avg_Low_Carbon_Electricity",
                                    "dtype": "float64",
                                    "stats": {
                                        "unique_count": 4,
                                        "nan_count": 0,
                                        "min": "0.0",
                                        "max": "100.00000047619046",
                                        "histogram": [
                                            {
                                                "bin_start": 0,
                                                "bin_end": 10.000000047619046,
                                                "count": 3
                                            },
                                            {
                                                "bin_start": 10.000000047619046,
                                                "bin_end": 20.000000095238093,
                                                "count": 0
                                            },
                                            {
                                                "bin_start": 20.000000095238093,
                                                "bin_end": 30.00000014285714,
                                                "count": 0
                                            },
                                            {
                                                "bin_start": 30.00000014285714,
                                                "bin_end": 40.000000190476186,
                                                "count": 0
                                            },
                                            {
                                                "bin_start": 40.000000190476186,
                                                "bin_end": 50.00000023809523,
                                                "count": 0
                                            },
                                            {
                                                "bin_start": 50.00000023809523,
                                                "bin_end": 60.00000028571428,
                                                "count": 0
                                            },
                                            {
                                                "bin_start": 60.00000028571428,
                                                "bin_end": 70.00000033333333,
                                                "count": 0
                                            },
                                            {
                                                "bin_start": 70.00000033333333,
                                                "bin_end": 80.00000038095237,
                                                "count": 0
                                            },
                                            {
                                                "bin_start": 80.00000038095237,
                                                "bin_end": 90.00000042857141,
                                                "count": 0
                                            },
                                            {
                                                "bin_start": 90.00000042857141,
                                                "bin_end": 100.00000047619046,
                                                "count": 3
                                            }
                                        ]
                                    }
                                },
                                {
                                    "name": "Avg_Energy_Consumption_Per_Capita",
                                    "dtype": "float64",
                                    "stats": {
                                        "unique_count": 6,
                                        "nan_count": 0,
                                        "min": "1094.783637142857",
                                        "max": "157872.8882857143",
                                        "histogram": [
                                            {
                                                "bin_start": 1094.783637142857,
                                                "bin_end": 16772.594102,
                                                "count": 3
                                            },
                                            {
                                                "bin_start": 16772.594102,
                                                "bin_end": 32450.40456685714,
                                                "count": 1
                                            },
                                            {
                                                "bin_start": 32450.40456685714,
                                                "bin_end": 48128.21503171428,
                                                "count": 1
                                            },
                                            {
                                                "bin_start": 48128.21503171428,
                                                "bin_end": 63806.02549657143,
                                                "count": 0
                                            },
                                            {
                                                "bin_start": 63806.02549657143,
                                                "bin_end": 79483.83596142857,
                                                "count": 0
                                            },
                                            {
                                                "bin_start": 79483.83596142857,
                                                "bin_end": 95161.6464262857,
                                                "count": 0
                                            },
                                            {
                                                "bin_start": 95161.6464262857,
                                                "bin_end": 110839.45689114285,
                                                "count": 0
                                            },
                                            {
                                                "bin_start": 110839.45689114285,
                                                "bin_end": 126517.267356,
                                                "count": 0
                                            },
                                            {
                                                "bin_start": 126517.267356,
                                                "bin_end": 142195.07782085714,
                                                "count": 0
                                            },
                                            {
                                                "bin_start": 142195.07782085714,
                                                "bin_end": 157872.8882857143,
                                                "count": 1
                                            }
                                        ]
                                    }
                                },
                                {
                                    "name": "Avg_Energy_Intensity",
                                    "dtype": "float64",
                                    "stats": {
                                        "unique_count": 6,
                                        "nan_count": 0,
                                        "min": "2.3124999999999996",
                                        "max": "12.510000000000002",
                                        "histogram": [
                                            {
                                                "bin_start": 2.3124999999999996,
                                                "bin_end": 3.3322499999999997,
                                                "count": 2
                                            },
                                            {
                                                "bin_start": 3.3322499999999997,
                                                "bin_end": 4.352,
                                                "count": 1
                                            },
                                            {
                                                "bin_start": 4.352,
                                                "bin_end": 5.3717500000000005,
                                                "count": 0
                                            },
                                            {
                                                "bin_start": 5.3717500000000005,
                                                "bin_end": 6.391500000000001,
                                                "count": 0
                                            },
                                            {
                                                "bin_start": 6.391500000000001,
                                                "bin_end": 7.411250000000001,
                                                "count": 0
                                            },
                                            {
                                                "bin_start": 7.411250000000001,
                                                "bin_end": 8.431000000000001,
                                                "count": 0
                                            },
                                            {
                                                "bin_start": 8.431000000000001,
                                                "bin_end": 9.450750000000001,
                                                "count": 0
                                            },
                                            {
                                                "bin_start": 9.450750000000001,
                                                "bin_end": 10.470500000000001,
                                                "count": 0
                                            },
                                            {
                                                "bin_start": 10.470500000000001,
                                                "bin_end": 11.490250000000001,
                                                "count": 2
                                            },
                                            {
                                                "bin_start": 11.490250000000001,
                                                "bin_end": 12.510000000000002,
                                                "count": 1
                                            }
                                        ]
                                    }
                                },
                                {
                                    "name": "Avg_CO2_Emissions",
                                    "dtype": "float64",
                                    "stats": {
                                        "unique_count": 5,
                                        "nan_count": 1,
                                        "min": "172.000000955",
                                        "max": "2047.9999907000001",
                                        "histogram": [
                                            {
                                                "bin_start": 172.000000955,
                                                "bin_end": 359.5999999295,
                                                "count": 1
                                            },
                                            {
                                                "bin_start": 359.5999999295,
                                                "bin_end": 547.199998904,
                                                "count": 3
                                            },
                                            {
                                                "bin_start": 547.199998904,
                                                "bin_end": 734.7999978785,
                                                "count": 0
                                            },
                                            {
                                                "bin_start": 734.7999978785,
                                                "bin_end": 922.3999968530001,
                                                "count": 0
                                            },
                                            {
                                                "bin_start": 922.3999968530001,
                                                "bin_end": 1109.9999958275,
                                                "count": 0
                                            },
                                            {
                                                "bin_start": 1109.9999958275,
                                                "bin_end": 1297.5999948019999,
                                                "count": 0
                                            },
                                            {
                                                "bin_start": 1297.5999948019999,
                                                "bin_end": 1485.1999937765,
                                                "count": 0
                                            },
                                            {
                                                "bin_start": 1485.1999937765,
                                                "bin_end": 1672.799992751,
                                                "count": 0
                                            },
                                            {
                                                "bin_start": 1672.799992751,
                                                "bin_end": 1860.3999917255,
                                                "count": 0
                                            },
                                            {
                                                "bin_start": 1860.3999917255,
                                                "bin_end": 2047.9999907000001,
                                                "count": 1
                                            }
                                        ]
                                    }
                                },
                                {
                                    "name": "Avg_Renewables_Equivalent",
                                    "dtype": "float64",
                                    "stats": {
                                        "unique_count": 1,
                                        "nan_count": 5,
                                        "min": "77.35559938095238",
                                        "max": "77.35559938095238",
                                        "histogram": [
                                            {
                                                "bin_start": 76.85559938095238,
                                                "bin_end": 76.95559938095238,
                                                "count": 0
                                            },
                                            {
                                                "bin_start": 76.95559938095238,
                                                "bin_end": 77.05559938095239,
                                                "count": 0
                                            },
                                            {
                                                "bin_start": 77.05559938095239,
                                                "bin_end": 77.15559938095238,
                                                "count": 0
                                            },
                                            {
                                                "bin_start": 77.15559938095238,
                                                "bin_end": 77.25559938095239,
                                                "count": 0
                                            },
                                            {
                                                "bin_start": 77.25559938095239,
                                                "bin_end": 77.35559938095238,
                                                "count": 0
                                            },
                                            {
                                                "bin_start": 77.35559938095238,
                                                "bin_end": 77.45559938095238,
                                                "count": 1
                                            },
                                            {
                                                "bin_start": 77.45559938095238,
                                                "bin_end": 77.55559938095239,
                                                "count": 0
                                            },
                                            {
                                                "bin_start": 77.55559938095239,
                                                "bin_end": 77.65559938095238,
                                                "count": 0
                                            },
                                            {
                                                "bin_start": 77.65559938095238,
                                                "bin_end": 77.75559938095239,
                                                "count": 0
                                            },
                                            {
                                                "bin_start": 77.75559938095239,
                                                "bin_end": 77.85559938095238,
                                                "count": 0
                                            }
                                        ]
                                    }
                                },
                                {
                                    "name": "Avg_GDP_Growth",
                                    "dtype": "float64",
                                    "stats": {
                                        "unique_count": 5,
                                        "nan_count": 1,
                                        "min": "2.030359876904762",
                                        "max": "6.277258395904762",
                                        "histogram": [
                                            {
                                                "bin_start": 2.030359876904762,
                                                "bin_end": 2.455049728804762,
                                                "count": 1
                                            },
                                            {
                                                "bin_start": 2.455049728804762,
                                                "bin_end": 2.879739580704762,
                                                "count": 1
                                            },
                                            {
                                                "bin_start": 2.879739580704762,
                                                "bin_end": 3.304429432604762,
                                                "count": 1
                                            },
                                            {
                                                "bin_start": 3.304429432604762,
                                                "bin_end": 3.729119284504762,
                                                "count": 0
                                            },
                                            {
                                                "bin_start": 3.729119284504762,
                                                "bin_end": 4.153809136404762,
                                                "count": 0
                                            },
                                            {
                                                "bin_start": 4.153809136404762,
                                                "bin_end": 4.578498988304762,
                                                "count": 0
                                            },
                                            {
                                                "bin_start": 4.578498988304762,
                                                "bin_end": 5.003188840204762,
                                                "count": 0
                                            },
                                            {
                                                "bin_start": 5.003188840204762,
                                                "bin_end": 5.427878692104763,
                                                "count": 0
                                            },
                                            {
                                                "bin_start": 5.427878692104763,
                                                "bin_end": 5.852568544004763,
                                                "count": 0
                                            },
                                            {
                                                "bin_start": 5.852568544004763,
                                                "bin_end": 6.277258395904762,
                                                "count": 2
                                            }
                                        ]
                                    }
                                },
                                {
                                    "name": "Avg_GDP_Per_Capita",
                                    "dtype": "float64",
                                    "stats": {
                                        "unique_count": 5,
                                        "nan_count": 1,
                                        "min": "921.7392021",
                                        "max": "52057.283799047626",
                                        "histogram": [
                                            {
                                                "bin_start": 921.7392021,
                                                "bin_end": 6035.2936617947635,
                                                "count": 4
                                            },
                                            {
                                                "bin_start": 6035.2936617947635,
                                                "bin_end": 11148.848121489526,
                                                "count": 0
                                            },
                                            {
                                                "bin_start": 11148.848121489526,
                                                "bin_end": 16262.40258118429,
                                                "count": 0
                                            },
                                            {
                                                "bin_start": 16262.40258118429,
                                                "bin_end": 21375.957040879053,
                                                "count": 0
                                            },
                                            {
                                                "bin_start": 21375.957040879053,
                                                "bin_end": 26489.511500573815,
                                                "count": 0
                                            },
                                            {
                                                "bin_start": 26489.511500573815,
                                                "bin_end": 31603.06596026858,
                                                "count": 0
                                            },
                                            {
                                                "bin_start": 31603.06596026858,
                                                "bin_end": 36716.620419963336,
                                                "count": 0
                                            },
                                            {
                                                "bin_start": 36716.620419963336,
                                                "bin_end": 41830.1748796581,
                                                "count": 0
                                            },
                                            {
                                                "bin_start": 41830.1748796581,
                                                "bin_end": 46943.72933935287,
                                                "count": 0
                                            },
                                            {
                                                "bin_start": 46943.72933935287,
                                                "bin_end": 52057.283799047626,
                                                "count": 1
                                            }
                                        ]
                                    }
                                },
                                {
                                    "name": "Avg_Population_Density",
                                    "dtype": "float64",
                                    "stats": {
                                        "unique_count": 6,
                                        "nan_count": 0,
                                        "min": "3.0",
                                        "max": "467.0",
                                        "histogram": [
                                            {
                                                "bin_start": 3,
                                                "bin_end": 49.4,
                                                "count": 4
                                            },
                                            {
                                                "bin_start": 49.4,
                                                "bin_end": 95.8,
                                                "count": 1
                                            },
                                            {
                                                "bin_start": 95.8,
                                                "bin_end": 142.2,
                                                "count": 0
                                            },
                                            {
                                                "bin_start": 142.2,
                                                "bin_end": 188.6,
                                                "count": 0
                                            },
                                            {
                                                "bin_start": 188.6,
                                                "bin_end": 235,
                                                "count": 0
                                            },
                                            {
                                                "bin_start": 235,
                                                "bin_end": 281.4,
                                                "count": 0
                                            },
                                            {
                                                "bin_start": 281.4,
                                                "bin_end": 327.8,
                                                "count": 0
                                            },
                                            {
                                                "bin_start": 327.8,
                                                "bin_end": 374.2,
                                                "count": 0
                                            },
                                            {
                                                "bin_start": 374.2,
                                                "bin_end": 420.59999999999997,
                                                "count": 0
                                            },
                                            {
                                                "bin_start": 420.59999999999997,
                                                "bin_end": 467,
                                                "count": 1
                                            }
                                        ]
                                    }
                                },
                                {
                                    "name": "Avg_Land_Area",
                                    "dtype": "float64",
                                    "stats": {
                                        "unique_count": 6,
                                        "nan_count": 0,
                                        "min": "2235.0",
                                        "max": "103000.0",
                                        "histogram": [
                                            {
                                                "bin_start": 2235,
                                                "bin_end": 12311.5,
                                                "count": 1
                                            },
                                            {
                                                "bin_start": 12311.5,
                                                "bin_end": 22388,
                                                "count": 1
                                            },
                                            {
                                                "bin_start": 22388,
                                                "bin_end": 32464.5,
                                                "count": 2
                                            },
                                            {
                                                "bin_start": 32464.5,
                                                "bin_end": 42541,
                                                "count": 1
                                            },
                                            {
                                                "bin_start": 42541,
                                                "bin_end": 52617.5,
                                                "count": 0
                                            },
                                            {
                                                "bin_start": 52617.5,
                                                "bin_end": 62694,
                                                "count": 0
                                            },
                                            {
                                                "bin_start": 62694,
                                                "bin_end": 72770.5,
                                                "count": 0
                                            },
                                            {
                                                "bin_start": 72770.5,
                                                "bin_end": 82847,
                                                "count": 0
                                            },
                                            {
                                                "bin_start": 82847,
                                                "bin_end": 92923.5,
                                                "count": 0
                                            },
                                            {
                                                "bin_start": 92923.5,
                                                "bin_end": 103000,
                                                "count": 1
                                            }
                                        ]
                                    }
                                },
                                {
                                    "name": "_deepnote_index_column",
                                    "dtype": "int64"
                                }
                            ],
                            "rows": [
                                {
                                    "Country": "Bhutan",
                                    "Avg_Year": 2010,
                                    "Avg_Access_to_Electricity": 74.13042176190477,
                                    "Avg_Access_to_Clean_Cooking": 59.85476190476191,
                                    "Avg_Renewable_Electricity_Capacity": 1747.4747619047623,
                                    "Avg_Financial_Flows": 17509444.444444444,
                                    "Avg_Renewable_Energy_Share": 88.98849999999999,
                                    "Avg_Electricity_Fossil_Fuels": 0,
                                    "Avg_Electricity_Nuclear": 0,
                                    "Avg_Electricity_Renewables": 5.800952380952381,
                                    "Avg_Low_Carbon_Electricity": 100.00000047619046,
                                    "Avg_Energy_Consumption_Per_Capita": 19637.740333333335,
                                    "Avg_Energy_Intensity": 11.476499999999998,
                                    "Avg_CO2_Emissions": 528.999992545,
                                    "Avg_Renewables_Equivalent": "nan",
                                    "Avg_GDP_Growth": 6.277258395904762,
                                    "Avg_GDP_Per_Capita": 2064.0418476,
                                    "Avg_Population_Density": 20,
                                    "Avg_Land_Area": 38394,
                                    "_deepnote_index_column": 0
                                },
                                {
                                    "Country": "Lesotho",
                                    "Avg_Year": 2010,
                                    "Avg_Access_to_Electricity": 21.009955980952377,
                                    "Avg_Access_to_Clean_Cooking": 29.935714285714283,
                                    "Avg_Renewable_Electricity_Capacity": 36.55571428571429,
                                    "Avg_Financial_Flows": 1989285.7142857143,
                                    "Avg_Renewable_Energy_Share": 49.3635,
                                    "Avg_Electricity_Fossil_Fuels": 0,
                                    "Avg_Electricity_Nuclear": 0,
                                    "Avg_Electricity_Renewables": 0.48047619047619045,
                                    "Avg_Low_Carbon_Electricity": 100,
                                    "Avg_Energy_Consumption_Per_Capita": 1838.1181142857142,
                                    "Avg_Energy_Intensity": 10.8045,
                                    "Avg_CO2_Emissions": 541.499999585,
                                    "Avg_Renewables_Equivalent": "nan",
                                    "Avg_GDP_Growth": 2.030359876904762,
                                    "Avg_GDP_Per_Capita": 921.7392021,
                                    "Avg_Population_Density": 71,
                                    "Avg_Land_Area": 30355,
                                    "_deepnote_index_column": 1
                                },
                                {
                                    "Country": "Iceland",
                                    "Avg_Year": 2010,
                                    "Avg_Access_to_Electricity": 100,
                                    "Avg_Access_to_Clean_Cooking": 100,
                                    "Avg_Renewable_Electricity_Capacity": "nan",
                                    "Avg_Financial_Flows": "nan",
                                    "Avg_Renewable_Energy_Share": 71.75699999999999,
                                    "Avg_Electricity_Fossil_Fuels": 0.002380952380952381,
                                    "Avg_Electricity_Nuclear": 0,
                                    "Avg_Electricity_Renewables": 14.46857142857143,
                                    "Avg_Low_Carbon_Electricity": 99.9727319047619,
                                    "Avg_Energy_Consumption_Per_Capita": 157872.8882857143,
                                    "Avg_Energy_Intensity": 12.510000000000002,
                                    "Avg_CO2_Emissions": 2047.9999907000001,
                                    "Avg_Renewables_Equivalent": 77.35559938095238,
                                    "Avg_GDP_Growth": 2.7152301724761907,
                                    "Avg_GDP_Per_Capita": 52057.283799047626,
                                    "Avg_Population_Density": 3,
                                    "Avg_Land_Area": 103000,
                                    "_deepnote_index_column": 2
                                },
                                {
                                    "Country": "Bahamas",
                                    "Avg_Year": 2010,
                                    "Avg_Access_to_Electricity": 100,
                                    "Avg_Access_to_Clean_Cooking": 100,
                                    "Avg_Renewable_Electricity_Capacity": 1.7176190476190476,
                                    "Avg_Financial_Flows": 230000,
                                    "Avg_Renewable_Energy_Share": 1.4005000000000003,
                                    "Avg_Electricity_Fossil_Fuels": 1.876666666666667,
                                    "Avg_Electricity_Nuclear": 0,
                                    "Avg_Electricity_Renewables": 0,
                                    "Avg_Low_Carbon_Electricity": 0,
                                    "Avg_Energy_Consumption_Per_Capita": 38853.911523809526,
                                    "Avg_Energy_Intensity": 2.3124999999999996,
                                    "Avg_CO2_Emissions": "nan",
                                    "Avg_Renewables_Equivalent": "nan",
                                    "Avg_GDP_Growth": "nan",
                                    "Avg_GDP_Per_Capita": "nan",
                                    "Avg_Population_Density": 41,
                                    "Avg_Land_Area": 13878,
                                    "_deepnote_index_column": 3
                                },
                                {
                                    "Country": "Comoros",
                                    "Avg_Year": 2010,
                                    "Avg_Access_to_Electricity": 63.582091999999996,
                                    "Avg_Access_to_Clean_Cooking": 3.7190476190476187,
                                    "Avg_Renewable_Electricity_Capacity": 1.7333333333333332,
                                    "Avg_Financial_Flows": 2101666.6666666665,
                                    "Avg_Renewable_Energy_Share": 65.15650000000001,
                                    "Avg_Electricity_Fossil_Fuels": 0.05238095238095238,
                                    "Avg_Electricity_Nuclear": 0,
                                    "Avg_Electricity_Renewables": 0,
                                    "Avg_Low_Carbon_Electricity": 0,
                                    "Avg_Energy_Consumption_Per_Capita": 1094.783637142857,
                                    "Avg_Energy_Intensity": 2.776,
                                    "Avg_CO2_Emissions": 172.000000955,
                                    "Avg_Renewables_Equivalent": "nan",
                                    "Avg_GDP_Growth": 3.0588270153333332,
                                    "Avg_GDP_Per_Capita": 1214.9538366380955,
                                    "Avg_Population_Density": 467,
                                    "Avg_Land_Area": 2235,
                                    "_deepnote_index_column": 4
                                },
                                {
                                    "Country": "Djibouti",
                                    "Avg_Year": 2010,
                                    "Avg_Access_to_Electricity": 56.916622619047615,
                                    "Avg_Access_to_Clean_Cooking": 6.619047619047619,
                                    "Avg_Renewable_Electricity_Capacity": 0.1542857142857143,
                                    "Avg_Financial_Flows": 8841666.666666666,
                                    "Avg_Renewable_Energy_Share": 31.2305,
                                    "Avg_Electricity_Fossil_Fuels": 0.21190476190476187,
                                    "Avg_Electricity_Nuclear": 0,
                                    "Avg_Electricity_Renewables": 0,
                                    "Avg_Low_Carbon_Electricity": 0,
                                    "Avg_Energy_Consumption_Per_Capita": 3780.8316619047623,
                                    "Avg_Energy_Intensity": 4.1675,
                                    "Avg_CO2_Emissions": 440.4999986400001,
                                    "Avg_Renewables_Equivalent": "nan",
                                    "Avg_GDP_Growth": 6.213076993714286,
                                    "Avg_GDP_Per_Capita": 1758.461768747619,
                                    "Avg_Population_Density": 43,
                                    "Avg_Land_Area": 23200,
                                    "_deepnote_index_column": 5
                                }
                            ]
                        },
                        "text/plain": "    Country  Avg_Year  Avg_Access_to_Electricity  Avg_Access_to_Clean_Cooking  \\\n0    Bhutan    2010.0                  74.130422                    59.854762   \n1   Lesotho    2010.0                  21.009956                    29.935714   \n2   Iceland    2010.0                 100.000000                   100.000000   \n3   Bahamas    2010.0                 100.000000                   100.000000   \n4   Comoros    2010.0                  63.582092                     3.719048   \n5  Djibouti    2010.0                  56.916623                     6.619048   \n\n   Avg_Renewable_Electricity_Capacity  Avg_Financial_Flows  \\\n0                         1747.474762         1.750944e+07   \n1                           36.555714         1.989286e+06   \n2                                 NaN                  NaN   \n3                            1.717619         2.300000e+05   \n4                            1.733333         2.101667e+06   \n5                            0.154286         8.841667e+06   \n\n   Avg_Renewable_Energy_Share  Avg_Electricity_Fossil_Fuels  \\\n0                     88.9885                      0.000000   \n1                     49.3635                      0.000000   \n2                     71.7570                      0.002381   \n3                      1.4005                      1.876667   \n4                     65.1565                      0.052381   \n5                     31.2305                      0.211905   \n\n   Avg_Electricity_Nuclear  Avg_Electricity_Renewables  \\\n0                      0.0                    5.800952   \n1                      0.0                    0.480476   \n2                      0.0                   14.468571   \n3                      0.0                    0.000000   \n4                      0.0                    0.000000   \n5                      0.0                    0.000000   \n\n   Avg_Low_Carbon_Electricity  Avg_Energy_Consumption_Per_Capita  \\\n0                  100.000000                       19637.740333   \n1                  100.000000                        1838.118114   \n2                   99.972732                      157872.888286   \n3                    0.000000                       38853.911524   \n4                    0.000000                        1094.783637   \n5                    0.000000                        3780.831662   \n\n   Avg_Energy_Intensity  Avg_CO2_Emissions  Avg_Renewables_Equivalent  \\\n0               11.4765         528.999993                        NaN   \n1               10.8045         541.500000                        NaN   \n2               12.5100        2047.999991                  77.355599   \n3                2.3125                NaN                        NaN   \n4                2.7760         172.000001                        NaN   \n5                4.1675         440.499999                        NaN   \n\n   Avg_GDP_Growth  Avg_GDP_Per_Capita  Avg_Population_Density  Avg_Land_Area  \n0        6.277258         2064.041848                    20.0        38394.0  \n1        2.030360          921.739202                    71.0        30355.0  \n2        2.715230        52057.283799                     3.0       103000.0  \n3             NaN                 NaN                    41.0        13878.0  \n4        3.058827         1214.953837                   467.0         2235.0  \n5        6.213077         1758.461769                    43.0        23200.0  ",
                        "text/html": "<div>\n<style scoped>\n    .dataframe tbody tr th:only-of-type {\n        vertical-align: middle;\n    }\n\n    .dataframe tbody tr th {\n        vertical-align: top;\n    }\n\n    .dataframe thead th {\n        text-align: right;\n    }\n</style>\n<table border=\"1\" class=\"dataframe\">\n  <thead>\n    <tr style=\"text-align: right;\">\n      <th></th>\n      <th>Country</th>\n      <th>Avg_Year</th>\n      <th>Avg_Access_to_Electricity</th>\n      <th>Avg_Access_to_Clean_Cooking</th>\n      <th>Avg_Renewable_Electricity_Capacity</th>\n      <th>Avg_Financial_Flows</th>\n      <th>Avg_Renewable_Energy_Share</th>\n      <th>Avg_Electricity_Fossil_Fuels</th>\n      <th>Avg_Electricity_Nuclear</th>\n      <th>Avg_Electricity_Renewables</th>\n      <th>Avg_Low_Carbon_Electricity</th>\n      <th>Avg_Energy_Consumption_Per_Capita</th>\n      <th>Avg_Energy_Intensity</th>\n      <th>Avg_CO2_Emissions</th>\n      <th>Avg_Renewables_Equivalent</th>\n      <th>Avg_GDP_Growth</th>\n      <th>Avg_GDP_Per_Capita</th>\n      <th>Avg_Population_Density</th>\n      <th>Avg_Land_Area</th>\n    </tr>\n  </thead>\n  <tbody>\n    <tr>\n      <th>0</th>\n      <td>Bhutan</td>\n      <td>2010.0</td>\n      <td>74.130422</td>\n      <td>59.854762</td>\n      <td>1747.474762</td>\n      <td>1.750944e+07</td>\n      <td>88.9885</td>\n      <td>0.000000</td>\n      <td>0.0</td>\n      <td>5.800952</td>\n      <td>100.000000</td>\n      <td>19637.740333</td>\n      <td>11.4765</td>\n      <td>528.999993</td>\n      <td>NaN</td>\n      <td>6.277258</td>\n      <td>2064.041848</td>\n      <td>20.0</td>\n      <td>38394.0</td>\n    </tr>\n    <tr>\n      <th>1</th>\n      <td>Lesotho</td>\n      <td>2010.0</td>\n      <td>21.009956</td>\n      <td>29.935714</td>\n      <td>36.555714</td>\n      <td>1.989286e+06</td>\n      <td>49.3635</td>\n      <td>0.000000</td>\n      <td>0.0</td>\n      <td>0.480476</td>\n      <td>100.000000</td>\n      <td>1838.118114</td>\n      <td>10.8045</td>\n      <td>541.500000</td>\n      <td>NaN</td>\n      <td>2.030360</td>\n      <td>921.739202</td>\n      <td>71.0</td>\n      <td>30355.0</td>\n    </tr>\n    <tr>\n      <th>2</th>\n      <td>Iceland</td>\n      <td>2010.0</td>\n      <td>100.000000</td>\n      <td>100.000000</td>\n      <td>NaN</td>\n      <td>NaN</td>\n      <td>71.7570</td>\n      <td>0.002381</td>\n      <td>0.0</td>\n      <td>14.468571</td>\n      <td>99.972732</td>\n      <td>157872.888286</td>\n      <td>12.5100</td>\n      <td>2047.999991</td>\n      <td>77.355599</td>\n      <td>2.715230</td>\n      <td>52057.283799</td>\n      <td>3.0</td>\n      <td>103000.0</td>\n    </tr>\n    <tr>\n      <th>3</th>\n      <td>Bahamas</td>\n      <td>2010.0</td>\n      <td>100.000000</td>\n      <td>100.000000</td>\n      <td>1.717619</td>\n      <td>2.300000e+05</td>\n      <td>1.4005</td>\n      <td>1.876667</td>\n      <td>0.0</td>\n      <td>0.000000</td>\n      <td>0.000000</td>\n      <td>38853.911524</td>\n      <td>2.3125</td>\n      <td>NaN</td>\n      <td>NaN</td>\n      <td>NaN</td>\n      <td>NaN</td>\n      <td>41.0</td>\n      <td>13878.0</td>\n    </tr>\n    <tr>\n      <th>4</th>\n      <td>Comoros</td>\n      <td>2010.0</td>\n      <td>63.582092</td>\n      <td>3.719048</td>\n      <td>1.733333</td>\n      <td>2.101667e+06</td>\n      <td>65.1565</td>\n      <td>0.052381</td>\n      <td>0.0</td>\n      <td>0.000000</td>\n      <td>0.000000</td>\n      <td>1094.783637</td>\n      <td>2.7760</td>\n      <td>172.000001</td>\n      <td>NaN</td>\n      <td>3.058827</td>\n      <td>1214.953837</td>\n      <td>467.0</td>\n      <td>2235.0</td>\n    </tr>\n    <tr>\n      <th>5</th>\n      <td>Djibouti</td>\n      <td>2010.0</td>\n      <td>56.916623</td>\n      <td>6.619048</td>\n      <td>0.154286</td>\n      <td>8.841667e+06</td>\n      <td>31.2305</td>\n      <td>0.211905</td>\n      <td>0.0</td>\n      <td>0.000000</td>\n      <td>0.000000</td>\n      <td>3780.831662</td>\n      <td>4.1675</td>\n      <td>440.499999</td>\n      <td>NaN</td>\n      <td>6.213077</td>\n      <td>1758.461769</td>\n      <td>43.0</td>\n      <td>23200.0</td>\n    </tr>\n  </tbody>\n</table>\n</div>"
                    },
                    "metadata": {}
                }
            ],
            "outputs_reference": "s3:deepnote-cell-outputs-production/0d96b729-fa44-4e8c-92ba-1960d60d8a07",
            "content_dependencies": null
        },
        {
            "cell_type": "markdown",
            "metadata": {
                "formattedRanges": [],
                "cell_id": "d63308a297fd45a3b7b60d3f13468942",
                "deepnote_cell_type": "text-cell-h3"
            },
            "source": "### Conclusion",
            "block_group": "1e05f8081f294c2da6153355842d78ca"
        },
        {
            "cell_type": "markdown",
            "source": "<a style='text-decoration:none;line-height:16px;display:flex;color:#5B5B62;padding:10px;justify-content:end;' href='https://deepnote.com?utm_source=created-in-deepnote-cell&projectId=b5103fd3-59d0-4ce0-bbe9-c4f551260147' target=\"_blank\">\n<img alt='Created in deepnote.com' style='display:inline;max-height:16px;margin:0px;margin-right:7.5px;' src='data:image/svg+xml;base64,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' > </img>\nCreated in <span style='font-weight:600;margin-left:4px;'>Deepnote</span></a>",
            "metadata": {
                "created_in_deepnote_cell": true,
                "deepnote_cell_type": "markdown"
            }
        }
    ],
    "nbformat": 4,
    "nbformat_minor": 0,
    "metadata": {
        "deepnote_full_width": false,
        "deepnote_notebook_id": "7d3513a9ca54478dadd1a6bfe9733301"
    }
}